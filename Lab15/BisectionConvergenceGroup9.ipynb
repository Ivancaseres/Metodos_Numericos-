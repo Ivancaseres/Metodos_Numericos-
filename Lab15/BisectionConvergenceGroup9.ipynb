{
  "nbformat": 4,
  "nbformat_minor": 0,
  "metadata": {
    "colab": {
      "name": "BisectionConvergenceGroup9.ipynb",
      "provenance": [],
      "collapsed_sections": [],
      "include_colab_link": true
    },
    "kernelspec": {
      "name": "python3",
      "display_name": "Python 3"
    }
  },
  "cells": [
    {
      "cell_type": "markdown",
      "metadata": {
        "id": "view-in-github",
        "colab_type": "text"
      },
      "source": [
        "<a href=\"https://colab.research.google.com/github/icaseres/MetNumUN2021II/blob/main/Lab15/BisectionConvergenceGroup9.ipynb\" target=\"_parent\"><img src=\"https://colab.research.google.com/assets/colab-badge.svg\" alt=\"Open In Colab\"/></a>"
      ]
    },
    {
      "cell_type": "code",
      "metadata": {
        "id": "2TyCyWKZrFqE"
      },
      "source": [
        "import matplotlib.pyplot as plt\n",
        "import numpy as np"
      ],
      "execution_count": 8,
      "outputs": []
    },
    {
      "cell_type": "code",
      "metadata": {
        "id": "BNESTRW1rE3v",
        "outputId": "b6048724-1847-4d10-a989-f8ccd95447c9",
        "colab": {
          "base_uri": "https://localhost:8080/",
          "height": 281
        }
      },
      "source": [
        "extent = 0.0, 4.0, 0.0, 4.0 \n",
        "   \n",
        "width = 400\n",
        "height= 400\n",
        "pixels = np.full((width,height,3),0)\n",
        "for i in range(width):\n",
        "  for j in range(height):\n",
        "    if (j>i+100): \n",
        "      pixels[height-j-1,i,0] = pixels[height-j-1,i,1] = pixels[height-j-1,i,2] = 255\n",
        "      #print(i,j)\n",
        "\n",
        "plt.title('bisection_convergence')\n",
        "plt.imshow(pixels,extent = extent)\n",
        "plt.show()"
      ],
      "execution_count": 2,
      "outputs": [
        {
          "output_type": "display_data",
          "data": {
            "image/png": "[encoded data removed]",
            "text/plain": [
              "<Figure size 432x288 with 1 Axes>"
            ]
          },
          "metadata": {
            "needs_background": "light"
          }
        }
      ]
    },
    {
      "cell_type": "code",
      "metadata": {
        "id": "YHJvkN4Anqac",
        "outputId": "cbe07996-03c4-493e-a8b9-2a9c2c58acb5",
        "colab": {
          "base_uri": "https://localhost:8080/",
          "height": 312
        }
      },
      "source": [
        "# Based on https://www.geeksforgeeks.org/program-for-bisection-method/\n",
        "# Python program for implementation \n",
        "# of Bisection Method for \n",
        "# solving equations \n",
        "  \n",
        "\n",
        "\n",
        "def func(x): \n",
        "    return (x-1)*(x-2)*(x-3)*(x-4)*(x-5)\n",
        "\n",
        "\n",
        "x = np.linspace(0.0,6.0,500)\n",
        "fig, ax = plt.subplots()\n",
        "ax.plot(x,func(x))\n",
        "ax.axhline(y=0, color='k')\n",
        "ax.axvline(x=0, color='k')\n",
        "ax.grid(True, which='both')\n",
        "plt.title('f(x) = (x-1)(x-2)(x-1)(x-4)(x*5)')\n",
        "plt.xlabel('x')\n",
        "plt.ylabel('f(x)')\n"
      ],
      "execution_count": 12,
      "outputs": [
        {
          "output_type": "execute_result",
          "data": {
            "text/plain": [
              "Text(0, 0.5, 'f(x)')"
            ]
          },
          "metadata": {},
          "execution_count": 12
        },
        {
          "output_type": "display_data",
          "data": {
            "image/png": "[encoded data removed]",
            "text/plain": [
              "<Figure size 432x288 with 1 Axes>"
            ]
          },
          "metadata": {
            "needs_background": "light"
          }
        }
      ]
    },
    {
      "cell_type": "code",
      "metadata": {
        "id": "6Vd93Vz1psE3",
        "outputId": "e3809ffb-3cff-465d-a4a6-10e8339eb3cd",
        "colab": {
          "base_uri": "https://localhost:8080/",
          "height": 295
        }
      },
      "source": [
        "width = height = 80\n",
        "xi=0.0\n",
        "xf=6.0\n",
        "eps = 1e-3\n",
        "mxiter = 1e4\n",
        "\n",
        "pixels = np.full((width,height,3),0)\n",
        "# roots\n",
        "r1 = 1\n",
        "r2 = 2\n",
        "r3 = 3\n",
        "r4 = 4\n",
        "r5 =5\n",
        "   \n",
        "multcol = 6\n",
        "\n",
        "for i in range(height):\n",
        "            \n",
        "            aa =   float(xi + (i * (xf-xi) /height))\n",
        "            \n",
        "            for j in range(width):\n",
        "                bb= float(xi + (j* (xf-xi)/ width))\n",
        "\n",
        "                a = aa\n",
        "                b = bb\n",
        "                c=a\n",
        "                iter = 0\n",
        "                \n",
        "                while ((b-a) >= eps and (func(a) * func(b) <= 0)): \n",
        "                   \n",
        "                    # Check if a is root \n",
        "                    if (func(a) == 0.0): \n",
        "                      c=a\n",
        "                      break\n",
        "\n",
        "                    # Check if b is root \n",
        "                    if (func(b) == 0.0): \n",
        "                      c=b\n",
        "                      break\n",
        "  \n",
        "                    # Find middle point \n",
        "                    c = (a+b)/2\n",
        "    \n",
        "                    # Decide the side to repeat the steps \n",
        "                    if (func(c)*func(a) < 0): \n",
        "                        b = c \n",
        "                    else: \n",
        "                        a = c \n",
        "                    \n",
        "                    iter = iter + 1\n",
        "                    \n",
        "                    if (iter > mxiter):\n",
        "                     break\n",
        "\n",
        "                # Pixels colored using the roots\n",
        "                if abs(c-r1)<eps:\n",
        "                    # color red\n",
        "                    pixels[height-j-1,i] = (255 - iter*multcol, 0, 0)\n",
        "                elif abs(c-r2)<=eps:\n",
        "                    # color green\n",
        "                    pixels[height-j-1,i] = (0, 255 - iter*multcol, 0)\n",
        "                elif abs(c-r3)<=eps:\n",
        "                    # color blue\n",
        "                    pixels[height-j-1,i] = (0, 0, 255 - iter*multcol)\n",
        "                elif abs(c-r4)<=eps:\n",
        "                    pixels[height-j-1,i] = (255 - iter*multcol, 0, 255 - iter*multcol)\n",
        "                elif abs(c-r5)<=eps:\n",
        "                    pixels[height-j-1,i] = (255 - iter*multcol, 0, 200 - iter*multcol)\n",
        "                elif (b < a):\n",
        "                    # color yellow \n",
        "                    pixels[height-j-1,i] = (255, 255, 0)\n",
        "                elif (func(a) * func(b) >= 0):\n",
        "                    # color white, does not converge\n",
        "                    pixels[height-j-1,i] = (255, 255, 255)\n",
        "                else:   \n",
        "                    pixels[height-j-1,i] = (0, 0, 0)\n",
        "\n",
        "                \n",
        "     \n",
        "plt.title('bisection_convergence')\n",
        "plt.xlabel(\"a in (\"+str(xi)+\",\"+str(xf)+\")\")\n",
        "plt.ylabel(\"b in (\"+str(xi)+\",\"+str(xf)+\")\")\n",
        "extent = xi, xf, xi, xf\n",
        "plt.imshow(pixels,extent =extent)\n",
        "plt.show()"
      ],
      "execution_count": 15,
      "outputs": [
        {
          "output_type": "display_data",
          "data": {
            "image/png": "[encoded data removed]",
            "text/plain": [
              "<Figure size 432x288 with 1 Axes>"
            ]
          },
          "metadata": {
            "needs_background": "light"
          }
        }
      ]
    },
    {
      "cell_type": "markdown",
      "source": [
        "Las regiones donde se converge a un número concreto cumplen con 2 condiciones:\n",
        "\n",
        "1) el número b es mayor o igual que el número a (para el correcto funcionamiento del algoritmo)\n",
        "\n",
        "2) la multiplicación de las imágenes del número b y del número a debe negativa (esto indica un cambio de signo en la función en el intervalo (a,b) y asegura que existe un cero en éste)\n",
        "\n",
        "Dicho lo anterior, se puede especificar la convergencia de las regiones con mayor facilidad:\n",
        "\n",
        "Si $ a\\in \\left [ 0,1 \\right ) $ y $ b\\in \\left ( 1,2 \\right ) $ se converge a 1 (al color rojo en la gráfica de colores)\n",
        "\n",
        "Si $ a\\in \\left ( 1,2 \\right ) $ y $ b\\in \\left ( 2,3 \\right ) $ se converge a 2 (al color verde)\n",
        "\n",
        "Si $ a\\in \\left ( 2,3 \\right ) $ y $ b\\in \\left ( 3,4 \\right ) $ se converge a 3 (al color azul)\n",
        "\n",
        "Si $ a\\in \\left ( 3,4 \\right ) $ y $ b\\in \\left ( 4,5 \\right ) $ se converge a 4 (al color violeta)\n",
        "\n",
        "Si $ a $ o $ b $ son una raíz convergerán a esa misma raíz.\n",
        "\n",
        "Visualizando la gráfica de la función se puede ver el porqué se converge a las raices descritas anteriormente, sin embargo, surge la duda de que ocurre cuando los intervalos de $a$ y $b$ no son continuos pero cumplen con las condiciones iniciales, su comportamiento no parece ser intuitivo a simple vista, pero la gráfica de colores sí nos da información para describir la región:\n",
        "\n",
        "Si $ a\\in \\left [ 0,1 \\right ) $ y $ b\\in \\left ( 3,4 \\right ) $ se tiene la recta $ a + b = 4 $ para converger al 2, la desigualdad $ a + b < 4 $ para converger al 1 y la desigualdad $ a + b > 4 $ para converger al 3.\n",
        "\n",
        "Igualmente para el caso donde $ a\\in \\left ( 1,2 \\right ) $ y $ b\\in \\left ( 4,5 \\right ) $ se tiene la recta $ a + b = 6 $ para converger al 3, la desigualdad $ a + b < 6 $ para converger al 2 y la desigualdad $ a + b > 6 $ para converger al 4.\n",
        "\n",
        "Finalmente describiendo las regiones donde no se cumple alguna de las condiciones iniciales se tiene el caso trivial donde $ b < a $ el cual se pinta de amarillo. Cuando las imágenes de $ b $ y $a$ no tienen un cambio de signo (de lo cual se deduce que no existe ningun 0 en el intervalo, y por tanto no funcionaría el algoritmo) se pinta de blanco la región.\n"
      ],
      "metadata": {
        "id": "P3KIRlgl5xks"
      }
    },
    {
      "cell_type": "code",
      "metadata": {
        "id": "5qhnq7IkGGCg",
        "outputId": "bc82d706-138f-477c-9c5d-936c468e4038",
        "colab": {
          "base_uri": "https://localhost:8080/",
          "height": 295
        }
      },
      "source": [
        "width = height = 320\n",
        "xi=-5.0\n",
        "xf=9.0\n",
        "eps = 1e-3\n",
        "mxiter = 1e4\n",
        "\n",
        "pixels = np.full((width,height,3),0)\n",
        "# roots\n",
        "r1 = 1\n",
        "r2 = 2\n",
        "r3 = 3\n",
        "r4 = 4\n",
        "r5 = 5\n",
        "\n",
        "multcol = 6\n",
        "\n",
        "for i in range(height):\n",
        "            \n",
        "            aa =   float(xi + (i * (xf-xi) /height))\n",
        "            \n",
        "            for j in range(width):\n",
        "                bb= float(xi + (j* (xf-xi)/ width))\n",
        "\n",
        "                a = aa\n",
        "                b = bb\n",
        "                c=a\n",
        "                iter = 0\n",
        "                \n",
        "                while ((b-a) >= eps and (func(a) * func(b) <= 0)): \n",
        "                   \n",
        "                    # Check if a is root \n",
        "                    if (func(a) == 0.0): \n",
        "                      c=a\n",
        "                      break\n",
        "\n",
        "                    # Check if b is root \n",
        "                    if (func(b) == 0.0): \n",
        "                      c=b\n",
        "                      break\n",
        "  \n",
        "                    # Find middle point \n",
        "                    c = (a+b)/2\n",
        "    \n",
        "                    # Decide the side to repeat the steps \n",
        "                    if (func(c)*func(a) < 0): \n",
        "                        b = c \n",
        "                    else: \n",
        "                        a = c \n",
        "                    \n",
        "                    iter = iter + 1\n",
        "                    \n",
        "                    if (iter > mxiter):\n",
        "                     break\n",
        "\n",
        "                # Pixels colored using the roots\n",
        "                if abs(c-r1)<eps:\n",
        "                    # color red\n",
        "                    pixels[height-j-1,i] = (255 - iter*multcol, 0, 0)\n",
        "                elif abs(c-r2)<=eps:\n",
        "                    # color green\n",
        "                    pixels[height-j-1,i] = (0, 255 - iter*multcol, 0)\n",
        "                elif abs(c-r3)<=eps:\n",
        "                    # color blue\n",
        "                    pixels[height-j-1,i] = (0, 0, 255 - iter*multcol)\n",
        "                elif abs(c-r4)<=eps:\n",
        "                    pixels[height-j-1,i] = (255 - iter*multcol, 0, 255 - iter*multcol)\n",
        "                elif abs(c-r5)<=eps:\n",
        "                    pixels[height-j-1,i] = (255 - iter*multcol, 0, 200 - iter*multcol)\n",
        "                elif (b < a):\n",
        "                    pixels[height-j-1,i] = (255, 255, 0)\n",
        "                elif (func(a) * func(b) >= 0):\n",
        "                    pixels[height-j-1,i] = (255, 255, 255)\n",
        "                else:   \n",
        "                    pixels[height-j-1,i] = (0, 0, 0)\n",
        "\n",
        "                \n",
        "     \n",
        "plt.title('bisection_convergence')\n",
        "plt.xlabel(\"a in (\"+str(xi)+\",\"+str(xf)+\")\")\n",
        "plt.ylabel(\"b in (\"+str(xi)+\",\"+str(xf)+\")\")\n",
        "extent = xi, xf, xi, xf\n",
        "plt.imshow(pixels,extent =extent)\n",
        "plt.show()"
      ],
      "execution_count": 17,
      "outputs": [
        {
          "output_type": "display_data",
          "data": {
            "image/png": "[encoded data removed]",
            "text/plain": [
              "<Figure size 432x288 with 1 Axes>"
            ]
          },
          "metadata": {
            "needs_background": "light"
          }
        }
      ]
    }
  ]
}