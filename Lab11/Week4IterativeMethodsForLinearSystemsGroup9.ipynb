{
  "cells": [
    {
      "cell_type": "markdown",
      "metadata": {
        "id": "y8pvMx60MOiq"
      },
      "source": [
        "# Simple iteration for systems of linear equations"
      ]
    },
    {
      "cell_type": "markdown",
      "metadata": {
        "id": "LEUnKfjEMOiu"
      },
      "source": [
        "First, generate a random diagonally dominant matrix, for testing."
      ]
    },
    {
      "cell_type": "code",
      "execution_count": 2,
      "metadata": {
        "collapsed": true,
        "id": "IXyjpWSfMOiu"
      },
      "outputs": [],
      "source": [
        "import numpy as np\n",
        "rndm = np.random.RandomState(1234)\n",
        "\n",
        "n = 10\n",
        "A = rndm.uniform(size=(n, n)) + np.diagflat([15]*n)\n",
        "b = rndm.uniform(size=n)"
      ]
    },
    {
      "cell_type": "markdown",
      "metadata": {
        "id": "7Ijs-f1oMOiw"
      },
      "source": [
        "# I.  Jacobi iteration\n",
        "\n",
        "Given\n",
        "\n",
        "$$\n",
        "A x = b\n",
        "$$\n",
        "\n",
        "separate the diagonal part $D$,\n",
        "\n",
        "$$ A = D + (A - D) $$\n",
        "\n",
        "and write\n",
        "\n",
        "$$\n",
        "x = D^{-1} (D - A) x + D^{-1} b\\;.\n",
        "$$\n",
        "\n",
        "Then iterate\n",
        "\n",
        "$$\n",
        "x_{n + 1} = B x_{n} + c\\;,\n",
        "$$\n",
        "\n",
        "where \n",
        "\n",
        "$$\n",
        "B = D^{-1} (A - D) \\qquad \\text{and} \\qquad c = D^{-1} b\n",
        "$$\n"
      ]
    },
    {
      "cell_type": "markdown",
      "metadata": {
        "id": "LIVa8N8pMOiw"
      },
      "source": [
        "Let's construct the matrix and the r.h.s. for the Jacobi iteration"
      ]
    },
    {
      "cell_type": "code",
      "execution_count": 3,
      "metadata": {
        "id": "jNcs0IXDMOiw"
      },
      "outputs": [],
      "source": [
        "diag_1d = np.diag(A)\n",
        "\n",
        "B = -A.copy()\n",
        "np.fill_diagonal(B, 0)\n",
        "\n",
        "D = np.diag(diag_1d)\n",
        "invD = np.diag(1./diag_1d)\n",
        "BB = invD @ B \n",
        "c = invD @ b"
      ]
    },
    {
      "cell_type": "code",
      "execution_count": 4,
      "metadata": {
        "id": "GDyn8u5eMOix"
      },
      "outputs": [],
      "source": [
        "# sanity checks\n",
        "from numpy.testing import assert_allclose\n",
        "\n",
        "assert_allclose(-B + D, A)\n",
        "\n",
        "\n",
        "# xx is a \"ground truth\" solution, compute it using a direct method\n",
        "xx = np.linalg.solve(A, b)\n",
        "\n",
        "np.testing.assert_allclose(A@xx, b)\n",
        "np.testing.assert_allclose(D@xx, B@xx + b)\n",
        "np.testing.assert_allclose(xx, BB@xx + c)"
      ]
    },
    {
      "cell_type": "markdown",
      "metadata": {
        "id": "U9Zb5Jf9MOiy"
      },
      "source": [
        "Check that $\\| B\\| \\leqslant 1$:"
      ]
    },
    {
      "cell_type": "code",
      "execution_count": 5,
      "metadata": {
        "colab": {
          "base_uri": "https://localhost:8080/"
        },
        "id": "a7F-XuLbMOiy",
        "outputId": "9ca7fa81-c96e-47c7-aa7e-32c3aedf5c68"
      },
      "outputs": [
        {
          "output_type": "execute_result",
          "data": {
            "text/plain": [
              "0.36436161983015336"
            ]
          },
          "metadata": {},
          "execution_count": 5
        }
      ],
      "source": [
        "np.linalg.norm(BB)"
      ]
    },
    {
      "cell_type": "markdown",
      "metadata": {
        "id": "VpzlcTJ2MOiz"
      },
      "source": [
        "### Do the Jacobi iteration"
      ]
    },
    {
      "cell_type": "code",
      "execution_count": 6,
      "metadata": {
        "collapsed": true,
        "id": "RXxiLZXwMOiz"
      },
      "outputs": [],
      "source": [
        "n_iter = 50\n",
        "\n",
        "x0 = np.ones(n)\n",
        "x = x0\n",
        "for _ in range(n_iter):\n",
        "    x = BB @ x + c"
      ]
    },
    {
      "cell_type": "code",
      "execution_count": 7,
      "metadata": {
        "colab": {
          "base_uri": "https://localhost:8080/"
        },
        "id": "4G_nMR-kMOi0",
        "outputId": "1272c910-c485-41b6-808f-94456b13ae74"
      },
      "outputs": [
        {
          "output_type": "execute_result",
          "data": {
            "text/plain": [
              "array([ 1.11022302e-16,  0.00000000e+00, -2.22044605e-16, -1.11022302e-16,\n",
              "        1.11022302e-16,  0.00000000e+00, -2.42861287e-17,  0.00000000e+00,\n",
              "       -2.77555756e-17,  1.11022302e-16])"
            ]
          },
          "metadata": {},
          "execution_count": 7
        }
      ],
      "source": [
        "# Check the result:\n",
        "\n",
        "A @ x - b"
      ]
    },
    {
      "cell_type": "markdown",
      "metadata": {
        "id": "zPH92usUMOi0"
      },
      "source": [
        "### Task I.1\n",
        "\n",
        "Collect the proof-of-concept above into a single function implementing the Jacobi iteration. This function should receive the r.h.s. matrix $A$, the l.h.s. vector `b`, and the number of iterations to perform.\n",
        "\n",
        "\n",
        "The matrix $A$ in the illustration above is strongly diagonally dominant, by construction. \n",
        "What happens if the diagonal matrix elements of $A$ are made smaller? Check the convergence of the Jacobi iteration, and check the value of the norm of $B$.\n",
        "\n",
        "(20% of the total grade)\n"
      ]
    },
    {
      "cell_type": "code",
      "execution_count": 8,
      "metadata": {
        "collapsed": true,
        "id": "QEH5Nkc7MOi0"
      },
      "outputs": [],
      "source": [
        "# ... ENTER YOUR CODE HERE ...\n",
        "\n",
        "def J_iteration(A, b, eps=1e-12, iter=50): \n",
        "    Diag_1 = np.diag(A)  \n",
        "    B = -A.copy()\n",
        "\n",
        "    np.fill_diagonal(B, 0) \n",
        "    invD = np.diag(1.0 / Diag_1)\n",
        "    \n",
        "    BB = invD @ B \n",
        "    c = invD @ b \n",
        "    \n",
        "    x = np.ones(n)\n",
        "    for _ in range(n_iter): x = BB @ x + c\n",
        "\n",
        "    return x "
      ]
    },
    {
      "cell_type": "code",
      "source": [
        "x = J_iteration(A, b)\n",
        "print(x)\n",
        "np.testing.assert_allclose(A@x, b)\n",
        "np.testing.assert_allclose(x, xx)"
      ],
      "metadata": {
        "id": "ojGDVoDrPUdc",
        "colab": {
          "base_uri": "https://localhost:8080/"
        },
        "outputId": "630b4c52-f268-46e9-b644-af8440db270a"
      },
      "execution_count": 9,
      "outputs": [
        {
          "output_type": "stream",
          "name": "stdout",
          "text": [
            "[ 0.03919429  0.03780037  0.04283232  0.02365951  0.05745031 -0.00030244\n",
            " -0.00577279  0.03177549 -0.00422849  0.05284648]\n"
          ]
        }
      ]
    },
    {
      "cell_type": "code",
      "source": [
        "for k in range(1, 12):\n",
        "    A1 = A + np.diagflat([-k]*n)\n",
        "    print(np.linalg.norm(np.diag(1./np.diag(A1))@(-A1.copy()+np.diag(np.diag(A1)))),\n",
        "          np.linalg.norm(J_iteration(A1, b)-np.linalg.solve(A1, b)))"
      ],
      "metadata": {
        "colab": {
          "base_uri": "https://localhost:8080/"
        },
        "id": "SWKygViXPRpd",
        "outputId": "11d842da-13ed-4c4c-b2e7-518fe278b59d"
      },
      "execution_count": 10,
      "outputs": [
        {
          "output_type": "stream",
          "name": "stdout",
          "text": [
            "0.38959181027260875 2.009053247780777e-17\n",
            "0.4185783948614869 2.7449806536241494e-17\n",
            "0.4522284025473819 4.7730515306684666e-17\n",
            "0.4917667095178099 2.3354429532350847e-17\n",
            "0.5388887887486234 1.8193933307329566e-17\n",
            "0.5960110344093966 1.036960250308455e-15\n",
            "0.6667001660296402 2.7708368486989536e-13\n",
            "0.7564517359241753 1.4990528448342257e-10\n",
            "0.8742017351588476 2.016159609243833e-07\n",
            "1.0355299928250665 0.0009191717405677776\n",
            "1.2702850939751231 23.48163367953915\n"
          ]
        }
      ]
    },
    {
      "cell_type": "markdown",
      "metadata": {
        "id": "V6VjUSFLMOi1"
      },
      "source": [
        "# II. Seidel's iteration."
      ]
    },
    {
      "cell_type": "markdown",
      "metadata": {
        "id": "_xybop65MOi1"
      },
      "source": [
        "##### Task II.1\n",
        "\n",
        "Implement the Seidel's iteration. \n",
        "\n",
        "Test it on a random matrix. Study the convergence of iterations, relate to the norm of the iteration matrix.\n",
        "\n",
        "(30% of the total grade)"
      ]
    },
    {
      "cell_type": "code",
      "metadata": {
        "collapsed": true,
        "id": "oaAAHZdMR1gc"
      },
      "source": [
        "# ... ENTER YOUR CODE HERE ...\n",
        "\n",
        "def Seidels_iteration(A, b, eps=1e-12, iter=100):\n",
        "\n",
        "    x = np.zeros_like(b, dtype=np.double)\n",
        "    \n",
        "    for k in range(iter):\n",
        "        \n",
        "        x_old  = x.copy()\n",
        "        \n",
        "        for i in range(A.shape[0]):\n",
        "            x[i] = (b[i] - np.dot(A[i,:i], x[:i]) - np.dot(A[i,(i+1):], x_old[(i+1):])) / A[i ,i]\n",
        "      \n",
        "    return x  \n",
        "        "
      ],
      "execution_count": 11,
      "outputs": []
    },
    {
      "cell_type": "code",
      "metadata": {
        "id": "CkWLggEjXxuS"
      },
      "source": [
        "x = Seidels_iteration(A, b)"
      ],
      "execution_count": 12,
      "outputs": []
    },
    {
      "cell_type": "code",
      "metadata": {
        "id": "-0tA_L-7X34y"
      },
      "source": [
        "np.testing.assert_allclose(x, xx)\n",
        "np.testing.assert_allclose(A @ x, b)"
      ],
      "execution_count": 13,
      "outputs": []
    },
    {
      "cell_type": "code",
      "source": [
        "for k in range(1, 16):\n",
        "    A1 = A + np.diagflat([-k]*n)\n",
        "    print(np.linalg.norm(np.diag(1./np.diag(A1))@(-A1.copy()+np.diag(np.diag(A1)))),\n",
        "          np.linalg.norm(Seidels_iteration(A1, b)-np.linalg.solve(A1, b)))"
      ],
      "metadata": {
        "colab": {
          "base_uri": "https://localhost:8080/"
        },
        "id": "AtdJtTUbk8D2",
        "outputId": "834c8c74-34e9-471d-b2a2-e63fcbdc1da6"
      },
      "execution_count": 22,
      "outputs": [
        {
          "output_type": "stream",
          "name": "stdout",
          "text": [
            "0.39315162237575607 1.804862860440849e-17\n",
            "0.42202631543251723 2.3864272523720094e-17\n",
            "0.45548069473587693 1.97026712507607e-17\n",
            "0.4946988077730063 2.124593680485185e-17\n",
            "0.541311664415742 1.274756208291111e-17\n",
            "0.5976303078076515 3.382710778154774e-17\n",
            "0.6670418762840838 3.104379629778137e-17\n",
            "0.7547193781175311 3.933129244866141e-17\n",
            "0.8689797529637481 2.964296775167217e-17\n",
            "1.0241070526789309 3.7043556597280256e-17\n",
            "1.2468971279649803 5.1925927263190304e-17\n",
            "1.594301462446768 5.1460214472274106e-17\n",
            "2.213124726732211 1.2590794595551717e-16\n",
            "3.6414476395758366 0.0002698055026768034\n",
            "11.669681525331226 5.748747416973585e+70\n"
          ]
        }
      ]
    },
    {
      "cell_type": "markdown",
      "metadata": {
        "id": "bNBs-xgSMOi1"
      },
      "source": [
        "# III. Minimum residual scheme"
      ]
    },
    {
      "cell_type": "markdown",
      "metadata": {
        "id": "mRiBtnwpMOi1"
      },
      "source": [
        "### Task III.1\n",
        "\n",
        "Implement the $\\textit{minimum residual}$ scheme: an explicit non-stationary method, where at each step you select the iteration parameter $\\tau_n$ to minimize the residual $\\mathbf{r}_{n+1}$ given $\\mathbf{r}_n$. Test it on a random matrix, study the convergence to the solution, in terms of the norm of the residual and the deviation from the ground truth solution (which you can obtain using a direct method). Study how the iteration parameter $\\tau_n$ changes as iterations progress.\n",
        "\n",
        "(50% of the grade)"
      ]
    },
    {
      "cell_type": "code",
      "metadata": {
        "collapsed": true,
        "id": "oDdphCNeR1gc"
      },
      "source": [
        "# ... ENTER YOUR CODE HERE ...\n",
        "\n",
        "def min_iter(A, b, show_plot=True, eps=1e-12, maxiter=100):\n",
        "    m, n = A.shape \n",
        "    x0 = np.ones(n)\n",
        "    tau_series = []\n",
        "    \n",
        "    for i in range(maxiter): \n",
        "        r = np.matmul(A, x0) - b\n",
        "        temp = np.matmul(A, r)\n",
        "        tau = np.matmul(r, temp) / np.linalg.norm(temp, ord=2)**2\n",
        "        tau_series.append(tau)\n",
        "        x = x0 - tau * r\n",
        "        \n",
        "        if np.linalg.norm(x - x0) < eps: \n",
        "            break\n",
        "        \n",
        "        x0 = x\n",
        "    \n",
        "    return x"
      ],
      "execution_count": 23,
      "outputs": []
    },
    {
      "cell_type": "code",
      "metadata": {
        "id": "4LoQPOOAanDy"
      },
      "source": [
        "x = min_iter(A, b)"
      ],
      "execution_count": 24,
      "outputs": []
    },
    {
      "cell_type": "code",
      "metadata": {
        "id": "PISuHgH7ax8K"
      },
      "source": [
        "np.testing.assert_allclose(x, xx)\n",
        "np.testing.assert_allclose(A @ x, b)"
      ],
      "execution_count": 25,
      "outputs": []
    },
    {
      "cell_type": "code",
      "metadata": {
        "colab": {
          "base_uri": "https://localhost:8080/"
        },
        "id": "ruOuEYnba6_i",
        "outputId": "87ca3851-bd7a-40b9-bac6-f0e07a54c12f"
      },
      "source": [
        "for k in range(1, 16):\n",
        "    A1 = A + np.diagflat([-k]*n)\n",
        "    print(np.linalg.norm(np.diag(1./np.diag(A1))@(-A1.copy()+np.diag(np.diag(A1)))),\n",
        "          np.linalg.norm(min_iter(A1, b)-np.linalg.solve(A1, b)))"
      ],
      "execution_count": 26,
      "outputs": [
        {
          "output_type": "stream",
          "name": "stdout",
          "text": [
            "0.39315162237575607 9.626948947857578e-14\n",
            "0.42202631543251723 4.8560675831026595e-14\n",
            "0.45548069473587693 1.4155778324491284e-13\n",
            "0.4946988077730063 8.943784595623082e-14\n",
            "0.541311664415742 8.602895641992291e-14\n",
            "0.5976303078076515 9.84148716555474e-14\n",
            "0.6670418762840838 1.6961640035576557e-13\n",
            "0.7547193781175311 1.2311990868858909e-13\n",
            "0.8689797529637481 1.5872779475771453e-13\n",
            "1.0241070526789309 3.749836480536345e-13\n",
            "1.2468971279649803 2.8994072849521496e-13\n",
            "1.594301462446768 7.221252832963951e-13\n",
            "2.213124726732211 1.2822882034613518e-12\n",
            "3.6414476395758366 1.354884953488899e-07\n",
            "11.669681525331226 1.0684768905349105\n"
          ]
        }
      ]
    }
  ],
  "metadata": {
    "kernelspec": {
      "display_name": "Python 3",
      "language": "python",
      "name": "python3"
    },
    "language_info": {
      "codemirror_mode": {
        "name": "ipython",
        "version": 3
      },
      "file_extension": ".py",
      "mimetype": "text/x-python",
      "name": "python",
      "nbconvert_exporter": "python",
      "pygments_lexer": "ipython3",
      "version": "3.5.2"
    },
    "colab": {
      "name": "Week4IterativeMethodsForLinearSystemsGroup9.ipynb",
      "provenance": [],
      "collapsed_sections": []
    }
  },
  "nbformat": 4,
  "nbformat_minor": 0
}