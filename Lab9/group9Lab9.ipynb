{
  "nbformat": 4,
  "nbformat_minor": 0,
  "metadata": {
    "colab": {
      "name": "group9Lab9.ipynb",
      "provenance": [],
      "collapsed_sections": [],
      "include_colab_link": true
    },
    "kernelspec": {
      "name": "python3",
      "display_name": "Python 3"
    },
    "language_info": {
      "name": "python"
    }
  },
  "cells": [
    {
      "cell_type": "markdown",
      "metadata": {
        "id": "view-in-github",
        "colab_type": "text"
      },
      "source": [
        "<a href=\"https://colab.research.google.com/github/icaseres/MetNumUN2021II/blob/main/Lab9/group9Lab9.ipynb\" target=\"_parent\"><img src=\"https://colab.research.google.com/assets/colab-badge.svg\" alt=\"Open In Colab\"/></a>"
      ]
    },
    {
      "cell_type": "markdown",
      "metadata": {
        "id": "iAzrOBY3R_Lw"
      },
      "source": [
        "Interact code in Sagemath for $e^x$\n",
        "\n",
        "```python\n",
        "# Interact Taylor Series of $$f(x) = e^x$$\n",
        "# Explanatory example: Taylor Series – wiki.sagemath.org/interact https://wiki.sagemath.org/interact\n",
        "x   = SR.var('x')\n",
        "x0  = 0\n",
        "f   = e^(x)\n",
        "p   = plot(f, -20, 20, thickness=2)\n",
        "dot = point((x0, f(x=x0)), pointsize=80, rgbcolor=(1, 0, 0))\n",
        "\n",
        "@interact\n",
        "def _(order=slider([0 .. 12])):\n",
        "  ft = f.taylor(x, x0, order)\n",
        "  pt = plot(ft, -20, 20, color='green', thickness=2)\n",
        "  pretty_print(html(r'$f(x)\\;=\\;%s$' % latex(f)))\n",
        "  pretty_print(html(r'$\\hat{f}(x;%s)\\;=\\;%s+\\mathcal{O}(x^{%s})$' % (x0, latex(ft), order+1)))\n",
        "  show(dot + p + pt, ymin=-1, ymax=10)\n",
        "```"
      ]
    },
    {
      "cell_type": "markdown",
      "metadata": {
        "id": "orXva0RVSbEv"
      },
      "source": [
        "Animate code in Sagemath for $e^x$\n",
        "```python\n",
        "# Animate  Taylor Series of $$f(x) = e^x$$\n",
        "# MCS 320: Introduction to Symbolic Computation - Jan Verschelde, Mathematics, U. Illinois at Chicago  –\n",
        "# http://homepages.math.uic.edu/~jan/mcs320/mcs320notes/lec27.html#\n",
        "x   = SR.var('x')\n",
        "x0  = 0\n",
        "f   = e^(x)\n",
        "p   = plot(f, -3, 3, thickness=2,legend_label='f(x) = e^x')\n",
        "dot = point((x0, f(x=x0)), pointsize=80, rgbcolor=(1, 0, 0))\n",
        "ptaylor = [plot(f.taylor(x, x0, order), -3,3, color='green', thickness=2, legend_label= \"Taylor \" + str(order) +\": \"+ str(f.taylor(x, x0, order))) for order in range(5)]\n",
        "\n",
        "frames = [p+dot+ptaylor[int(order/12)] for order in range(60)]\n",
        "a = animate(frames, ymin=-10, ymax=10)\n",
        "a.show()\n",
        "a.save('e_to_x_taylor_animation_1.gif')\n",
        "```"
      ]
    },
    {
      "cell_type": "markdown",
      "metadata": {
        "id": "B9kyr3YTRY15"
      },
      "source": [
        " ![Taylor gif](https://raw.githubusercontent.com/gjhernandezp/NM/main/Taylor%20Series/e_to_x_taylor_animation_1.gif)"
      ]
    },
    {
      "cell_type": "markdown",
      "metadata": {
        "id": "XNfdGKC-6VXq"
      },
      "source": [
        "```python\n",
        "x   = SR.var('x')\n",
        "x0  = 0\n",
        "f   = e^(x)\n",
        "p   = plot(f, -6, 6, thickness=2,legend_label='f(x) = e^x')\n",
        "dot = point((x0, f(x=x0)), pointsize=80, rgbcolor=(1, 0, 0))\n",
        "ptaylor = [plot(f.taylor(x, x0, order), -6,6, color='green', thickness=2, legend_label= \"Taylor \" + str(order) +\": \"+ str(f.taylor(x, x0, order))) for order in range(5,9)]\n",
        "\n",
        "frames = [p+dot+ptaylor[int(order/12)] for order in range(48)]\n",
        "a = animate(frames, ymin=-100, ymax=100)\n",
        "a.show()\n",
        "a.save('e_to_x_taylor_animation_2.gif')\n",
        "```"
      ]
    },
    {
      "cell_type": "markdown",
      "metadata": {
        "id": "SnRLqIHt6h9S"
      },
      "source": [
        " ![Taylor gif](https://raw.githubusercontent.com/gjhernandezp/NM/main/Taylor%20Series/e_to_x_taylor_animation_2.gif)"
      ]
    },
    {
      "cell_type": "markdown",
      "source": [
        "# Desarrollo propio Grupo 9: \n",
        "\n",
        "\n",
        "*   $ ln(x+1)$\n",
        "\n",
        "\n"
      ],
      "metadata": {
        "id": "fCaW4RMzgyAk"
      }
    },
    {
      "cell_type": "markdown",
      "source": [
        "\n",
        "\n",
        "```python\n",
        "# Interact Taylor Series of $$f(x) = ln(x+1)$$\n",
        "# Explanatory example: Taylor Series – wiki.sagemath.org/interact https://wiki.sagemath.org/interact\n",
        "x   = SR.var('x')\n",
        "x0  = 0\n",
        "f   = ln(x+1)\n",
        "p   = plot(f, -20, 20, thickness=2)\n",
        "dot = point((x0, f(x=x0)), pointsize=80, rgbcolor=(1, 0, 0))\n",
        "\n",
        "@interact\n",
        "def _(order=slider([0 .. 12])):\n",
        "  ft = f.taylor(x, x0, order)\n",
        "  pt = plot(ft, -20, 20, color='green', thickness=2)\n",
        "  pretty_print(html(r'$f(x)\\;=\\;%s$' % latex(f)))\n",
        "  pretty_print(html(r'$\\hat{f}(x;%s)\\;=\\;%s+\\mathcal{O}(x^{%s})$' % (x0, latex(ft), order+1)))\n",
        "  show(dot + p + pt, ymin=-1, ymax=10)\n",
        "\n",
        "# Animate  Taylor Series of $$f(x) = ln(x+1)$$\n",
        "# MCS 320: Introduction to Symbolic Computation - Jan Verschelde, Mathematics, U. Illinois at Chicago  –\n",
        "# http://homepages.math.uic.edu/~jan/mcs320/mcs320notes/lec27.html#\n",
        "x   = SR.var('x')\n",
        "x0  = 0\n",
        "f   = ln(x+1)\n",
        "p   = plot(f, -3, 3, thickness=2,legend_label='f(x) = ln(x+1)')\n",
        "dot = point((x0, f(x=x0)), pointsize=80, rgbcolor=(1, 0, 0))\n",
        "ptaylor = [plot(f.taylor(x, x0, order), -3,3, color='green', thickness=2, legend_label= \"Taylor \" + str(order) +\": \"+ str(f.taylor(x, x0, order))) for order in range(5)]\n",
        "\n",
        "frames = [p+dot+ptaylor[int(order/12)] for order in range(60)]\n",
        "a = animate(frames, ymin=-10, ymax=10)\n",
        "a.show()\n",
        "a.save('ln_x_+_1_taylor_animation_1.gif')\n",
        "```\n",
        "\n",
        "\n"
      ],
      "metadata": {
        "id": "KEUzkKWpitqH"
      }
    },
    {
      "cell_type": "markdown",
      "source": [
        "![Sage Image](https://raw.githubusercontent.com/icaseres/MetNumUN2021II/main/Lab9/Imagenes/ln_x%2B1_taylor_animation_1.gif)"
      ],
      "metadata": {
        "id": "FouUHksBjVOP"
      }
    },
    {
      "cell_type": "markdown",
      "source": [
        "*   $ sin(x)$\n"
      ],
      "metadata": {
        "id": "RchFDwuJ2CWf"
      }
    },
    {
      "cell_type": "markdown",
      "source": [
        "```python\n",
        "# Interact Taylor Series of $$f(x) = sin(x)$$\n",
        "# Explanatory example: Taylor Series – wiki.sagemath.org/interact https://wiki.sagemath.org/interact\n",
        "x   = SR.var('x')\n",
        "x0  = 0\n",
        "f   = sin(x)\n",
        "p   = plot(f, -20, 20, thickness=2)\n",
        "dot = point((x0, f(x=x0)), pointsize=80, rgbcolor=(1, 0, 0))\n",
        "\n",
        "@interact\n",
        "def _(order=slider([0 .. 12])):\n",
        "  ft = f.taylor(x, x0, order)\n",
        "  pt = plot(ft, -20, 20, color='green', thickness=2)\n",
        "  pretty_print(html(r'$f(x)\\;=\\;%s$' % latex(f)))\n",
        "  pretty_print(html(r'$\\hat{f}(x;%s)\\;=\\;%s+\\mathcal{O}(x^{%s})$' % (x0, latex(ft), order+1)))\n",
        "  show(dot + p + pt, ymin=-1, ymax=10)\n",
        "\n",
        "# Animate  Taylor Series of $$f(x) = sin(x)$$\n",
        "# MCS 320: Introduction to Symbolic Computation - Jan Verschelde, Mathematics, U. Illinois at Chicago  –\n",
        "# http://homepages.math.uic.edu/~jan/mcs320/mcs320notes/lec27.html#\n",
        "x   = SR.var('x')\n",
        "x0  = 0\n",
        "f   = sin(x)\n",
        "p   = plot(f, -pi, pi, thickness=2,legend_label='f(x) = sin(x)')\n",
        "dot = point((x0, f(x=x0)), pointsize=80, rgbcolor=(1, 0, 0))\n",
        "ptaylor = [plot(f.taylor(x, x0, order), -pi,pi, color='green', thickness=2, legend_label= \"Taylor \" + str(order) +\": \"+ str(f.taylor(x, x0, order))) for order in range(5)]\n",
        "\n",
        "frames = [p+dot+ptaylor[int(order/12)] for order in range(60)]\n",
        "a = animate(frames, ymin=-10, ymax=10)\n",
        "a.show()\n",
        "a.save('sin(x)_taylor_animation_1.gif')\n",
        "```"
      ],
      "metadata": {
        "id": "W5aQ3XPJ2c4u"
      }
    },
    {
      "cell_type": "markdown",
      "source": [
        "![Sage Image](https://github.com/icaseres/MetNumUN2021II/blob/main/Lab9/Imagenes/sin_x_taylor_animation_1.gif?raw=true)"
      ],
      "metadata": {
        "id": "Vwgf8ALB2y6w"
      }
    },
    {
      "cell_type": "markdown",
      "source": [
        "#PUNTO 2"
      ],
      "metadata": {
        "id": "g7kyoyGd3g1e"
      }
    },
    {
      "cell_type": "markdown",
      "metadata": {
        "id": "ZuGY2wUTjFDm"
      },
      "source": [
        "## Taylor series of $e^x$\n",
        "\n",
        "$$ e^{ x} = \\sum_{n=0}^{\\infty} \\frac{x^n}{n!} $$"
      ]
    },
    {
      "cell_type": "markdown",
      "metadata": {
        "id": "qylNUuxmQUzq"
      },
      "source": [
        "What is value of the partial Taylor series of $e^x$ up to the  $n$-th term of $e^x$ about $0$ (Maclaurin  series) for $x=2$\n",
        "\n",
        "$$ e^{ x} \\approx \\sum_{i=1}^{n} \\frac{x^i}{i!}  = 1 + x + \\frac{x^2}{2!}+\\cdots+ \\frac{x^n}{n!}$$"
      ]
    },
    {
      "cell_type": "code",
      "metadata": {
        "colab": {
          "base_uri": "https://localhost:8080/"
        },
        "id": "UZyEw-hiQNU7",
        "outputId": "6ae59f2c-1155-40f8-b4ee-b2b48544c520"
      },
      "source": [
        "# ∑_{i=1}^n  x^i/i\n",
        "import math\n",
        "\n",
        "n = 10\n",
        "x = 2\n",
        "e_to_x = 0\n",
        "for i in range(n+1):\n",
        "    e_to_x += x**i/math.factorial(i) \n",
        "    print('e_to_x ≈ ∑_{i=1}^'+str(i),'x^i/i! =',e_to_x, )  \n",
        "print('math.exp(x) = ',math.exp(x))"
      ],
      "execution_count": null,
      "outputs": [
        {
          "output_type": "stream",
          "name": "stdout",
          "text": [
            "e_to_x ≈ ∑_{i=1}^0 x^i/i! = 1.0\n",
            "e_to_x ≈ ∑_{i=1}^1 x^i/i! = 3.0\n",
            "e_to_x ≈ ∑_{i=1}^2 x^i/i! = 5.0\n",
            "e_to_x ≈ ∑_{i=1}^3 x^i/i! = 6.333333333333333\n",
            "e_to_x ≈ ∑_{i=1}^4 x^i/i! = 7.0\n",
            "e_to_x ≈ ∑_{i=1}^5 x^i/i! = 7.266666666666667\n",
            "e_to_x ≈ ∑_{i=1}^6 x^i/i! = 7.355555555555555\n",
            "e_to_x ≈ ∑_{i=1}^7 x^i/i! = 7.3809523809523805\n",
            "e_to_x ≈ ∑_{i=1}^8 x^i/i! = 7.387301587301587\n",
            "e_to_x ≈ ∑_{i=1}^9 x^i/i! = 7.3887125220458545\n",
            "e_to_x ≈ ∑_{i=1}^10 x^i/i! = 7.388994708994708\n",
            "math.exp(x) =  7.38905609893065\n"
          ]
        }
      ]
    },
    {
      "cell_type": "markdown",
      "metadata": {
        "id": "ZlcF8gIdjZ6t"
      },
      "source": [
        "What is the minimun $n$ for which the $n+1$-th term of the Taylor series for $e^x$ about $0$ (Maclaurin  series) for $x$, is in absolute value less than  $\\epsilon$.\n",
        "\n",
        "$$\\min_{n \\in \\mathbb{N}}\\left|\\frac{x^{n+1}}{(n+1)!}\\right| < \\epsilon$$"
      ]
    },
    {
      "cell_type": "code",
      "metadata": {
        "id": "_8y-XrmvcCLf",
        "colab": {
          "base_uri": "https://localhost:8080/"
        },
        "outputId": "d8b90b04-8415-4aee-926c-a68074a0bb7d"
      },
      "source": [
        "# Retunrs Min n, |x^{n+1}/(n+1)!| < epsilon and ∑_{i=1}^{n+1}  x^i/i!|\n",
        "import math\n",
        "\n",
        "x = 1\n",
        "epsilon = 10**(-5)\n",
        "delta = 1\n",
        "e_to_x = 0\n",
        "i = 0\n",
        "print(\"n\".rjust(10),\" \",\"∑_{i=1}^n  x^i/i!\".center(21),\" \",\"|x^n/n!|\".center(20),\" \",\"epsilon\".center(20))\n",
        "while  epsilon <= abs(delta):\n",
        "  delta = x**i/math.factorial(i) \n",
        "  e_to_x += delta\n",
        "  print(format(i, '10'),\"  \", format(e_to_x, '.17f'),\"  \",format( abs(delta), '.17f'),\"  \",format(epsilon, '.17f')) \n",
        "  i = i+1\n",
        "print(\"n = \",i-1) \n",
        "print('x = ',x)\n",
        "print('e_to_x ≈ ∑_{i=1}^'+str(i-1),'x^i/i! =',e_to_x)    \n",
        "print('math.exp(x) = ',math.exp(x))"
      ],
      "execution_count": null,
      "outputs": [
        {
          "output_type": "stream",
          "name": "stdout",
          "text": [
            "         n     ∑_{i=1}^n  x^i/i!           |x^n/n!|               epsilon       \n",
            "         0    1.00000000000000000    1.00000000000000000    0.00001000000000000\n",
            "         1    2.00000000000000000    1.00000000000000000    0.00001000000000000\n",
            "         2    2.50000000000000000    0.50000000000000000    0.00001000000000000\n",
            "         3    2.66666666666666652    0.16666666666666666    0.00001000000000000\n",
            "         4    2.70833333333333304    0.04166666666666666    0.00001000000000000\n",
            "         5    2.71666666666666634    0.00833333333333333    0.00001000000000000\n",
            "         6    2.71805555555555545    0.00138888888888889    0.00001000000000000\n",
            "         7    2.71825396825396837    0.00019841269841270    0.00001000000000000\n",
            "         8    2.71827876984127004    0.00002480158730159    0.00001000000000000\n",
            "         9    2.71828152557319225    0.00000275573192240    0.00001000000000000\n",
            "n =  9\n",
            "x =  1\n",
            "e_to_x ≈ ∑_{i=1}^9 x^i/i! = 2.7182815255731922\n",
            "math.exp(x) =  2.718281828459045\n"
          ]
        }
      ]
    },
    {
      "cell_type": "code",
      "metadata": {
        "colab": {
          "base_uri": "https://localhost:8080/"
        },
        "id": "Ifa0n-_ODOAj",
        "outputId": "0f12721a-d130-469b-99cd-68e7a83e3848"
      },
      "source": [
        "# Retunrs Min n, |x^{n+1}/(n+1)!| < epsilon and ∑_{i=1}^{n+1}  x^i/i!|\n",
        "import math\n",
        "\n",
        "x = -1\n",
        "epsilon = 10**(-5)\n",
        "delta = 1\n",
        "e_to_x = 0\n",
        "i = 0\n",
        "print(\"n\".rjust(10),\" \",\"∑_{i=1}^n  x^i/i!\".center(21),\" \",\"|x^n/n!|\".center(20),\" \",\"epsilon\".center(20))\n",
        "while  epsilon <= abs(delta):\n",
        "  delta = x**i/math.factorial(i) \n",
        "  e_to_x += delta\n",
        "  print(format(i, '10'),\"  \", format(e_to_x, '.17f'),\"  \",format(  abs(delta), '.17f'),\"  \",format(epsilon, '.17f')) \n",
        "  i = i+1\n",
        "print(\"n = \",i-1) \n",
        "print('x = ',x)\n",
        "print('e_to_x ≈ ∑_{i=1}^'+str(i-1),'x^i/i! =',e_to_x)    \n",
        "print('math.exp(x) = ',math.exp(x))"
      ],
      "execution_count": null,
      "outputs": [
        {
          "output_type": "stream",
          "name": "stdout",
          "text": [
            "         n     ∑_{i=1}^n  x^i/i!           |x^n/n!|               epsilon       \n",
            "         0    1.00000000000000000    1.00000000000000000    0.00001000000000000\n",
            "         1    0.00000000000000000    1.00000000000000000    0.00001000000000000\n",
            "         2    0.50000000000000000    0.50000000000000000    0.00001000000000000\n",
            "         3    0.33333333333333337    0.16666666666666666    0.00001000000000000\n",
            "         4    0.37500000000000006    0.04166666666666666    0.00001000000000000\n",
            "         5    0.36666666666666670    0.00833333333333333    0.00001000000000000\n",
            "         6    0.36805555555555558    0.00138888888888889    0.00001000000000000\n",
            "         7    0.36785714285714288    0.00019841269841270    0.00001000000000000\n",
            "         8    0.36788194444444450    0.00002480158730159    0.00001000000000000\n",
            "         9    0.36787918871252212    0.00000275573192240    0.00001000000000000\n",
            "n =  9\n",
            "x =  -1\n",
            "e_to_x ≈ ∑_{i=1}^9 x^i/i! = 0.3678791887125221\n",
            "math.exp(x) =  0.36787944117144233\n"
          ]
        }
      ]
    },
    {
      "cell_type": "code",
      "metadata": {
        "colab": {
          "base_uri": "https://localhost:8080/"
        },
        "id": "EfkY5SM7pZBL",
        "outputId": "4779d642-6ffb-4f28-d120-393e94474dce"
      },
      "source": [
        "# Retunrs Min n, |x^{n+1}/(n+1)!| < epsilon and ∑_{i=1}^{n+1}  x^i/i!|\n",
        "import math\n",
        "\n",
        "x = 4\n",
        "epsilon = 10**(-12)\n",
        "e_to_x = 1\n",
        "error = abs(math.exp(x) - e_to_x)\n",
        "i = 1\n",
        "print(\"n\".rjust(10),\" \",\"∑_{i=1}^n  x^i/i!\".center(21),\" \",\"error\".center(20),\" \",\"epsilon\".center(20))\n",
        "print(format(i, '10'),\"  \", format(e_to_x, '.17f'),\"  \",format(error, '.17f'),\"  \",format(epsilon, '.17f'))\n",
        "while  epsilon <= abs(error):\n",
        "  delta =  x**i / math.factorial(i) \n",
        "  e_to_x += delta\n",
        "  error = abs(math.exp(x) - e_to_x)\n",
        "  i = i+1\n",
        "  print(format(i, '10'),\"  \", format(e_to_x, '.17f'),\"  \",format(error, '.17f'),\"  \",format(epsilon, '.17f'))\n",
        "print(\" n =\",i-1) \n",
        "print('e_to_x ≈ ∑_{i=1}^'+str(n),'x^i/i! =',e_to_x)  \n",
        "print('math.exp(x) = ',math.exp(x))"
      ],
      "execution_count": null,
      "outputs": [
        {
          "output_type": "stream",
          "name": "stdout",
          "text": [
            "         n     ∑_{i=1}^n  x^i/i!            error                 epsilon       \n",
            "         1    1.00000000000000000    53.59815003314423620    0.00000000000100000\n",
            "         2    5.00000000000000000    49.59815003314423620    0.00000000000100000\n",
            "         3    13.00000000000000000    41.59815003314423620    0.00000000000100000\n",
            "         4    23.66666666666666430    30.93148336647757191    0.00000000000100000\n",
            "         5    34.33333333333332860    20.26481669981090761    0.00000000000100000\n",
            "         6    42.86666666666666003    11.73148336647757617    0.00000000000100000\n",
            "         7    48.55555555555555003    6.04259447758868617    0.00000000000100000\n",
            "         8    51.80634920634920348    2.79180082679503272    0.00000000000100000\n",
            "         9    53.43174603174603021    1.16640400139820599    0.00000000000100000\n",
            "        10    54.15414462081128733    0.44400541233294888    0.00000000000100000\n",
            "        11    54.44310405643739159    0.15504597670684461    0.00000000000100000\n",
            "        12    54.54818021484688018    0.04996981829735603    0.00000000000100000\n",
            "        13    54.58320560098337637    0.01494443216085983    0.00000000000100000\n",
            "        14    54.59398264287153069    0.00416739027270552    0.00000000000100000\n",
            "        15    54.59706179769671763    0.00108823544751857    0.00000000000100000\n",
            "        16    54.59788290565010271    0.00026712749413349    0.00000000000100000\n",
            "        17    54.59808818263844898    0.00006185050578722    0.00000000000100000\n",
            "        18    54.59813648310629475    0.00001355003794146    0.00000000000100000\n",
            "        19    54.59814721654359460    0.00000281660064161    0.00000000000100000\n",
            "        20    54.59814947621460846    0.00000055692962775    0.00000000000100000\n",
            "        21    54.59814992814881407    0.00000010499542213    0.00000000000100000\n",
            "        22    54.59815001423152125    0.00000001891271495    0.00000000000100000\n",
            "        23    54.59815002988292321    0.00000000326131300    0.00000000000100000\n",
            "        24    54.59815003260490585    0.00000000053933036    0.00000000000100000\n",
            "        25    54.59815003305857317    0.00000000008566303    0.00000000000100000\n",
            "        26    54.59815003313116222    0.00000000001307399    0.00000000000100000\n",
            "        27    54.59815003314233195    0.00000000000190425    0.00000000000100000\n",
            "        28    54.59815003314398751    0.00000000000024869    0.00000000000100000\n",
            " n = 27\n",
            "e_to_x ≈ ∑_{i=1}^10 x^i/i! = 54.59815003314399\n",
            "math.exp(x) =  54.598150033144236\n"
          ]
        }
      ]
    },
    {
      "cell_type": "markdown",
      "metadata": {
        "id": "TxhZ8nnZpvbt"
      },
      "source": [
        "# Error using the Lagrange's formula of the Residual $E_n$\n",
        "\n",
        "* Form: Numerical Analysis Mathematics of Scientific Computing David Kincaid and Ward Cheney\n",
        "\n",
        "For the Taylor series for $f(x) = e^x$ about $c=0$ (Maclaurin) \n",
        "\n",
        "If $x \\ge 0$ then $f(n+1)(ξ)= e^ξ < e^x$ for any $0 \\le \\xi \\le x$ then \n",
        "\n",
        "$$ E_n = \\left|\\frac{f^{(n+1)}(\\xi)}{(n+1)!}(x-c)^{(n+1)} \\right| = \\left|\\frac{e^\\xi}{(n+1)!}x^{(n+1)} \\right| \\le \\left| \\frac{e^x}{(n+1)!}x^{(n+1)} \\right| $$\n",
        "\n",
        "If $x < 0$ then $f(n+1)(ξ)= e^ξ < e^0  = 1$ for any $x \\le \\xi < 0$ then \n",
        "\n",
        "$$ E_n = \\left|\\frac{f^{(n+1)}(\\xi)}{(n+1)!}(x-c)^{(n+1)} \\right| = \\left|\\frac{e^\\xi}{(n+1)!}x^{(n+1)} \\right| \\le  \\left|\\frac{1}{(n+1)!}x^{(n+1)}\\right| $$\n",
        "\n"
      ]
    },
    {
      "cell_type": "markdown",
      "metadata": {
        "id": "y1fLchcRq-mT"
      },
      "source": [
        "What is the minimun $n$ for which the error using the Lagrange's formula of the Residual $E_n$ of the Taylos series for $e^x$ about $0$ (Maclaurin  series), is less than  $\\epsilon$.\n",
        "\n",
        "$$\\min_{n \\in \\mathbb{N}}\\left\\{ \\left|\\frac{e^x}{(n+1)!}x^{(n+1)} \\right| \\right\\} < \\epsilon \\text{ if }  x \\ge 0$$\n",
        "\n",
        "and\n",
        "\n",
        "$$\\min_{n \\in \\mathbb{N}}\\left\\{  \\left|\\frac{1}{(n+1)!}x^{(n+1)} \\right| \\right\\} < \\epsilon \\text{ if }  x < 0$$\n",
        " "
      ]
    },
    {
      "cell_type": "code",
      "metadata": {
        "colab": {
          "base_uri": "https://localhost:8080/"
        },
        "id": "hBLCJ5mUqu4T",
        "outputId": "4df3919d-4775-42a5-b108-77a07902fb73"
      },
      "source": [
        "# Min n, e^abs(x) x(n+1) / (n+1)! < epsilon\n",
        "import math\n",
        "\n",
        "x =4\n",
        "epsilon = 10**(-12)\n",
        "e_to_x = 0\n",
        "i = 0\n",
        "error = math.exp(x) * x**(i+1) / math.factorial(i+1)\n",
        "print(\"n\".rjust(10),\" \",\"∑_{i=1}^n  x^i/i!\".center(21),\" \",\"error=e^x x^(n+1)/(n+1)!\".center(20),\" \",\"epsilon\".center(20))\n",
        "print(format(i, '10'),\"  \", format(e_to_x, '.17f'),\"  \",format(error, '.17f'),\"  \",format(epsilon, '.17f'))\n",
        "while  epsilon <= abs(error):\n",
        "  e_to_x +=  x**i/math.factorial(i)\n",
        "  if ( x >= 0 ):\n",
        "     error = math.exp(x) * x**(i+1)/ math.factorial(i+1) \n",
        "  else:\n",
        "    error = x**(i+1)/ math.factorial(i+1)\n",
        "  print(format(i, '10'),\"  \", format(e_to_x, '.17f'),\"  \",format(error, '.17f'),\"  \",format(epsilon, '.17f')) \n",
        "  i = i+1\n",
        "print(\"n = \",i-1) \n",
        "print('x = ',x)\n",
        "print('e_to_x ≈ ∑_{i=1}^'+str(i-1),'x^i/i! =',e_to_x)    \n",
        "print('math.exp(x) = ',math.exp(x))"
      ],
      "execution_count": null,
      "outputs": [
        {
          "output_type": "stream",
          "name": "stdout",
          "text": [
            "         n     ∑_{i=1}^n  x^i/i!     error=e^x x^(n+1)/(n+1)!         epsilon       \n",
            "         0    0.00000000000000000    218.39260013257694482    0.00000000000100000\n",
            "         0    1.00000000000000000    218.39260013257694482    0.00000000000100000\n",
            "         1    5.00000000000000000    436.78520026515388963    0.00000000000100000\n",
            "         2    13.00000000000000000    582.38026702020522407    0.00000000000100000\n",
            "         3    23.66666666666666430    582.38026702020522407    0.00000000000100000\n",
            "         4    34.33333333333332860    465.90421361616415652    0.00000000000100000\n",
            "         5    42.86666666666666003    310.60280907744277101    0.00000000000100000\n",
            "         6    48.55555555555555003    177.48731947282442434    0.00000000000100000\n",
            "         7    51.80634920634920348    88.74365973641221217    0.00000000000100000\n",
            "         8    53.43174603174603021    39.44162654951654190    0.00000000000100000\n",
            "         9    54.15414462081128733    15.77665061980661676    0.00000000000100000\n",
            "        10    54.44310405643739159    5.73696386174786088    0.00000000000100000\n",
            "        11    54.54818021484688018    1.91232128724928696    0.00000000000100000\n",
            "        12    54.58320560098337637    0.58840654992285746    0.00000000000100000\n",
            "        13    54.59398264287153069    0.16811615712081643    0.00000000000100000\n",
            "        14    54.59706179769671763    0.04483097523221771    0.00000000000100000\n",
            "        15    54.59788290565010271    0.01120774380805443    0.00000000000100000\n",
            "        16    54.59808818263844898    0.00263711619013045    0.00000000000100000\n",
            "        17    54.59813648310629475    0.00058602582002899    0.00000000000100000\n",
            "        18    54.59814721654359460    0.00012337385684821    0.00000000000100000\n",
            "        19    54.59814947621460846    0.00002467477136964    0.00000000000100000\n",
            "        20    54.59814992814881407    0.00000469995645136    0.00000000000100000\n",
            "        21    54.59815001423152125    0.00000085453753661    0.00000000000100000\n",
            "        22    54.59815002988292321    0.00000014861522376    0.00000000000100000\n",
            "        23    54.59815003260490585    0.00000002476920396    0.00000000000100000\n",
            "        24    54.59815003305857317    0.00000000396307263    0.00000000000100000\n",
            "        25    54.59815003313116222    0.00000000060970348    0.00000000000100000\n",
            "        26    54.59815003314233195    0.00000000009032644    0.00000000000100000\n",
            "        27    54.59815003314398751    0.00000000001290378    0.00000000000100000\n",
            "        28    54.59815003314422199    0.00000000000177983    0.00000000000100000\n",
            "        29    54.59815003314425752    0.00000000000023731    0.00000000000100000\n",
            "n =  29\n",
            "x =  4\n",
            "e_to_x ≈ ∑_{i=1}^29 x^i/i! = 54.59815003314426\n",
            "math.exp(x) =  54.598150033144236\n"
          ]
        }
      ]
    },
    {
      "cell_type": "code",
      "metadata": {
        "colab": {
          "base_uri": "https://localhost:8080/"
        },
        "id": "9qMzfOv0C6PM",
        "outputId": "7c199c67-deff-4973-faaf-83b00db14d45"
      },
      "source": [
        "# Min n, e^abs(x) x(n+1) / (n+1)! < epsilon\n",
        "import math\n",
        "\n",
        "x =-4\n",
        "epsilon = 10**(-12)\n",
        "e_to_x = 0\n",
        "i = 0\n",
        "error = math.exp(x) * x**(i+1) / math.factorial(i+1)\n",
        "print(\"n\".rjust(10),\" \",\"∑_{i=1}^n  x^i/i!\".center(21),\" \",\"error=e^x x^(n+1)/(n+1)!\".center(20),\" \",\"epsilon\".center(20))\n",
        "print(format(i, '10'),\"  \", format(e_to_x, '.17f'),\"  \",format(error, '.17f'),\"  \",format(epsilon, '.17f'))\n",
        "while  epsilon <= abs(error):\n",
        "  e_to_x +=  x**i/math.factorial(i)\n",
        "  if ( x >= 0 ):\n",
        "     error = math.exp(x) * x**(i+1)/ math.factorial(i+1) \n",
        "  else:\n",
        "    error = x**(i+1)/ math.factorial(i+1)\n",
        "  print(format(i, '10'),\"  \", format(e_to_x, '.17f'),\"  \",format(error, '.17f'),\"  \",format(epsilon, '.17f')) \n",
        "  i = i+1\n",
        "print(\"n = \",i-1) \n",
        "print('x = ',x)\n",
        "print('e_to_x ≈ ∑_{i=1}^'+str(i-1),'x^i/i! =',e_to_x)    \n",
        "print('math.exp(x) = ',math.exp(x))"
      ],
      "execution_count": null,
      "outputs": [
        {
          "output_type": "stream",
          "name": "stdout",
          "text": [
            "         n     ∑_{i=1}^n  x^i/i!     error=e^x x^(n+1)/(n+1)!         epsilon       \n",
            "         0    0.00000000000000000    -0.07326255555493671    0.00000000000100000\n",
            "         0    1.00000000000000000    -4.00000000000000000    0.00000000000100000\n",
            "         1    -3.00000000000000000    8.00000000000000000    0.00000000000100000\n",
            "         2    5.00000000000000000    -10.66666666666666607    0.00000000000100000\n",
            "         3    -5.66666666666666607    10.66666666666666607    0.00000000000100000\n",
            "         4    5.00000000000000000    -8.53333333333333321    0.00000000000100000\n",
            "         5    -3.53333333333333321    5.68888888888888911    0.00000000000100000\n",
            "         6    2.15555555555555589    -3.25079365079365079    0.00000000000100000\n",
            "         7    -1.09523809523809490    1.62539682539682540    0.00000000000100000\n",
            "         8    0.53015873015873050    -0.72239858906525578    0.00000000000100000\n",
            "         9    -0.19223985890652528    0.28895943562610227    0.00000000000100000\n",
            "        10    0.09671957671957698    -0.10507615840949175    0.00000000000100000\n",
            "        11    -0.00835658168991477    0.03502538613649725    0.00000000000100000\n",
            "        12    0.02666880444658248    -0.01077704188815300    0.00000000000100000\n",
            "        13    0.01589176255842949    0.00307915482518657    0.00000000000100000\n",
            "        14    0.01897091738361606    -0.00082110795338309    0.00000000000100000\n",
            "        15    0.01814980943023297    0.00020527698834577    0.00000000000100000\n",
            "        16    0.01835508641857874    -0.00004830046784606    0.00000000000100000\n",
            "        17    0.01830678595073268    0.00001073343729913    0.00000000000100000\n",
            "        18    0.01831751938803181    -0.00000225967101034    0.00000000000100000\n",
            "        19    0.01831525971702146    0.00000045193420207    0.00000000000100000\n",
            "        20    0.01831571165122353    -0.00000008608270516    0.00000000000100000\n",
            "        21    0.01831562556851838    0.00000001565140094    0.00000000000100000\n",
            "        22    0.01831564121991931    -0.00000000272198277    0.00000000000100000\n",
            "        23    0.01831563849793654    0.00000000045366380    0.00000000000100000\n",
            "        24    0.01831563895160034    -0.00000000007258621    0.00000000000100000\n",
            "        25    0.01831563887901413    0.00000000001116711    0.00000000000100000\n",
            "        26    0.01831563889018124    -0.00000000000165439    0.00000000000100000\n",
            "        27    0.01831563888852685    0.00000000000023634    0.00000000000100000\n",
            "n =  27\n",
            "x =  -4\n",
            "e_to_x ≈ ∑_{i=1}^27 x^i/i! = 0.01831563888852685\n",
            "math.exp(x) =  0.01831563888873418\n"
          ]
        }
      ]
    },
    {
      "cell_type": "markdown",
      "source": [
        "# Desarrollo propio Grupo 9: \n",
        "\n",
        "##### Serie de taylor:\n",
        "$$ln(x+1)$$\n",
        "$$ ln(x+1) = \\sum_{n=0}^{\\infty} (-1)^{n} \\frac{x^{n+1}}{n+1} $$"
      ],
      "metadata": {
        "id": "85cGkRM91v7b"
      }
    },
    {
      "cell_type": "markdown",
      "source": [
        "What is value of the partial Taylor series of $ln(x+1)$ up to the  $n$-th term of $ln(x+1)$ about $0$ (Maclaurin  series) for $x=1/4$"
      ],
      "metadata": {
        "id": "9yZz-fBY3ubV"
      }
    },
    {
      "cell_type": "code",
      "source": [
        "# ∑_{i=1}^n  (-1)^(i) * x^(i+1) / (i+1)\n",
        "import math\n",
        "\n",
        "n = 10\n",
        "x = 0.25\n",
        "result = 0\n",
        "for i in range(n+1):\n",
        "    result += (-1)**(i) * ( x ** (i+1) ) / ( i+1 ) \n",
        "    #print(\"i =\",i,\"->\",(-1)**(i) * ( x ** (i+1) ) / ( i+1 ) )\n",
        "    print('ln(x+1) ≈ ∑_{i=0}^'+str(i)+' (-1)^i * x^(i+1) / (i+1)',' = ',result )  \n",
        "print(\"result = \",result)\n",
        "print('math.log(x+1) = ',math.log(x+1))"
      ],
      "metadata": {
        "colab": {
          "base_uri": "https://localhost:8080/"
        },
        "id": "Ng2m98wf30Wk",
        "outputId": "ae7a21eb-8e20-4439-9de2-b166baf74a80"
      },
      "execution_count": null,
      "outputs": [
        {
          "output_type": "stream",
          "name": "stdout",
          "text": [
            "ln(x+1) ≈ ∑_{i=0}^0 (-1)^i * x^(i+1) / (i+1)  =  0.25\n",
            "ln(x+1) ≈ ∑_{i=0}^1 (-1)^i * x^(i+1) / (i+1)  =  0.21875\n",
            "ln(x+1) ≈ ∑_{i=0}^2 (-1)^i * x^(i+1) / (i+1)  =  0.22395833333333334\n",
            "ln(x+1) ≈ ∑_{i=0}^3 (-1)^i * x^(i+1) / (i+1)  =  0.22298177083333334\n",
            "ln(x+1) ≈ ∑_{i=0}^4 (-1)^i * x^(i+1) / (i+1)  =  0.22317708333333333\n",
            "ln(x+1) ≈ ∑_{i=0}^5 (-1)^i * x^(i+1) / (i+1)  =  0.22313639322916667\n",
            "ln(x+1) ≈ ∑_{i=0}^6 (-1)^i * x^(i+1) / (i+1)  =  0.2231451125372024\n",
            "ln(x+1) ≈ ∑_{i=0}^7 (-1)^i * x^(i+1) / (i+1)  =  0.2231432051885696\n",
            "ln(x+1) ≈ ∑_{i=0}^8 (-1)^i * x^(i+1) / (i+1)  =  0.22314362904382132\n",
            "ln(x+1) ≈ ∑_{i=0}^9 (-1)^i * x^(i+1) / (i+1)  =  0.22314353367638967\n",
            "ln(x+1) ≈ ∑_{i=0}^10 (-1)^i * x^(i+1) / (i+1)  =  0.22314355535080596\n",
            "result =  0.22314355535080596\n",
            "math.log(x+1) =  0.22314355131420976\n"
          ]
        }
      ]
    },
    {
      "cell_type": "markdown",
      "metadata": {
        "id": "U8yGGb2g5Ftd"
      },
      "source": [
        "What is the minimun $n$ for which the $n+1$-th term of the Taylor series for $ln(x+1)$ about $0$ (Maclaurin  series) for $x$, is in absolute value less than  $\\epsilon$.\n",
        "\n",
        "$$\\min_{n \\in \\mathbb{N}}\\left|(-1)^{n} \\frac{x^{n+1}}{n+1}\\right| < \\epsilon$$"
      ]
    },
    {
      "cell_type": "code",
      "metadata": {
        "colab": {
          "base_uri": "https://localhost:8080/"
        },
        "id": "ScsX4wF_5TKy",
        "outputId": "4b03af9e-7072-42d0-836c-f70d041346f1"
      },
      "source": [
        "# Retunrs Min n, |(-1)^(n)*x^{n+1}/(n+1)| < epsilon and ∑_{i=1}^{n+1}  (-1)^(n)*x^{n+1}/(n+1)|\n",
        "import math\n",
        "\n",
        "x = 1\n",
        "epsilon = 10**(-3)\n",
        "delta = 1\n",
        "ln_x_1 = 0\n",
        "i = 0\n",
        "print(\"n\".rjust(10),\" \",\"∑_{i=1}^n  x^i/i!\".center(21),\" \",\"|x^n/n!|\".center(20),\" \",\"epsilon\".center(20))\n",
        "while  epsilon <= abs(delta):\n",
        "  delta = (-1)**(i) * ( x ** (i+1) ) / ( i+1 ) \n",
        "  ln_x_1 += delta\n",
        "  print(format(i, '10'),\"  \", format(ln_x_1, '.17f'),\"  \",format( abs(delta), '.17f'),\"  \",format(epsilon, '.17f')) \n",
        "  i = i+1\n",
        "print(\"n = \",i-1) \n",
        "print('x = ',x)\n",
        "print('ln_x_1 ≈ ∑_{i=1}^'+str(i-1),'(-1)^i * x^(i+1) / (i+1) =',ln_x_1)    \n",
        "print('math.log(x+1) = ',math.log(x+1))"
      ],
      "execution_count": null,
      "outputs": [
        {
          "output_type": "stream",
          "name": "stdout",
          "text": [
            "         n     ∑_{i=1}^n  x^i/i!           |x^n/n!|               epsilon       \n",
            "         0    1.00000000000000000    1.00000000000000000    0.00100000000000000\n",
            "         1    0.50000000000000000    0.50000000000000000    0.00100000000000000\n",
            "         2    0.83333333333333326    0.33333333333333331    0.00100000000000000\n",
            "         3    0.58333333333333326    0.25000000000000000    0.00100000000000000\n",
            "         4    0.78333333333333321    0.20000000000000001    0.00100000000000000\n",
            "         5    0.61666666666666659    0.16666666666666666    0.00100000000000000\n",
            "         6    0.75952380952380949    0.14285714285714285    0.00100000000000000\n",
            "         7    0.63452380952380949    0.12500000000000000    0.00100000000000000\n",
            "         8    0.74563492063492065    0.11111111111111110    0.00100000000000000\n",
            "         9    0.64563492063492067    0.10000000000000001    0.00100000000000000\n",
            "        10    0.73654401154401161    0.09090909090909091    0.00100000000000000\n",
            "        11    0.65321067821067824    0.08333333333333333    0.00100000000000000\n",
            "        12    0.73013375513375522    0.07692307692307693    0.00100000000000000\n",
            "        13    0.65870518370518383    0.07142857142857142    0.00100000000000000\n",
            "        14    0.72537185037185048    0.06666666666666667    0.00100000000000000\n",
            "        15    0.66287185037185048    0.06250000000000000    0.00100000000000000\n",
            "        16    0.72169537978361520    0.05882352941176471    0.00100000000000000\n",
            "        17    0.66613982422805962    0.05555555555555555    0.00100000000000000\n",
            "        18    0.71877140317542798    0.05263157894736842    0.00100000000000000\n",
            "        19    0.66877140317542794    0.05000000000000000    0.00100000000000000\n",
            "        20    0.71639045079447561    0.04761904761904762    0.00100000000000000\n",
            "        21    0.67093590533993019    0.04545454545454546    0.00100000000000000\n",
            "        22    0.71441416620949538    0.04347826086956522    0.00100000000000000\n",
            "        23    0.67274749954282875    0.04166666666666666    0.00100000000000000\n",
            "        24    0.71274749954282879    0.04000000000000000    0.00100000000000000\n",
            "        25    0.67428596108129035    0.03846153846153846    0.00100000000000000\n",
            "        26    0.71132299811832733    0.03703703703703703    0.00100000000000000\n",
            "        27    0.67560871240404163    0.03571428571428571    0.00100000000000000\n",
            "        28    0.71009147102473125    0.03448275862068965    0.00100000000000000\n",
            "        29    0.67675813769139792    0.03333333333333333    0.00100000000000000\n",
            "        30    0.70901620220752692    0.03225806451612903    0.00100000000000000\n",
            "        31    0.67776620220752692    0.03125000000000000    0.00100000000000000\n",
            "        32    0.70806923251055720    0.03030303030303030    0.00100000000000000\n",
            "        33    0.67865746780467484    0.02941176470588235    0.00100000000000000\n",
            "        34    0.70722889637610342    0.02857142857142857    0.00100000000000000\n",
            "        35    0.67945111859832563    0.02777777777777778    0.00100000000000000\n",
            "        36    0.70647814562535260    0.02702702702702703    0.00100000000000000\n",
            "        37    0.68016235615166842    0.02631578947368421    0.00100000000000000\n",
            "        38    0.70580338179269408    0.02564102564102564    0.00100000000000000\n",
            "        39    0.68080338179269406    0.02500000000000000    0.00100000000000000\n",
            "        40    0.70519362569513311    0.02439024390243903    0.00100000000000000\n",
            "        41    0.68138410188560927    0.02380952380952381    0.00100000000000000\n",
            "        42    0.70463991583909769    0.02325581395348837    0.00100000000000000\n",
            "        43    0.68191264311182498    0.02272727272727273    0.00100000000000000\n",
            "        44    0.70413486533404723    0.02222222222222222    0.00100000000000000\n",
            "        45    0.68239573489926464    0.02173913043478261    0.00100000000000000\n",
            "        46    0.70367233064394552    0.02127659574468085    0.00100000000000000\n",
            "        47    0.68283899731061215    0.02083333333333333    0.00100000000000000\n",
            "        48    0.70324716057591830    0.02040816326530612    0.00100000000000000\n",
            "        49    0.68324716057591828    0.02000000000000000    0.00100000000000000\n",
            "        50    0.70285500371317322    0.01960784313725490    0.00100000000000000\n",
            "        51    0.68362423448240395    0.01923076923076923    0.00100000000000000\n",
            "        52    0.70249215901070583    0.01886792452830189    0.00100000000000000\n",
            "        53    0.68397364049218734    0.01851851851851852    0.00100000000000000\n",
            "        54    0.70215545867400553    0.01818181818181818    0.00100000000000000\n",
            "        55    0.68429831581686262    0.01785714285714286    0.00100000000000000\n",
            "        56    0.70184217546598537    0.01754385964912281    0.00100000000000000\n",
            "        57    0.68460079615564051    0.01724137931034483    0.00100000000000000\n",
            "        58    0.70154994869801335    0.01694915254237288    0.00100000000000000\n",
            "        59    0.68488328203134663    0.01666666666666667    0.00100000000000000\n",
            "        60    0.70127672465429747    0.01639344262295082    0.00100000000000000\n",
            "        61    0.68514769239623297    0.01612903225806452    0.00100000000000000\n",
            "        62    0.70102070826924878    0.01587301587301587    0.00100000000000000\n",
            "        63    0.68539570826924878    0.01562500000000000    0.00100000000000000\n",
            "        64    0.70078032365386411    0.01538461538461539    0.00100000000000000\n",
            "        65    0.68562880850234897    0.01515151515151515    0.00100000000000000\n",
            "        66    0.70055418163667738    0.01492537313432836    0.00100000000000000\n",
            "        67    0.68584829928373625    0.01470588235294118    0.00100000000000000\n",
            "        68    0.70034105290692461    0.01449275362318841    0.00100000000000000\n",
            "        69    0.68605533862121038    0.01428571428571429    0.00100000000000000\n",
            "        70    0.70013984566346388    0.01408450704225352    0.00100000000000000\n",
            "        71    0.68625095677457504    0.01388888888888889    0.00100000000000000\n",
            "        72    0.69994958691156128    0.01369863013698630    0.00100000000000000\n",
            "        73    0.68643607339804780    0.01351351351351351    0.00100000000000000\n",
            "        74    0.69976940673138111    0.01333333333333333    0.00100000000000000\n",
            "        75    0.68661151199453896    0.01315789473684210    0.00100000000000000\n",
            "        76    0.69959852498155195    0.01298701298701299    0.00100000000000000\n",
            "        77    0.68677801216103918    0.01282051282051282    0.00100000000000000\n",
            "        78    0.69943624000914040    0.01265822784810127    0.00100000000000000\n",
            "        79    0.68693624000914044    0.01250000000000000    0.00100000000000000\n",
            "        80    0.69928191902148606    0.01234567901234568    0.00100000000000000\n",
            "        81    0.68708679707026654    0.01219512195121951    0.00100000000000000\n",
            "        82    0.69913498984135092    0.01204819277108434    0.00100000000000000\n",
            "        83    0.68723022793658906    0.01190476190476190    0.00100000000000000\n",
            "        84    0.69899493381894195    0.01176470588235294    0.00100000000000000\n",
            "        85    0.68736702684219775    0.01162790697674419    0.00100000000000000\n",
            "        86    0.69886127971576095    0.01149425287356322    0.00100000000000000\n",
            "        87    0.68749764335212460    0.01136363636363636    0.00100000000000000\n",
            "        88    0.69873359840830440    0.01123595505617977    0.00100000000000000\n",
            "        89    0.68762248729719333    0.01111111111111111    0.00100000000000000\n",
            "        90    0.69861149828620428    0.01098901098901099    0.00100000000000000\n",
            "        91    0.68774193306881293    0.01086956521739130    0.00100000000000000\n",
            "        92    0.69849462124085593    0.01075268817204301    0.00100000000000000\n",
            "        93    0.68785632336851554    0.01063829787234043    0.00100000000000000\n",
            "        94    0.69838263915798926    0.01052631578947368    0.00100000000000000\n",
            "        95    0.68796597249132263    0.01041666666666667    0.00100000000000000\n",
            "        96    0.69827525084183806    0.01030927835051546    0.00100000000000000\n",
            "        97    0.68807116920918499    0.01020408163265306    0.00100000000000000\n",
            "        98    0.69817217931019504    0.01010101010101010    0.00100000000000000\n",
            "        99    0.68817217931019503    0.01000000000000000    0.00100000000000000\n",
            "       100    0.69807316940920494    0.00990099009900990    0.00100000000000000\n",
            "       101    0.68826924784057752    0.00980392156862745    0.00100000000000000\n",
            "       102    0.69797798570465519    0.00970873786407767    0.00100000000000000\n",
            "       103    0.68836260108927061    0.00961538461538462    0.00100000000000000\n",
            "       104    0.69788641061308010    0.00952380952380952    0.00100000000000000\n",
            "       105    0.68845244834892916    0.00943396226415094    0.00100000000000000\n",
            "       106    0.69779824274145252    0.00934579439252336    0.00100000000000000\n",
            "       107    0.68853898348219322    0.00925925925925926    0.00100000000000000\n",
            "       108    0.69771329540879878    0.00917431192660551    0.00100000000000000\n",
            "       109    0.68862238631788975    0.00909090909090909    0.00100000000000000\n",
            "       110    0.69763139532689877    0.00900900900900901    0.00100000000000000\n",
            "       111    0.68870282389832738    0.00892857142857143    0.00100000000000000\n",
            "       112    0.69755238142045128    0.00884955752212389    0.00100000000000000\n",
            "       113    0.68878045159588985    0.00877192982456140    0.00100000000000000\n",
            "       114    0.69747610376980285    0.00869565217391304    0.00100000000000000\n",
            "       115    0.68885541411463047    0.00862068965517241    0.00100000000000000\n",
            "       116    0.69740242266163899    0.00854700854700855    0.00100000000000000\n",
            "       117    0.68892784639045257    0.00847457627118644    0.00100000000000000\n",
            "       118    0.69733120773499035    0.00840336134453781    0.00100000000000000\n",
            "       119    0.68899787440165705    0.00833333333333333    0.00100000000000000\n",
            "       120    0.69726233721157438    0.00826446280991736    0.00100000000000000\n",
            "       121    0.68906561590009896    0.00819672131147541    0.00100000000000000\n",
            "       122    0.69719569720091201    0.00813008130081301    0.00100000000000000\n",
            "       123    0.68913118107187976    0.00806451612903226    0.00100000000000000\n",
            "       124    0.69713118107187977    0.00800000000000000    0.00100000000000000\n",
            "       125    0.68919467313537186    0.00793650793650794    0.00100000000000000\n",
            "       126    0.69706868888340334    0.00787401574803150    0.00100000000000000\n",
            "       127    0.68925618888340334    0.00781250000000000    0.00100000000000000\n",
            "       128    0.69700812686789948    0.00775193798449612    0.00100000000000000\n",
            "       129    0.68931581917559182    0.00769230769230769    0.00100000000000000\n",
            "       130    0.69694940696185137    0.00763358778625954    0.00100000000000000\n",
            "       131    0.68937364938609380    0.00757575757575758    0.00100000000000000\n",
            "       132    0.69689244637857506    0.00751879699248120    0.00100000000000000\n",
            "       133    0.68942975981141086    0.00746268656716418    0.00100000000000000\n",
            "       134    0.69683716721881828    0.00740740740740741    0.00100000000000000\n",
            "       135    0.68948422604234771    0.00735294117647059    0.00100000000000000\n",
            "       136    0.69678349611534041    0.00729927007299270    0.00100000000000000\n",
            "       137    0.68953711930374617    0.00724637681159420    0.00100000000000000\n",
            "       138    0.69673136390806267    0.00719424460431655    0.00100000000000000\n",
            "       139    0.68958850676520556    0.00714285714285714    0.00100000000000000\n",
            "       140    0.69668070534676585    0.00709219858156028    0.00100000000000000\n",
            "       141    0.68963845182563910    0.00704225352112676    0.00100000000000000\n",
            "       142    0.69663145881864608    0.00699300699300699    0.00100000000000000\n",
            "       143    0.68968701437420166    0.00694444444444444    0.00100000000000000\n",
            "       144    0.69658356609833960    0.00689655172413793    0.00100000000000000\n",
            "       145    0.68973425102984642    0.00684931506849315    0.00100000000000000\n",
            "       146    0.69653697211828181    0.00680272108843537    0.00100000000000000\n",
            "       147    0.68978021536152501    0.00675675675675676    0.00100000000000000\n",
            "       148    0.69649162475749815    0.00671140939597315    0.00100000000000000\n",
            "       149    0.68982495809083144    0.00666666666666667    0.00100000000000000\n",
            "       150    0.69644747464712287    0.00662251655629139    0.00100000000000000\n",
            "       151    0.68986852727870185    0.00657894736842105    0.00100000000000000\n",
            "       152    0.69640447499112013    0.00653594771241830    0.00100000000000000\n",
            "       153    0.68991096849761369    0.00649350649350649    0.00100000000000000\n",
            "       154    0.69636258140083951    0.00645161290322581    0.00100000000000000\n",
            "       155    0.68995232499058312    0.00641025641025641    0.00100000000000000\n",
            "       156    0.69632175174217548    0.00636942675159236    0.00100000000000000\n",
            "       157    0.68999263781812481    0.00632911392405063    0.00100000000000000\n",
            "       158    0.69628194599422544    0.00628930817610063    0.00100000000000000\n",
            "       159    0.69003194599422546    0.00625000000000000    0.00100000000000000\n",
            "       160    0.69624312611844907    0.00621118012422360    0.00100000000000000\n",
            "       161    0.69007028661227621    0.00617283950617284    0.00100000000000000\n",
            "       162    0.69620525593742955    0.00613496932515337    0.00100000000000000\n",
            "       163    0.69010769496181978    0.00609756097560976    0.00100000000000000\n",
            "       164    0.69616830102242588    0.00606060606060606    0.00100000000000000\n",
            "       165    0.69014420463688375    0.00602409638554217    0.00100000000000000\n",
            "       166    0.69613222858897961    0.00598802395209581    0.00100000000000000\n",
            "       167    0.69017984763659868    0.00595238095238095    0.00100000000000000\n",
            "       168    0.69609700739991232    0.00591715976331361    0.00100000000000000\n",
            "       169    0.69021465445873587    0.00588235294117647    0.00100000000000000\n",
            "       170    0.69606260767511019    0.00584795321637427    0.00100000000000000\n",
            "       171    0.69024865418673809    0.00581395348837209    0.00100000000000000\n",
            "       172    0.69602900100754739    0.00578034682080925    0.00100000000000000\n",
            "       173    0.69028187457076573    0.00574712643678161    0.00100000000000000\n",
            "       174    0.69599616028505140    0.00571428571428571    0.00100000000000000\n",
            "       175    0.69031434210323317    0.00568181818181818    0.00100000000000000\n",
            "       176    0.69596405961735741    0.00564971751412429    0.00100000000000000\n",
            "       177    0.69034608208926751    0.00561797752808989    0.00100000000000000\n",
            "       178    0.69593267426803851    0.00558659217877095    0.00100000000000000\n",
            "       179    0.69037711871248297    0.00555555555555556    0.00100000000000000\n",
            "       180    0.69590198059093600    0.00552486187845304    0.00100000000000000\n",
            "       181    0.69040747509643052    0.00549450549450549    0.00100000000000000\n",
            "       182    0.69587195597074747    0.00546448087431694    0.00100000000000000\n",
            "       183    0.69043717336205179    0.00543478260869565    0.00100000000000000\n",
            "       184    0.69584257876745714    0.00540540540540541    0.00100000000000000\n",
            "       185    0.69046623468143564    0.00537634408602151    0.00100000000000000\n",
            "       186    0.69581382826432336    0.00534759358288770    0.00100000000000000\n",
            "       187    0.69049467932815312    0.00531914893617021    0.00100000000000000\n",
            "       188    0.69578568461915835    0.00529100529100529    0.00100000000000000\n",
            "       189    0.69052252672442149    0.00526315789473684    0.00100000000000000\n",
            "       190    0.69575812881866228    0.00523560209424084    0.00100000000000000\n",
            "       191    0.69054979548532891    0.00520833333333333    0.00100000000000000\n",
            "       192    0.69573114263558800    0.00518134715025907    0.00100000000000000\n",
            "       193    0.69057650346033028    0.00515463917525773    0.00100000000000000\n",
            "       194    0.69570470858853539    0.00512820512820513    0.00100000000000000\n",
            "       195    0.69060266777220891    0.00510204081632653    0.00100000000000000\n",
            "       196    0.69567880990418862    0.00507614213197970    0.00100000000000000\n",
            "       197    0.69062830485368354    0.00505050505050505    0.00100000000000000\n",
            "       198    0.69565343048182426    0.00502512562814070    0.00100000000000000\n",
            "       199    0.69065343048182426    0.00500000000000000    0.00100000000000000\n",
            "       200    0.69562855485993369    0.00497512437810945    0.00100000000000000\n",
            "       201    0.69067805981042873    0.00495049504950495    0.00100000000000000\n",
            "       202    0.69560416818481297    0.00492610837438424    0.00100000000000000\n",
            "       203    0.69070220740049926    0.00490196078431373    0.00100000000000000\n",
            "       204    0.69558025618098707    0.00487804878048780    0.00100000000000000\n",
            "       205    0.69072588724894823    0.00485436893203883    0.00100000000000000\n",
            "       206    0.69555680512334439    0.00483091787439614    0.00100000000000000\n",
            "       207    0.69074911281565210    0.00480769230769231    0.00100000000000000\n",
            "       208    0.69553380181086744    0.00478468899521531    0.00100000000000000\n",
            "       209    0.69077189704896269    0.00476190476190476    0.00100000000000000\n",
            "       210    0.69551123354185374    0.00473933649289100    0.00100000000000000\n",
            "       211    0.69079425240977821    0.00471698113207547    0.00100000000000000\n",
            "       212    0.69548908809052934    0.00469483568075117    0.00100000000000000\n",
            "       213    0.69081619089426771    0.00467289719626168    0.00100000000000000\n",
            "       214    0.69546735368496537    0.00465116279069767    0.00100000000000000\n",
            "       215    0.69083772405533572    0.00462962962962963    0.00100000000000000\n",
            "       216    0.69544601898621128    0.00460829493087558    0.00100000000000000\n",
            "       217    0.69085886302290855    0.00458715596330275    0.00100000000000000\n",
            "       218    0.69542507306857071    0.00456621004566210    0.00100000000000000\n",
            "       219    0.69087961852311619    0.00454545454545455    0.00100000000000000\n",
            "       220    0.69540450540094423    0.00452488687782805    0.00100000000000000\n",
            "       221    0.69090000089643977    0.00450450450450450    0.00100000000000000\n",
            "       222    0.69538430582917521    0.00448430493273543    0.00100000000000000\n",
            "       223    0.69092002011488951    0.00446428571428571    0.00100000000000000\n",
            "       224    0.69536446455933398    0.00444444444444444    0.00100000000000000\n",
            "       225    0.69093968579827203    0.00442477876106195    0.00100000000000000\n",
            "       226    0.69534497214188440    0.00440528634361234    0.00100000000000000\n",
            "       227    0.69095900722960368    0.00438596491228070    0.00100000000000000\n",
            "       228    0.69532581945667793    0.00436681222707424    0.00100000000000000\n",
            "       229    0.69097799336972143    0.00434782608695652    0.00100000000000000\n",
            "       230    0.69530699769872573    0.00432900432900433    0.00100000000000000\n",
            "       231    0.69099665287113954    0.00431034482758621    0.00100000000000000\n",
            "       232    0.69528849836470175    0.00429184549356223    0.00100000000000000\n",
            "       233    0.69101499409119749    0.00427350427350427    0.00100000000000000\n",
            "       234    0.69527031324013366    0.00425531914893617    0.00100000000000000\n",
            "       235    0.69103302510454045    0.00423728813559322    0.00100000000000000\n",
            "       236    0.69525243438724083    0.00421940928270042    0.00100000000000000\n",
            "       237    0.69105075371497193    0.00420168067226891    0.00100000000000000\n",
            "       238    0.69523485413338193    0.00418410041841004    0.00100000000000000\n",
            "       239    0.69106818746671528    0.00416666666666667    0.00100000000000000\n",
            "       240    0.69521756506007626    0.00414937759336100    0.00100000000000000\n",
            "       241    0.69108533365511760    0.00413223140495868    0.00100000000000000\n",
            "       242    0.69520055999256614    0.00411522633744856    0.00100000000000000\n",
            "       243    0.69110219933682848    0.00409836065573771    0.00100000000000000\n",
            "       244    0.69518383198988976    0.00408163265306122    0.00100000000000000\n",
            "       245    0.69111879133948328    0.00406504065040650    0.00100000000000000\n",
            "       246    0.69516737433543474    0.00404858299595142    0.00100000000000000\n",
            "       247    0.69113511627091861    0.00403225806451613    0.00100000000000000\n",
            "       248    0.69515118052794678    0.00401606425702811    0.00100000000000000\n",
            "       249    0.69115118052794677    0.00400000000000000    0.00100000000000000\n",
            "       250    0.69513524427296669    0.00398406374501992    0.00100000000000000\n",
            "       251    0.69116699030471274    0.00396825396825397    0.00100000000000000\n",
            "       252    0.69511955947467319    0.00395256916996047    0.00100000000000000\n",
            "       253    0.69118255160065745    0.00393700787401575    0.00100000000000000\n",
            "       254    0.69510412022810841    0.00392156862745098    0.00100000000000000\n",
            "       255    0.69119787022810841    0.00390625000000000    0.00100000000000000\n",
            "       256    0.69508892081176599    0.00389105058365759    0.00100000000000000\n",
            "       257    0.69121295181951792    0.00387596899224806    0.00100000000000000\n",
            "       258    0.69507395568052177    0.00386100386100386    0.00100000000000000\n",
            "       259    0.69122780183436794    0.00384615384615385    0.00100000000000000\n",
            "       260    0.69505921945888904    0.00383141762452107    0.00100000000000000\n",
            "       261    0.69124242556575932    0.00381679389312977    0.00100000000000000\n",
            "       262    0.69504470693458065    0.00380228136882129    0.00100000000000000\n",
            "       263    0.69125682814670186    0.00378787878787879    0.00100000000000000\n",
            "       264    0.69503041305236224    0.00377358490566038    0.00100000000000000\n",
            "       265    0.69127101455612161    0.00375939849624060    0.00100000000000000\n",
            "       266    0.69501633290818154    0.00374531835205993    0.00100000000000000\n",
            "       267    0.69128498962459950    0.00373134328358209    0.00100000000000000\n",
            "       268    0.69500246174355862    0.00371747211895911    0.00100000000000000\n",
            "       269    0.69129875803985497    0.00370370370370370    0.00100000000000000\n",
            "       270    0.69498879494022392    0.00369003690036900    0.00100000000000000\n",
            "       271    0.69131232435198864    0.00367647058823529    0.00100000000000000\n",
            "       272    0.69497532801499229    0.00366300366300366    0.00100000000000000\n",
            "       273    0.69132569297849589    0.00364963503649635    0.00100000000000000\n",
            "       274    0.69496205661485955    0.00363636363636364    0.00100000000000000\n",
            "       275    0.69133886820906243    0.00362318840579710    0.00100000000000000\n",
            "       276    0.69494897651231158    0.00361010830324910    0.00100000000000000\n",
            "       277    0.69135185421015333    0.00359712230215827    0.00100000000000000\n",
            "       278    0.69493608360083436    0.00358422939068100    0.00100000000000000\n",
            "       279    0.69136465502940581    0.00357142857142857    0.00100000000000000\n",
            "       280    0.69492337389061576    0.00355871886120996    0.00100000000000000\n",
            "       281    0.69137727459983567    0.00354609929078014    0.00100000000000000\n",
            "       282    0.69491084350442933    0.00353356890459364    0.00100000000000000\n",
            "       283    0.69138971674386596    0.00352112676056338    0.00100000000000000\n",
            "       284    0.69489848867369053    0.00350877192982456    0.00100000000000000\n",
            "       285    0.69140198517718698    0.00349650349650350    0.00100000000000000\n",
            "       286    0.69488630573467824    0.00348432055749129    0.00100000000000000\n",
            "       287    0.69141408351245603    0.00347222222222222    0.00100000000000000\n",
            "       288    0.69487429112491284    0.00346020761245675    0.00100000000000000\n",
            "       289    0.69142601526284386    0.00344827586206897    0.00100000000000000\n",
            "       290    0.69486244137968234    0.00343642611683849    0.00100000000000000\n",
            "       291    0.69143778384543575    0.00342465753424658    0.00100000000000000\n",
            "       292    0.69485075312871225    0.00341296928327645    0.00100000000000000\n",
            "       293    0.69144939258449456    0.00340136054421769    0.00100000000000000\n",
            "       294    0.69483922309296908    0.00338983050847458    0.00100000000000000\n",
            "       295    0.69146084471459068    0.00337837837837838    0.00100000000000000\n",
            "       296    0.69482784808159404    0.00336700336700337    0.00100000000000000\n",
            "       297    0.69147214338360741    0.00335570469798658    0.00100000000000000\n",
            "       298    0.69481662498895858    0.00334448160535117    0.00100000000000000\n",
            "       299    0.69148329165562528    0.00333333333333333    0.00100000000000000\n",
            "       300    0.69480555079183792    0.00332225913621262    0.00100000000000000\n",
            "       301    0.69149429251369221    0.00331125827814570    0.00100000000000000\n",
            "       302    0.69479462254669555    0.00330033003300330    0.00100000000000000\n",
            "       303    0.69150514886248504    0.00328947368421053    0.00100000000000000\n",
            "       304    0.69478383738707516    0.00327868852459016    0.00100000000000000\n",
            "       305    0.69151586353086603    0.00326797385620915    0.00100000000000000\n",
            "       306    0.69477319252109404    0.00325732899022801    0.00100000000000000\n",
            "       307    0.69152643927434077    0.00324675324675325    0.00100000000000000\n",
            "       308    0.69476268522903328    0.00323624595469256    0.00100000000000000\n",
            "       309    0.69153687877742043    0.00322580645161290    0.00100000000000000\n",
            "       310    0.69475231286102168    0.00321543408360129    0.00100000000000000\n",
            "       311    0.69154718465589349    0.00320512820512821    0.00100000000000000\n",
            "       312    0.69474207283480727    0.00319488817891374    0.00100000000000000\n",
            "       313    0.69155735945901109    0.00318471337579618    0.00100000000000000\n",
            "       314    0.69473196263361425    0.00317460317460317    0.00100000000000000\n",
            "       315    0.69156740567158892    0.00316455696202532    0.00100000000000000\n",
            "       316    0.69472197980408101    0.00315457413249211    0.00100000000000000\n",
            "       317    0.69157732571603070    0.00314465408805031    0.00100000000000000\n",
            "       318    0.69471212195427523    0.00313479623824451    0.00100000000000000\n",
            "       319    0.69158712195427519    0.00312500000000000    0.00100000000000000\n",
            "       320    0.69470238675178297    0.00311526479750779    0.00100000000000000\n",
            "       321    0.69159679668967122    0.00310559006211180    0.00100000000000000\n",
            "       322    0.69469277192186940    0.00309597523219814    0.00100000000000000\n",
            "       323    0.69160635216878297    0.00308641975308642    0.00100000000000000\n",
            "       324    0.69468327524570606    0.00307692307692308    0.00100000000000000\n",
            "       325    0.69161579058312939    0.00306748466257669    0.00100000000000000\n",
            "       326    0.69467389455866457    0.00305810397553517    0.00100000000000000\n",
            "       327    0.69162511407085969    0.00304878048780488    0.00100000000000000\n",
            "       328    0.69466462774867122    0.00303951367781155    0.00100000000000000\n",
            "       329    0.69163432471836817    0.00303030303030303    0.00100000000000000\n",
            "       330    0.69465547275462192    0.00302114803625378    0.00100000000000000\n",
            "       331    0.69164342456185079    0.00301204819277108    0.00100000000000000\n",
            "       332    0.69464642756485384    0.00300300300300300    0.00100000000000000\n",
            "       333    0.69165241558880597    0.00299401197604790    0.00100000000000000\n",
            "       334    0.69463749021567167    0.00298507462686567    0.00100000000000000\n",
            "       335    0.69166129973948121    0.00297619047619048    0.00100000000000000\n",
            "       336    0.69462865878992630    0.00296735905044510    0.00100000000000000\n",
            "       337    0.69167007890826948    0.00295857988165680    0.00100000000000000\n",
            "       338    0.69461993141564415    0.00294985250737463    0.00100000000000000\n",
            "       339    0.69167875494505593    0.00294117647058824    0.00100000000000000\n",
            "       340    0.69461130626470402    0.00293255131964809    0.00100000000000000\n",
            "       341    0.69168732965651691    0.00292397660818713    0.00100000000000000\n",
            "       342    0.69460278155156063    0.00291545189504373    0.00100000000000000\n",
            "       343    0.69169580480737458    0.00290697674418605    0.00100000000000000\n",
            "       344    0.69459435553201221    0.00289855072463768    0.00100000000000000\n",
            "       345    0.69170418212160756    0.00289017341040462    0.00100000000000000\n",
            "       346    0.69458602650201107    0.00288184438040346    0.00100000000000000\n",
            "       347    0.69171246328362024    0.00287356321839080    0.00100000000000000\n",
            "       348    0.69457779279651422    0.00286532951289398    0.00100000000000000\n",
            "       349    0.69172064993937132    0.00285714285714286    0.00100000000000000\n",
            "       350    0.69456965278837413    0.00284900284900285    0.00100000000000000\n",
            "       351    0.69172874369746506    0.00284090909090909    0.00100000000000000\n",
            "       352    0.69456160488726681    0.00283286118980170    0.00100000000000000\n",
            "       353    0.69173674613020464    0.00282485875706215    0.00100000000000000\n",
            "       354    0.69455364753865534    0.00281690140845070    0.00100000000000000\n",
            "       355    0.69174465877461044    0.00280898876404494    0.00100000000000000\n",
            "       356    0.69454577922278971    0.00280112044817927    0.00100000000000000\n",
            "       357    0.69175248313340421    0.00279329608938547    0.00100000000000000\n",
            "       358    0.69453799845373843    0.00278551532033426    0.00100000000000000\n",
            "       359    0.69176022067596066    0.00277777777777778    0.00100000000000000\n",
            "       360    0.69453030377845371    0.00277008310249307    0.00100000000000000\n",
            "       361    0.69176787283922714    0.00276243093922652    0.00100000000000000\n",
            "       362    0.69452269377586628    0.00275482093663912    0.00100000000000000\n",
            "       363    0.69177544102861355    0.00274725274725275    0.00100000000000000\n",
            "       364    0.69451516705601080    0.00273972602739726    0.00100000000000000\n",
            "       365    0.69178292661885232    0.00273224043715847    0.00100000000000000\n",
            "       366    0.69450772225917934    0.00272479564032698    0.00100000000000000\n",
            "       367    0.69179033095483156    0.00271739130434783    0.00100000000000000\n",
            "       368    0.69450035805510257    0.00271002710027100    0.00100000000000000\n",
            "       369    0.69179765535239990    0.00270270270270270    0.00100000000000000\n",
            "       370    0.69449307314215736    0.00269541778975741    0.00100000000000000\n",
            "       371    0.69180490109914661    0.00268817204301075    0.00100000000000000\n",
            "       372    0.69448586624659969    0.00268096514745308    0.00100000000000000\n",
            "       373    0.69181206945515583    0.00267379679144385    0.00100000000000000\n",
            "       374    0.69447873612182254    0.00266666666666667    0.00100000000000000\n",
            "       375    0.69181916165373747    0.00265957446808511    0.00100000000000000\n",
            "       376    0.69447168154763672    0.00265251989389920    0.00100000000000000\n",
            "       377    0.69182617890213405    0.00264550264550265    0.00100000000000000\n",
            "       378    0.69446470132957472    0.00263852242744063    0.00100000000000000\n",
            "       379    0.69183312238220629    0.00263157894736842    0.00100000000000000\n",
            "       380    0.69445779429821675    0.00262467191601050    0.00100000000000000\n",
            "       381    0.69183999325109635    0.00261780104712042    0.00100000000000000\n",
            "       382    0.69445095930853762    0.00261096605744125    0.00100000000000000\n",
            "       383    0.69184679264187099    0.00260416666666667    0.00100000000000000\n",
            "       384    0.69444419523927359    0.00259740259740260    0.00100000000000000\n",
            "       385    0.69185352166414404    0.00259067357512953    0.00100000000000000\n",
            "       386    0.69443750099230939    0.00258397932816537    0.00100000000000000\n",
            "       387    0.69186018140468053    0.00257731958762887    0.00100000000000000\n",
            "       388    0.69443087549208415    0.00257069408740360    0.00100000000000000\n",
            "       389    0.69186677292798160    0.00256410256410256    0.00100000000000000\n",
            "       390    0.69442431768501489    0.00255754475703325    0.00100000000000000\n",
            "       391    0.69187329727685165    0.00255102040816327    0.00100000000000000\n",
            "       392    0.69441782653893813    0.00254452926208651    0.00100000000000000\n",
            "       393    0.69187975547294833    0.00253807106598985    0.00100000000000000\n",
            "       394    0.69441140104256860    0.00253164556962025    0.00100000000000000\n",
            "       395    0.69188614851731611    0.00252525252525253    0.00100000000000000\n",
            "       396    0.69440504020497351    0.00251889168765743    0.00100000000000000\n",
            "       397    0.69189247739090320    0.00251256281407035    0.00100000000000000\n",
            "       398    0.69439874305506355    0.00250626566416040    0.00100000000000000\n",
            "       399    0.69189874305506360    0.00250000000000000    0.00100000000000000\n",
            "       400    0.69439250864109847    0.00249376558603491    0.00100000000000000\n",
            "       401    0.69190494645204370    0.00248756218905473    0.00100000000000000\n",
            "       402    0.69438633603020750    0.00248138957816377    0.00100000000000000\n",
            "       403    0.69191108850545502    0.00247524752475248    0.00100000000000000\n",
            "       404    0.69438022430792412    0.00246913580246914    0.00100000000000000\n",
            "       405    0.69191717012073195    0.00246305418719212    0.00100000000000000\n",
            "       406    0.69437417257773437    0.00245700245700246    0.00100000000000000\n",
            "       407    0.69192319218557752    0.00245098039215686    0.00100000000000000\n",
            "       408    0.69436817996063860    0.00244498777506112    0.00100000000000000\n",
            "       409    0.69192915557039469    0.00243902439024390    0.00100000000000000\n",
            "       410    0.69436224559472559    0.00243309002433090    0.00100000000000000\n",
            "       411    0.69193506112870617    0.00242718446601942    0.00100000000000000\n",
            "       412    0.69435636863475947    0.00242130750605327    0.00100000000000000\n",
            "       413    0.69194090969756139    0.00241545893719807    0.00100000000000000\n",
            "       414    0.69435054825177822    0.00240963855421687    0.00100000000000000\n",
            "       415    0.69194670209793208    0.00240384615384615    0.00100000000000000\n",
            "       416    0.69434478363270424    0.00239808153477218    0.00100000000000000\n",
            "       417    0.69195243913509663    0.00239234449760766    0.00100000000000000\n",
            "       418    0.69433907397996542    0.00238663484486874    0.00100000000000000\n",
            "       419    0.69195812159901304    0.00238095238095238    0.00100000000000000\n",
            "       420    0.69433341851112707    0.00237529691211401    0.00100000000000000\n",
            "       421    0.69196375026468160    0.00236966824644550    0.00100000000000000\n",
            "       422    0.69432781645853503    0.00236406619385343    0.00100000000000000\n",
            "       423    0.69196932589249727    0.00235849056603774    0.00100000000000000\n",
            "       424    0.69432226706896782    0.00235294117647059    0.00100000000000000\n",
            "       425    0.69197484922859220    0.00234741784037559    0.00100000000000000\n",
            "       426    0.69431676960329947    0.00234192037470726    0.00100000000000000\n",
            "       427    0.69198032100516860    0.00233644859813084    0.00100000000000000\n",
            "       428    0.69431132333617096    0.00233100233100233    0.00100000000000000\n",
            "       429    0.69198574194082207    0.00232558139534884    0.00100000000000000\n",
            "       430    0.69430592755567122    0.00232018561484919    0.00100000000000000\n",
            "       431    0.69199111274085645    0.00231481481481481    0.00100000000000000\n",
            "       432    0.69430058156302732    0.00230946882217090    0.00100000000000000\n",
            "       433    0.69199643409758949    0.00230414746543779    0.00100000000000000\n",
            "       434    0.69429528467230217    0.00229885057471264    0.00100000000000000\n",
            "       435    0.69200170669065075    0.00229357798165138    0.00100000000000000\n",
            "       436    0.69429003621010155    0.00228832951945080    0.00100000000000000\n",
            "       437    0.69200693118727052    0.00228310502283105    0.00100000000000000\n",
            "       438    0.69428483551528875    0.00227790432801822    0.00100000000000000\n",
            "       439    0.69201210824256143    0.00227272727272727    0.00100000000000000\n",
            "       440    0.69427968193870659    0.00226757369614512    0.00100000000000000\n",
            "       441    0.69201723849979258    0.00226244343891403    0.00100000000000000\n",
            "       442    0.69427457484290767    0.00225733634311512    0.00100000000000000\n",
            "       443    0.69202232259065544    0.00225225225225225    0.00100000000000000\n",
            "       444    0.69426951360189137    0.00224719101123596    0.00100000000000000\n",
            "       445    0.69202736113552366    0.00224215246636771    0.00100000000000000\n",
            "       446    0.69426449760084807    0.00223713646532438    0.00100000000000000\n",
            "       447    0.69203235474370517    0.00223214285714286    0.00100000000000000\n",
            "       448    0.69425952623591003    0.00222717149220490    0.00100000000000000\n",
            "       449    0.69203730401368779    0.00222222222222222    0.00100000000000000\n",
            "       450    0.69425459891390950    0.00221729490022173    0.00100000000000000\n",
            "       451    0.69204220953337858    0.00221238938053097    0.00100000000000000\n",
            "       452    0.69424971505214239    0.00220750551876380    0.00100000000000000\n",
            "       453    0.69204707188033621    0.00220264317180617    0.00100000000000000\n",
            "       454    0.69424487407813840    0.00219780219780220    0.00100000000000000\n",
            "       455    0.69205189162199809    0.00219298245614035    0.00100000000000000\n",
            "       456    0.69424007542943789    0.00218818380743982    0.00100000000000000\n",
            "       457    0.69205666931590082    0.00218340611353712    0.00100000000000000\n",
            "       458    0.69423531855337361    0.00217864923747277    0.00100000000000000\n",
            "       459    0.69206140550989537    0.00217391304347826    0.00100000000000000\n",
            "       460    0.69423060290685845    0.00216919739696312    0.00100000000000000\n",
            "       461    0.69206610074235630    0.00216450216450216    0.00100000000000000\n",
            "       462    0.69422592795617921    0.00215982721382289    0.00100000000000000\n",
            "       463    0.69207075554238606    0.00215517241379310    0.00100000000000000\n",
            "       464    0.69422129317679471    0.00215053763440860    0.00100000000000000\n",
            "       465    0.69207537043001355    0.00214592274678112    0.00100000000000000\n",
            "       466    0.69421669805313990    0.00214132762312634    0.00100000000000000\n",
            "       467    0.69207994591638777    0.00213675213675214    0.00100000000000000\n",
            "       468    0.69421214207843474    0.00213219616204691    0.00100000000000000\n",
            "       469    0.69208448250396670    0.00212765957446809    0.00100000000000000\n",
            "       470    0.69420762475449749    0.00212314225053079    0.00100000000000000\n",
            "       471    0.69208898068670088    0.00211864406779661    0.00100000000000000\n",
            "       472    0.69420314559156349    0.00211416490486258    0.00100000000000000\n",
            "       473    0.69209344095021330    0.00210970464135021    0.00100000000000000\n",
            "       474    0.69419870410810802    0.00210526315789474    0.00100000000000000\n",
            "       475    0.69209786377197358    0.00210084033613445    0.00100000000000000\n",
            "       476    0.69419429983067382    0.00209643605870021    0.00100000000000000\n",
            "       477    0.69210224962146882    0.00209205020920502    0.00100000000000000\n",
            "       478    0.69418993229370263    0.00208768267223382    0.00100000000000000\n",
            "       479    0.69210659896036930    0.00208333333333333    0.00100000000000000\n",
            "       480    0.69418560103937144    0.00207900207900208    0.00100000000000000\n",
            "       481    0.69211091224269095    0.00207468879668050    0.00100000000000000\n",
            "       482    0.69418130561743219    0.00207039337474120    0.00100000000000000\n",
            "       483    0.69211518991495280    0.00206611570247934    0.00100000000000000\n",
            "       484    0.69417704558505589    0.00206185567010309    0.00100000000000000\n",
            "       485    0.69211943241633156    0.00205761316872428    0.00100000000000000\n",
            "       486    0.69417282050668061    0.00205338809034908    0.00100000000000000\n",
            "       487    0.69212364017881178    0.00204918032786885    0.00100000000000000\n",
            "       488    0.69416862995386286    0.00204498977505112    0.00100000000000000\n",
            "       489    0.69212781362733222    0.00204081632653061    0.00100000000000000\n",
            "       490    0.69416447350513266    0.00203665987780041    0.00100000000000000\n",
            "       491    0.69213195317992937    0.00203252032520325    0.00100000000000000\n",
            "       492    0.69416035074585225    0.00202839756592292    0.00100000000000000\n",
            "       493    0.69213605924787658    0.00202429149797571    0.00100000000000000\n",
            "       494    0.69415626126807861    0.00202020202020202    0.00100000000000000\n",
            "       495    0.69214013223582049    0.00201612903225806    0.00100000000000000\n",
            "       496    0.69415220467042815    0.00201207243460765    0.00100000000000000\n",
            "       497    0.69214417254191407    0.00200803212851406    0.00100000000000000\n",
            "       498    0.69414818055794614    0.00200400801603206    0.00100000000000000\n",
            "       499    0.69214818055794614    0.00200000000000000    0.00100000000000000\n",
            "       500    0.69414418854197812    0.00199600798403194    0.00100000000000000\n",
            "       501    0.69215215666946817    0.00199203187250996    0.00100000000000000\n",
            "       502    0.69414022824004473    0.00198807157057654    0.00100000000000000\n",
            "       503    0.69215610125591776    0.00198412698412698    0.00100000000000000\n",
            "       504    0.69413629927571974    0.00198019801980198    0.00100000000000000\n",
            "       505    0.69216001469073951    0.00197628458498024    0.00100000000000000\n",
            "       506    0.69413240127851072    0.00197238658777120    0.00100000000000000\n",
            "       507    0.69216389734150285    0.00196850393700787    0.00100000000000000\n",
            "       508    0.69412853388374252    0.00196463654223969    0.00100000000000000\n",
            "       509    0.69216774957001703    0.00196078431372549    0.00100000000000000\n",
            "       510    0.69412469673244370    0.00195694716242661    0.00100000000000000\n",
            "       511    0.69217157173244370    0.00195312500000000    0.00100000000000000\n",
            "       512    0.69412088947123518    0.00194931773879142    0.00100000000000000\n",
            "       513    0.69217536417940639    0.00194552529182879    0.00100000000000000\n",
            "       514    0.69411711175222190    0.00194174757281553    0.00100000000000000\n",
            "       515    0.69217912725609787    0.00193798449612403    0.00100000000000000\n",
            "       516    0.69411336323288708    0.00193423597678917    0.00100000000000000\n",
            "       517    0.69218286130238516    0.00193050193050193    0.00100000000000000\n",
            "       518    0.69410964357598826    0.00192678227360308    0.00100000000000000\n",
            "       519    0.69218656665291134    0.00192307692307692    0.00100000000000000\n",
            "       520    0.69410595244945650    0.00191938579654511    0.00100000000000000\n",
            "       521    0.69219024363719595    0.00191570881226054    0.00100000000000000\n",
            "       522    0.69410228952629727    0.00191204588910134    0.00100000000000000\n",
            "       523    0.69219389257973241    0.00190839694656489    0.00100000000000000\n",
            "       524    0.69409865448449426    0.00190476190476190    0.00100000000000000\n",
            "       525    0.69219751380008365    0.00190114068441065    0.00100000000000000\n",
            "       526    0.69409504700691482    0.00189753320683112    0.00100000000000000\n",
            "       527    0.69220110761297537    0.00189393939393939    0.00100000000000000\n",
            "       528    0.69409146678121736    0.00189035916824197    0.00100000000000000\n",
            "       529    0.69220467432838717    0.00188679245283019    0.00100000000000000\n",
            "       530    0.69408791349976195    0.00188323917137476    0.00100000000000000\n",
            "       531    0.69220821425164170    0.00187969924812030    0.00100000000000000\n",
            "       532    0.69408438685952167    0.00187617260787992    0.00100000000000000\n",
            "       533    0.69221172768349171    0.00187265917602996    0.00100000000000000\n",
            "       534    0.69408088656199640    0.00186915887850467    0.00100000000000000\n",
            "       535    0.69221521492020532    0.00186567164179104    0.00100000000000000\n",
            "       536    0.69407741231312903    0.00186219739292365    0.00100000000000000\n",
            "       537    0.69221867625364952    0.00185873605947955    0.00100000000000000\n",
            "       538    0.69407396382322284    0.00185528756957328    0.00100000000000000\n",
            "       539    0.69222211197137096    0.00185185185185185    0.00100000000000000\n",
            "       540    0.69407054080686081    0.00184842883548983    0.00100000000000000\n",
            "       541    0.69222552235667634    0.00184501845018450    0.00100000000000000\n",
            "       542    0.69406714298282735    0.00184162062615101    0.00100000000000000\n",
            "       543    0.69222890768870970    0.00183823529411765    0.00100000000000000\n",
            "       544    0.69406377007403086    0.00183486238532110    0.00100000000000000\n",
            "       545    0.69223226824252904    0.00183150183150183    0.00100000000000000\n",
            "       546    0.69406042180742844    0.00182815356489945    0.00100000000000000\n",
            "       547    0.69223560428918030    0.00182481751824818    0.00100000000000000\n",
            "       548    0.69405709791395265    0.00182149362477231    0.00100000000000000\n",
            "       549    0.69223891609577082    0.00181818181818182    0.00100000000000000\n",
            "       550    0.69405379812843870    0.00181488203266788    0.00100000000000000\n",
            "       551    0.69224220392554014    0.00181159420289855    0.00100000000000000\n",
            "       552    0.69405052218955465    0.00180831826401447    0.00100000000000000\n",
            "       553    0.69224546803793008    0.00180505415162455    0.00100000000000000\n",
            "       554    0.69404726983973186    0.00180180180180180    0.00100000000000000\n",
            "       555    0.69224870868865274    0.00179856115107914    0.00100000000000000\n",
            "       556    0.69404404082509796    0.00179533213644524    0.00100000000000000\n",
            "       557    0.69225192612975750    0.00179211469534050    0.00100000000000000\n",
            "       558    0.69404083489541046    0.00178890876565295    0.00100000000000000\n",
            "       559    0.69225512060969618    0.00178571428571429    0.00100000000000000\n",
            "       560    0.69403765180399213    0.00178253119429590    0.00100000000000000\n",
            "       561    0.69225829237338710    0.00177935943060498    0.00100000000000000\n",
            "       562    0.69403449130766770    0.00177619893428064    0.00100000000000000\n",
            "       563    0.69226144166227765    0.00177304964539007    0.00100000000000000\n",
            "       564    0.69403135316670239    0.00176991150442478    0.00100000000000000\n",
            "       565    0.69226456871440556    0.00176678445229682    0.00100000000000000\n",
            "       566    0.69402823714474060    0.00176366843033510    0.00100000000000000\n",
            "       567    0.69226767376445886    0.00176056338028169    0.00100000000000000\n",
            "       568    0.69402514300874707    0.00175746924428822    0.00100000000000000\n",
            "       569    0.69227075704383478    0.00175438596491228    0.00100000000000000\n",
            "       570    0.69402207052894860    0.00175131348511384    0.00100000000000000\n",
            "       571    0.69227381878069683    0.00174825174825175    0.00100000000000000\n",
            "       572    0.69401901947877709    0.00174520069808028    0.00100000000000000\n",
            "       573    0.69227685920003146    0.00174216027874564    0.00100000000000000\n",
            "       574    0.69401598963481403    0.00173913043478261    0.00100000000000000\n",
            "       575    0.69227987852370287    0.00173611111111111    0.00100000000000000\n",
            "       576    0.69401298077673579    0.00173310225303293    0.00100000000000000\n",
            "       577    0.69228287697050739    0.00173010380622837    0.00100000000000000\n",
            "       578    0.69400999268726038    0.00172711571675302    0.00100000000000000\n",
            "       579    0.69228585475622595    0.00172413793103448    0.00100000000000000\n",
            "       580    0.69400702515209511    0.00172117039586919    0.00100000000000000\n",
            "       581    0.69228881209367588    0.00171821305841924    0.00100000000000000\n",
            "       582    0.69400407795988517    0.00171526586620926    0.00100000000000000\n",
            "       583    0.69229174919276193    0.00171232876712329    0.00100000000000000\n",
            "       584    0.69400115090216363    0.00170940170940171    0.00100000000000000\n",
            "       585    0.69229466626052538    0.00170648464163823    0.00100000000000000\n",
            "       586    0.69399824377330221    0.00170357751277683    0.00100000000000000\n",
            "       587    0.69229756350119342    0.00170068027210884    0.00100000000000000\n",
            "       588    0.69399535637046339    0.00169779286926995    0.00100000000000000\n",
            "       589    0.69230044111622613    0.00169491525423729    0.00100000000000000\n",
            "       590    0.69399248849355266    0.00169204737732657    0.00100000000000000\n",
            "       591    0.69230329930436352    0.00168918918918919    0.00100000000000000\n",
            "       592    0.69398963994517293    0.00168634064080944    0.00100000000000000\n",
            "       593    0.69230613826167120    0.00168350168350168    0.00100000000000000\n",
            "       594    0.69398681053057876    0.00168067226890756    0.00100000000000000\n",
            "       595    0.69230895818158544    0.00167785234899329    0.00100000000000000\n",
            "       596    0.69398400005763239    0.00167504187604690    0.00100000000000000\n",
            "       597    0.69231175925495680    0.00167224080267559    0.00100000000000000\n",
            "       598    0.69398120833675980    0.00166944908180301    0.00100000000000000\n",
            "       599    0.69231454167009310    0.00166666666666667    0.00100000000000000\n",
            "       600    0.69397843518090840    0.00166389351081531    0.00100000000000000\n",
            "       601    0.69231730561280214    0.00166112956810631    0.00100000000000000\n",
            "       602    0.69397568040550528    0.00165837479270315    0.00100000000000000\n",
            "       603    0.69232005126643248    0.00165562913907285    0.00100000000000000\n",
            "       604    0.69397294382841590    0.00165289256198347    0.00100000000000000\n",
            "       605    0.69232277881191429    0.00165016501650165    0.00100000000000000\n",
            "       606    0.69397022526990437    0.00164744645799012    0.00100000000000000\n",
            "       607    0.69232548842779906    0.00164473684210526    0.00100000000000000\n",
            "       608    0.69396752455259381    0.00164203612479475    0.00100000000000000\n",
            "       609    0.69232818029029874    0.00163934426229508    0.00100000000000000\n",
            "       610    0.69396484150142801    0.00163666121112930    0.00100000000000000\n",
            "       611    0.69233085457332344    0.00163398692810458    0.00100000000000000\n",
            "       612    0.69396217594363341    0.00163132137030995    0.00100000000000000\n",
            "       613    0.69233351144851940    0.00162866449511401    0.00100000000000000\n",
            "       614    0.69395952770868197    0.00162601626016260    0.00100000000000000\n",
            "       615    0.69233615108530533    0.00162337662337662    0.00100000000000000\n",
            "       616    0.69395689662825510    0.00162074554294976    0.00100000000000000\n",
            "       617    0.69233877365090879    0.00161812297734628    0.00100000000000000\n",
            "       618    0.69395428253620761    0.00161550888529887    0.00100000000000000\n",
            "       619    0.69234137931040118    0.00161290322580645    0.00100000000000000\n",
            "       620    0.69395168526853324    0.00161030595813205    0.00100000000000000\n",
            "       621    0.69234396822673261    0.00160771704180064    0.00100000000000000\n",
            "       622    0.69394910466332971    0.00160513643659711    0.00100000000000000\n",
            "       623    0.69234654056076561    0.00160256410256410    0.00100000000000000\n",
            "       624    0.69394654056076566    0.00160000000000000    0.00100000000000000\n",
            "       625    0.69234909647130882    0.00159744408945687    0.00100000000000000\n",
            "       626    0.69394399280304730    0.00159489633173844    0.00100000000000000\n",
            "       627    0.69235163611514916    0.00159235668789809    0.00100000000000000\n",
            "       628    0.69394146123438605    0.00158982511923688    0.00100000000000000\n",
            "       629    0.69235415964708447    0.00158730158730159    0.00100000000000000\n",
            "       630    0.69393894570096715    0.00158478605388273    0.00100000000000000\n",
            "       631    0.69235666721995448    0.00158227848101266    0.00100000000000000\n",
            "       632    0.69393644605091820    0.00157977883096367    0.00100000000000000\n",
            "       633    0.69235915898467215    0.00157728706624606    0.00100000000000000\n",
            "       634    0.69393396213427849    0.00157480314960630    0.00100000000000000\n",
            "       635    0.69236163509025328    0.00157232704402516    0.00100000000000000\n",
            "       636    0.69393149380296915    0.00156985871271586    0.00100000000000000\n",
            "       637    0.69236409568384694    0.00156739811912226    0.00100000000000000\n",
            "       638    0.69392904091076402    0.00156494522691706    0.00100000000000000\n",
            "       639    0.69236654091076399    0.00156250000000000    0.00100000000000000\n",
            "       640    0.69392660331326006    0.00156006240249610    0.00100000000000000\n",
            "       641    0.69236897091450622    0.00155763239875389    0.00100000000000000\n",
            "       642    0.69392418086784990    0.00155520995334370    0.00100000000000000\n",
            "       643    0.69237138583679403    0.00155279503105590    0.00100000000000000\n",
            "       644    0.69392177343369321    0.00155038759689922    0.00100000000000000\n",
            "       645    0.69237378581759412    0.00154798761609907    0.00100000000000000\n",
            "       646    0.69391938087168992    0.00154559505409583    0.00100000000000000\n",
            "       647    0.69237617099514670    0.00154320987654321    0.00100000000000000\n",
            "       648    0.69391700304445336    0.00154083204930663    0.00100000000000000\n",
            "       649    0.69237854150599187    0.00153846153846154    0.00100000000000000\n",
            "       650    0.69391463981628376    0.00153609831029186    0.00100000000000000\n",
            "       651    0.69238089748499543    0.00153374233128834    0.00100000000000000\n",
            "       652    0.69391229105314245    0.00153139356814701    0.00100000000000000\n",
            "       653    0.69238323906537491    0.00152905198776758    0.00100000000000000\n",
            "       654    0.69390995662262678    0.00152671755725191    0.00100000000000000\n",
            "       655    0.69238556637872439    0.00152439024390244    0.00100000000000000\n",
            "       656    0.69390763639394515    0.00152207001522070    0.00100000000000000\n",
            "       657    0.69238787955503933    0.00151975683890578    0.00100000000000000\n",
            "       658    0.69390533023789214    0.00151745068285281    0.00100000000000000\n",
            "       659    0.69239017872274067    0.00151515151515152    0.00100000000000000\n",
            "       660    0.69390303802682540    0.00151285930408472    0.00100000000000000\n",
            "       661    0.69239246400869847    0.00151057401812689    0.00100000000000000\n",
            "       662    0.69390075963464115    0.00150829562594268    0.00100000000000000\n",
            "       663    0.69239473553825559    0.00150602409638554    0.00100000000000000\n",
            "       664    0.69389849493675182    0.00150375939849624    0.00100000000000000\n",
            "       665    0.69239699343525030    0.00150150150150150    0.00100000000000000\n",
            "       666    0.69389624381006287    0.00149925037481259    0.00100000000000000\n",
            "       667    0.69239923782203894    0.00149700598802395    0.00100000000000000\n",
            "       668    0.69389400613295071    0.00149476831091181    0.00100000000000000\n",
            "       669    0.69240146881951792    0.00149253731343284    0.00100000000000000\n",
            "       670    0.69389178178524069    0.00149031296572280    0.00100000000000000\n",
            "       671    0.69240368654714546    0.00148809523809524    0.00100000000000000\n",
            "       672    0.69388957064818557    0.00148588410104012    0.00100000000000000\n",
            "       673    0.69240589112296302    0.00148367952522255    0.00100000000000000\n",
            "       674    0.69388737260444455    0.00148148148148148    0.00100000000000000\n",
            "       675    0.69240808266361620    0.00147928994082840    0.00100000000000000\n",
            "       676    0.69388518753806228    0.00147710487444609    0.00100000000000000\n",
            "       677    0.69241026128437499    0.00147492625368732    0.00100000000000000\n",
            "       678    0.69388301533444863    0.00147275405007364    0.00100000000000000\n",
            "       679    0.69241242709915451    0.00147058823529412    0.00100000000000000\n",
            "       680    0.69388085588035864    0.00146842878120411    0.00100000000000000\n",
            "       681    0.69241458022053459    0.00146627565982405    0.00100000000000000\n",
            "       682    0.69387870906387283    0.00146412884333821    0.00100000000000000\n",
            "       683    0.69241672075977923    0.00146198830409357    0.00100000000000000\n",
            "       684    0.69387657477437781    0.00145985401459854    0.00100000000000000\n",
            "       685    0.69241884882685589    0.00145772594752187    0.00100000000000000\n",
            "       686    0.69387445290254735    0.00145560407569141    0.00100000000000000\n",
            "       687    0.69242096453045432    0.00145348837209302    0.00100000000000000\n",
            "       688    0.69387234334032366    0.00145137880986938    0.00100000000000000\n",
            "       689    0.69242306797800479    0.00144927536231884    0.00100000000000000\n",
            "       690    0.69387024598089919    0.00144717800289436    0.00100000000000000\n",
            "       691    0.69242515927569692    0.00144508670520231    0.00100000000000000\n",
            "       692    0.69386816071869839    0.00144300144300144    0.00100000000000000\n",
            "       693    0.69242723852849664    0.00144092219020173    0.00100000000000000\n",
            "       694    0.69386608744935996    0.00143884892086331    0.00100000000000000\n",
            "       695    0.69242930584016460    0.00143678160919540    0.00100000000000000\n",
            "       696    0.69386402606971986    0.00143472022955524    0.00100000000000000\n",
            "       697    0.69243136131327288    0.00143266475644699    0.00100000000000000\n",
            "       698    0.69386197647779357    0.00143061516452074    0.00100000000000000\n",
            "       699    0.69243340504922213    0.00142857142857143    0.00100000000000000\n",
            "       700    0.69385993857275996    0.00142653352353780    0.00100000000000000\n",
            "       701    0.69243543714825850    0.00142450142450142    0.00100000000000000\n",
            "       702    0.69385791225494409    0.00142247510668563    0.00100000000000000\n",
            "       703    0.69243745770948950    0.00142045454545455    0.00100000000000000\n",
            "       704    0.69385589742580156    0.00141843971631206    0.00100000000000000\n",
            "       705    0.69243946683090074    0.00141643059490085    0.00100000000000000\n",
            "       706    0.69385389398790220    0.00141442715700141    0.00100000000000000\n",
            "       707    0.69244146460937117    0.00141242937853107    0.00100000000000000\n",
            "       708    0.69385190184491419    0.00141043723554302    0.00100000000000000\n",
            "       709    0.69244345114068884    0.00140845070422535    0.00100000000000000\n",
            "       710    0.69384992090158892    0.00140646976090014    0.00100000000000000\n",
            "       711    0.69244542651956642    0.00140449438202247    0.00100000000000000\n",
            "       712    0.69384795106374597    0.00140252454417952    0.00100000000000000\n",
            "       713    0.69244739083965634    0.00140056022408964    0.00100000000000000\n",
            "       714    0.69384599223825771    0.00139860139860140    0.00100000000000000\n",
            "       715    0.69244934419356496    0.00139664804469274    0.00100000000000000\n",
            "       716    0.69384404433303493    0.00139470013947001    0.00100000000000000\n",
            "       717    0.69245128667286782    0.00139275766016713    0.00100000000000000\n",
            "       718    0.69384210725701245    0.00139082058414465    0.00100000000000000\n",
            "       719    0.69245321836812357    0.00138888888888889    0.00100000000000000\n",
            "       720    0.69384018092013466    0.00138696255201110    0.00100000000000000\n",
            "       721    0.69245513936888814    0.00138504155124654    0.00100000000000000\n",
            "       722    0.69383826523334180    0.00138312586445367    0.00100000000000000\n",
            "       723    0.69245704976372857    0.00138121546961326    0.00100000000000000\n",
            "       724    0.69383636010855620    0.00137931034482759    0.00100000000000000\n",
            "       725    0.69245894964023669    0.00137741046831956    0.00100000000000000\n",
            "       726    0.69383446545866856    0.00137551581843191    0.00100000000000000\n",
            "       727    0.69246083908504219    0.00137362637362637    0.00100000000000000\n",
            "       728    0.69383258119752500    0.00137174211248285    0.00100000000000000\n",
            "       729    0.69246271818382632    0.00136986301369863    0.00100000000000000\n",
            "       730    0.69383070723991391    0.00136798905608755    0.00100000000000000\n",
            "       731    0.69246458702133473    0.00136612021857923    0.00100000000000000\n",
            "       732    0.69382884350155305    0.00136425648021828    0.00100000000000000\n",
            "       733    0.69246644568138960    0.00136239782016349    0.00100000000000000\n",
            "       734    0.69382698989907665    0.00136054421768707    0.00100000000000000\n",
            "       735    0.69246829424690270    0.00135869565217391    0.00100000000000000\n",
            "       736    0.69382514635002346    0.00135685210312076    0.00100000000000000\n",
            "       737    0.69247013279988801    0.00135501355013550    0.00100000000000000\n",
            "       738    0.69382331277282439    0.00135317997293640    0.00100000000000000\n",
            "       739    0.69247196142147305    0.00135135135135135    0.00100000000000000\n",
            "       740    0.69382148908679020    0.00134952766531714    0.00100000000000000\n",
            "       741    0.69247378019191153    0.00134770889487871    0.00100000000000000\n",
            "       742    0.69381967521209997    0.00134589502018843    0.00100000000000000\n",
            "       743    0.69247558919059460    0.00134408602150538    0.00100000000000000\n",
            "       744    0.69381787106978920    0.00134228187919463    0.00100000000000000\n",
            "       745    0.69247738849606266    0.00134048257372654    0.00100000000000000\n",
            "       746    0.69381607658173872    0.00133868808567604    0.00100000000000000\n",
            "       747    0.69247917818601679    0.00133689839572193    0.00100000000000000\n",
            "       748    0.69381429167066300    0.00133511348464619    0.00100000000000000\n",
            "       749    0.69248095833732970    0.00133333333333333    0.00100000000000000\n",
            "       750    0.69381251626009932    0.00133155792276964    0.00100000000000000\n",
            "       751    0.69248272902605679    0.00132978723404255    0.00100000000000000\n",
            "       752    0.69381075027439676    0.00132802124833997    0.00100000000000000\n",
            "       753    0.69248449032744719    0.00132625994694960    0.00100000000000000\n",
            "       754    0.69380899363870552    0.00132450331125828    0.00100000000000000\n",
            "       755    0.69248624231595424    0.00132275132275132    0.00100000000000000\n",
            "       756    0.69380724627896617    0.00132100396301189    0.00100000000000000\n",
            "       757    0.69248798506524589    0.00131926121372032    0.00100000000000000\n",
            "       758    0.69380550812189934    0.00131752305665349    0.00100000000000000\n",
            "       759    0.69248971864821518    0.00131578947368421    0.00100000000000000\n",
            "       760    0.69380377909499569    0.00131406044678055    0.00100000000000000\n",
            "       761    0.69249144313699040    0.00131233595800525    0.00100000000000000\n",
            "       762    0.69380205912650550    0.00131061598951507    0.00100000000000000\n",
            "       763    0.69249315860294525    0.00130890052356021    0.00100000000000000\n",
            "       764    0.69380034814542890    0.00130718954248366    0.00100000000000000\n",
            "       765    0.69249486511670832    0.00130548302872063    0.00100000000000000\n",
            "       766    0.69379864608150621    0.00130378096479791    0.00100000000000000\n",
            "       767    0.69249656274817284    0.00130208333333333    0.00100000000000000\n",
            "       768    0.69379695286520793    0.00130039011703511    0.00100000000000000\n",
            "       769    0.69249825156650668    0.00129870129870130    0.00100000000000000\n",
            "       770    0.69379526842772588    0.00129701686121920    0.00100000000000000\n",
            "       771    0.69249993164016110    0.00129533678756477    0.00100000000000000\n",
            "       772    0.69379359270096319    0.00129366106080207    0.00100000000000000\n",
            "       773    0.69250160303688046    0.00129198966408269    0.00100000000000000\n",
            "       774    0.69379192561752567    0.00129032258064516    0.00100000000000000\n",
            "       775    0.69250326582371124    0.00128865979381443    0.00100000000000000\n",
            "       776    0.69379026711071257    0.00128700128700129    0.00100000000000000\n",
            "       777    0.69250492006701081    0.00128534704370180    0.00100000000000000\n",
            "       778    0.69378861711450757    0.00128369704749679    0.00100000000000000\n",
            "       779    0.69250656583245629    0.00128205128205128    0.00100000000000000\n",
            "       780    0.69378697556357027    0.00128040973111396    0.00100000000000000\n",
            "       781    0.69250820318505368    0.00127877237851662    0.00100000000000000\n",
            "       782    0.69378534239322742    0.00127713920817369    0.00100000000000000\n",
            "       783    0.69250983218914575    0.00127551020408163    0.00100000000000000\n",
            "       784    0.69378371753946422    0.00127388535031847    0.00100000000000000\n",
            "       785    0.69251145290842098    0.00127226463104326    0.00100000000000000\n",
            "       786    0.69378210093891657    0.00127064803049555    0.00100000000000000\n",
            "       787    0.69251306540592161    0.00126903553299492    0.00100000000000000\n",
            "       788    0.69378049252886209    0.00126742712294043    0.00100000000000000\n",
            "       789    0.69251466974405196    0.00126582278481013    0.00100000000000000\n",
            "       790    0.69377889224721256    0.00126422250316056    0.00100000000000000\n",
            "       791    0.69251626598458627    0.00126262626262626    0.00100000000000000\n",
            "       792    0.69377730003250559    0.00126103404791929    0.00100000000000000\n",
            "       793    0.69251785418867684    0.00125944584382872    0.00100000000000000\n",
            "       794    0.69377571582389697    0.00125786163522013    0.00100000000000000\n",
            "       795    0.69251943441686181    0.00125628140703518    0.00100000000000000\n",
            "       796    0.69377413956115286    0.00125470514429109    0.00100000000000000\n",
            "       797    0.69252100672907269    0.00125313283208020    0.00100000000000000\n",
            "       798    0.69377257118464219    0.00125156445556946    0.00100000000000000\n",
            "       799    0.69252257118464222    0.00125000000000000    0.00100000000000000\n",
            "       800    0.69377101063532887    0.00124843945068664    0.00100000000000000\n",
            "       801    0.69252412784231143    0.00124688279301746    0.00100000000000000\n",
            "       802    0.69376945785476474    0.00124533001245330    0.00100000000000000\n",
            "       803    0.69252567676023735    0.00124378109452736    0.00100000000000000\n",
            "       804    0.69376791278508210    0.00124223602484472    0.00100000000000000\n",
            "       805    0.69252721799600025    0.00124069478908189    0.00100000000000000\n",
            "       806    0.69376637536898667    0.00123915737298637    0.00100000000000000\n",
            "       807    0.69252875160661043    0.00123762376237624    0.00100000000000000\n",
            "       808    0.69376484554975015    0.00123609394313968    0.00100000000000000\n",
            "       809    0.69253027764851560    0.00123456790123457    0.00100000000000000\n",
            "       810    0.69376332327120360    0.00123304562268804    0.00100000000000000\n",
            "       811    0.69253179617760752    0.00123152709359606    0.00100000000000000\n",
            "       812    0.69376180847773050    0.00123001230012300    0.00100000000000000\n",
            "       813    0.69253330724922924    0.00122850122850123    0.00100000000000000\n",
            "       814    0.69376030111425990    0.00122699386503067    0.00100000000000000\n",
            "       815    0.69253481091818148    0.00122549019607843    0.00100000000000000\n",
            "       816    0.69375880112625976    0.00122399020807834    0.00100000000000000\n",
            "       817    0.69253630723872917    0.00122249388753056    0.00100000000000000\n",
            "       818    0.69375730845973038    0.00122100122100122    0.00100000000000000\n",
            "       819    0.69253779626460843    0.00121951219512195    0.00100000000000000\n",
            "       820    0.69375582306119798    0.00121802679658952    0.00100000000000000\n",
            "       821    0.69253927804903248    0.00121654501216545    0.00100000000000000\n",
            "       822    0.69375434487770804    0.00121506682867558    0.00100000000000000\n",
            "       823    0.69254075264469828    0.00121359223300971    0.00100000000000000\n",
            "       824    0.69375287385681950    0.00121212121212121    0.00100000000000000\n",
            "       825    0.69254222010379285    0.00121065375302663    0.00100000000000000\n",
            "       826    0.69375140994659812    0.00120918984280532    0.00100000000000000\n",
            "       827    0.69254368047799908    0.00120772946859903    0.00100000000000000\n",
            "       828    0.69374995309561061    0.00120627261761158    0.00100000000000000\n",
            "       829    0.69254513381850213    0.00120481927710843    0.00100000000000000\n",
            "       830    0.69374850325291848    0.00120336943441637    0.00100000000000000\n",
            "       831    0.69254658017599535    0.00120192307692308    0.00100000000000000\n",
            "       832    0.69374706036807221    0.00120048019207683    0.00100000000000000\n",
            "       833    0.69254801960068613    0.00119904076738609    0.00100000000000000\n",
            "       834    0.69374562439110532    0.00119760479041916    0.00100000000000000\n",
            "       835    0.69254945214230146    0.00119617224880383    0.00100000000000000\n",
            "       836    0.69374419527252851    0.00119474313022700    0.00100000000000000\n",
            "       837    0.69255087785009417    0.00119331742243437    0.00100000000000000\n",
            "       838    0.69374277296332421    0.00119189511323004    0.00100000000000000\n",
            "       839    0.69255229677284802    0.00119047619047619    0.00100000000000000\n",
            "       840    0.69374135741494081    0.00118906064209275    0.00100000000000000\n",
            "       841    0.69255370895888380    0.00118764845605701    0.00100000000000000\n",
            "       842    0.69373994857928711    0.00118623962040332    0.00100000000000000\n",
            "       843    0.69255511445606432    0.00118483412322275    0.00100000000000000\n",
            "       844    0.69373854640872701    0.00118343195266272    0.00100000000000000\n",
            "       845    0.69255651331180035    0.00118203309692671    0.00100000000000000\n",
            "       846    0.69373715085607424    0.00118063754427391    0.00100000000000000\n",
            "       847    0.69255790557305541    0.00117924528301887    0.00100000000000000\n",
            "       848    0.69373576187458663    0.00117785630153121    0.00100000000000000\n",
            "       849    0.69255929128635130    0.00117647058823529    0.00100000000000000\n",
            "       850    0.69373437941796112    0.00117508813160987    0.00100000000000000\n",
            "       851    0.69256067049777337    0.00117370892018779    0.00100000000000000\n",
            "       852    0.69373300344032907    0.00117233294255569    0.00100000000000000\n",
            "       853    0.69256204325297543    0.00117096018735363    0.00100000000000000\n",
            "       854    0.69373163389625025    0.00116959064327485    0.00100000000000000\n",
            "       855    0.69256340959718488    0.00116822429906542    0.00100000000000000\n",
            "       856    0.69373027074070881    0.00116686114352392    0.00100000000000000\n",
            "       857    0.69256476957520763    0.00116550116550117    0.00100000000000000\n",
            "       858    0.69372891392910752    0.00116414435389988    0.00100000000000000\n",
            "       859    0.69256612323143307    0.00116279069767442    0.00100000000000000\n",
            "       860    0.69372756341726349    0.00116144018583043    0.00100000000000000\n",
            "       861    0.69256747060983892    0.00116009280742459    0.00100000000000000\n",
            "       862    0.69372621916140320    0.00115874855156431    0.00100000000000000\n",
            "       863    0.69256881175399576    0.00115740740740741    0.00100000000000000\n",
            "       864    0.69372488111815767    0.00115606936416185    0.00100000000000000\n",
            "       865    0.69257014670707218    0.00115473441108545    0.00100000000000000\n",
            "       866    0.69372354924455781    0.00115340253748558    0.00100000000000000\n",
            "       867    0.69257147551183895    0.00115207373271889    0.00100000000000000\n",
            "       868    0.69372222349802992    0.00115074798619102    0.00100000000000000\n",
            "       869    0.69257279821067363    0.00114942528735632    0.00100000000000000\n",
            "       870    0.69372090383639118    0.00114810562571757    0.00100000000000000\n",
            "       871    0.69257411484556552    0.00114678899082569    0.00100000000000000\n",
            "       872    0.69371959021784502    0.00114547537227950    0.00100000000000000\n",
            "       873    0.69257542545811956    0.00114416475972540    0.00100000000000000\n",
            "       874    0.69371828260097668    0.00114285714285714    0.00100000000000000\n",
            "       875    0.69257673008956111    0.00114155251141553    0.00100000000000000\n",
            "       876    0.69371698094474921    0.00114025085518814    0.00100000000000000\n",
            "       877    0.69257802878074004    0.00113895216400911    0.00100000000000000\n",
            "       878    0.69371568520849891    0.00113765642775882    0.00100000000000000\n",
            "       879    0.69257932157213531    0.00113636363636364    0.00100000000000000\n",
            "       880    0.69371439535193102    0.00113507377979569    0.00100000000000000\n",
            "       881    0.69258060850385850    0.00113378684807256    0.00100000000000000\n",
            "       882    0.69371311133511560    0.00113250283125708    0.00100000000000000\n",
            "       883    0.69258188961565859    0.00113122171945701    0.00100000000000000\n",
            "       884    0.69371183311848339    0.00112994350282486    0.00100000000000000\n",
            "       885    0.69258316494692584    0.00112866817155756    0.00100000000000000\n",
            "       886    0.69371056066282211    0.00112739571589628    0.00100000000000000\n",
            "       887    0.69258443453669594    0.00112612612612613    0.00100000000000000\n",
            "       888    0.69370929392927183    0.00112485939257593    0.00100000000000000\n",
            "       889    0.69258569842365381    0.00112359550561798    0.00100000000000000\n",
            "       890    0.69370803287932159    0.00112233445566779    0.00100000000000000\n",
            "       891    0.69258695664613779    0.00112107623318386    0.00100000000000000\n",
            "       892    0.69370677747480525    0.00111982082866741    0.00100000000000000\n",
            "       893    0.69258820924214304    0.00111856823266219    0.00100000000000000\n",
            "       894    0.69370552767789728    0.00111731843575419    0.00100000000000000\n",
            "       895    0.69258945624932589    0.00111607142857143    0.00100000000000000\n",
            "       896    0.69370428345110957    0.00111482720178372    0.00100000000000000\n",
            "       897    0.69259069770500714    0.00111358574610245    0.00100000000000000\n",
            "       898    0.69370304475728750    0.00111234705228031    0.00100000000000000\n",
            "       899    0.69259193364617644    0.00111111111111111    0.00100000000000000\n",
            "       900    0.69370181155960597    0.00110987791342952    0.00100000000000000\n",
            "       901    0.69259316410949512    0.00110864745011086    0.00100000000000000\n",
            "       902    0.69370058382156596    0.00110741971207087    0.00100000000000000\n",
            "       903    0.69259438913130045    0.00110619469026549    0.00100000000000000\n",
            "       904    0.69369936150699107    0.00110497237569061    0.00100000000000000\n",
            "       905    0.69259560874760917    0.00110375275938190    0.00100000000000000\n",
            "       906    0.69369814458002377    0.00110253583241455    0.00100000000000000\n",
            "       907    0.69259682299412073    0.00110132158590308    0.00100000000000000\n",
            "       908    0.69369693300512181    0.00110011001100110    0.00100000000000000\n",
            "       909    0.69259803190622071    0.00109890109890110    0.00100000000000000\n",
            "       910    0.69369572674705493    0.00109769484083425    0.00100000000000000\n",
            "       911    0.69259923551898472    0.00109649122807018    0.00100000000000000\n",
            "       912    0.69369452577090152    0.00109529025191676    0.00100000000000000\n",
            "       913    0.69260043386718162    0.00109409190371991    0.00100000000000000\n",
            "       914    0.69369333004204503    0.00109289617486339    0.00100000000000000\n",
            "       915    0.69260162698527650    0.00109170305676856    0.00100000000000000\n",
            "       916    0.69369213952617070    0.00109051254089422    0.00100000000000000\n",
            "       917    0.69260281490743436    0.00108932461873638    0.00100000000000000\n",
            "       918    0.69369095418926241    0.00108813928182807    0.00100000000000000\n",
            "       919    0.69260399766752323    0.00108695652173913    0.00100000000000000\n",
            "       920    0.69368977399759923    0.00108577633007600    0.00100000000000000\n",
            "       921    0.69260517529911769    0.00108459869848156    0.00100000000000000\n",
            "       922    0.69368859891775259    0.00108342361863489    0.00100000000000000\n",
            "       923    0.69260634783550146    0.00108225108225108    0.00100000000000000\n",
            "       924    0.69368742891658253    0.00108108108108108    0.00100000000000000\n",
            "       925    0.69260751530967113    0.00107991360691145    0.00100000000000000\n",
            "       926    0.69368626396123534    0.00107874865156419    0.00100000000000000\n",
            "       927    0.69260867775433876    0.00107758620689655    0.00100000000000000\n",
            "       928    0.69368510401913963    0.00107642626480086    0.00100000000000000\n",
            "       929    0.69260983520193531    0.00107526881720430    0.00100000000000000\n",
            "       930    0.69368394905800401    0.00107411385606874    0.00100000000000000\n",
            "       931    0.69261098768461349    0.00107296137339056    0.00100000000000000\n",
            "       932    0.69368279904581387    0.00107181136120043    0.00100000000000000\n",
            "       933    0.69261213523425069    0.00107066381156317    0.00100000000000000\n",
            "       934    0.69368165395082826    0.00106951871657754    0.00100000000000000\n",
            "       935    0.69261327788245219    0.00106837606837607    0.00100000000000000\n",
            "       936    0.69368051374157702    0.00106723585912487    0.00100000000000000\n",
            "       937    0.69261441566055360    0.00106609808102345    0.00100000000000000\n",
            "       938    0.69367937838685823    0.00106496272630458    0.00100000000000000\n",
            "       939    0.69261554859962415    0.00106382978723404    0.00100000000000000\n",
            "       940    0.69367824785573462    0.00106269925611052    0.00100000000000000\n",
            "       941    0.69261667673046923    0.00106157112526539    0.00100000000000000\n",
            "       942    0.69367712211753174    0.00106044538706257    0.00100000000000000\n",
            "       943    0.69261780008363338    0.00105932203389831    0.00100000000000000\n",
            "       944    0.69367600114183448    0.00105820105820106    0.00100000000000000\n",
            "       945    0.69261891868940317    0.00105708245243129    0.00100000000000000\n",
            "       946    0.69367488489848450    0.00105596620908131    0.00100000000000000\n",
            "       947    0.69262003257780935    0.00105485232067511    0.00100000000000000\n",
            "       948    0.69367377335757752    0.00105374077976818    0.00100000000000000\n",
            "       949    0.69262114177863010    0.00105263157894737    0.00100000000000000\n",
            "       950    0.69367266648946080    0.00105152471083070    0.00100000000000000\n",
            "       951    0.69262224632139358    0.00105042016806723    0.00100000000000000\n",
            "       952    0.69367156426473042    0.00104931794333683    0.00100000000000000\n",
            "       953    0.69262334623538035    0.00104821802935010    0.00100000000000000\n",
            "       954    0.69367046665422849    0.00104712041884817    0.00100000000000000\n",
            "       955    0.69262444154962599    0.00104602510460251    0.00100000000000000\n",
            "       956    0.69366937362904080    0.00104493207941484    0.00100000000000000\n",
            "       957    0.69262553229292390    0.00104384133611691    0.00100000000000000\n",
            "       958    0.69366828516049428    0.00104275286757039    0.00100000000000000\n",
            "       959    0.69262661849382756    0.00104166666666667    0.00100000000000000\n",
            "       960    0.69366720122015435    0.00104058272632674    0.00100000000000000\n",
            "       961    0.69262770018065334    0.00103950103950104    0.00100000000000000\n",
            "       962    0.69366612177982256    0.00103842159916926    0.00100000000000000\n",
            "       963    0.69262877738148232    0.00103734439834025    0.00100000000000000\n",
            "       964    0.69366504681153418    0.00103626943005181    0.00100000000000000\n",
            "       965    0.69262985012416356    0.00103519668737060    0.00100000000000000\n",
            "       966    0.69366397628755549    0.00103412616339193    0.00100000000000000\n",
            "       967    0.69263091843631586    0.00103305785123967    0.00100000000000000\n",
            "       968    0.69366291018038195    0.00103199174406605    0.00100000000000000\n",
            "       969    0.69263198234533041    0.00103092783505155    0.00100000000000000\n",
            "       970    0.69366184846273515    0.00102986611740474    0.00100000000000000\n",
            "       971    0.69263304187837305    0.00102880658436214    0.00100000000000000\n",
            "       972    0.69366079110756107    0.00102774922918808    0.00100000000000000\n",
            "       973    0.69263409706238654    0.00102669404517454    0.00100000000000000\n",
            "       974    0.69365973808802761    0.00102564102564103    0.00100000000000000\n",
            "       975    0.69263514792409320    0.00102459016393443    0.00100000000000000\n",
            "       976    0.69365868937752206    0.00102354145342886    0.00100000000000000\n",
            "       977    0.69263619448999647    0.00102249488752556    0.00100000000000000\n",
            "       978    0.69365764494964921    0.00102145045965271    0.00100000000000000\n",
            "       979    0.69263723678638389    0.00102040816326531    0.00100000000000000\n",
            "       980    0.69365660477822899    0.00101936799184506    0.00100000000000000\n",
            "       981    0.69263827483932883    0.00101832993890020    0.00100000000000000\n",
            "       982    0.69365556883729429    0.00101729399796541    0.00100000000000000\n",
            "       983    0.69263930867469270    0.00101626016260163    0.00100000000000000\n",
            "       984    0.69365453710108860    0.00101522842639594    0.00100000000000000\n",
            "       985    0.69264033831812710    0.00101419878296146    0.00100000000000000\n",
            "       986    0.69365350954406424    0.00101317122593718    0.00100000000000000\n",
            "       987    0.69264136379507635    0.00101214574898785    0.00100000000000000\n",
            "       988    0.69365248614088015    0.00101112234580384    0.00100000000000000\n",
            "       989    0.69264238513077914    0.00101010101010101    0.00100000000000000\n",
            "       990    0.69365146686639967    0.00100908173562059    0.00100000000000000\n",
            "       991    0.69264340235027066    0.00100806451612903    0.00100000000000000\n",
            "       992    0.69365045169568862    0.00100704934541793    0.00100000000000000\n",
            "       993    0.69264441547838485    0.00100603621730382    0.00100000000000000\n",
            "       994    0.69364944060401301    0.00100502512562814    0.00100000000000000\n",
            "       995    0.69264542453975597    0.00100401606425703    0.00100000000000000\n",
            "       996    0.69364843356683725    0.00100300902708124    0.00100000000000000\n",
            "       997    0.69264642955882127    0.00100200400801603    0.00100000000000000\n",
            "       998    0.69364743055982225    0.00100100100100100    0.00100000000000000\n",
            "       999    0.69264743055982225    0.00100000000000000    0.00100000000000000\n",
            "      1000    0.69364643155882322    0.00099900099900100    0.00100000000000000\n",
            "n =  1000\n",
            "x =  1\n",
            "ln_x_1 ≈ ∑_{i=1}^1000 (-1)^i * x^(i+1) / (i+1) = 0.6936464315588232\n",
            "math.log(x+1) =  0.6931471805599453\n"
          ]
        }
      ]
    },
    {
      "cell_type": "markdown",
      "metadata": {
        "id": "sA0agO9d6Obk"
      },
      "source": [
        "# Error using the Lagrange's formula of the Residual $E_n$\n",
        "\n",
        "* From: Numerical Analysis Mathematics of Scientific Computing David Kincaid and Ward Cheney\n",
        "\n",
        "For the Taylor series for $f(x) = ln(x+1)$ about $c=0$ (Maclaurin) with $\\left| x \\right| <1 $\n",
        "\n",
        "If $x \\ge 0$ then for any $0 \\le \\xi \\le x$\n",
        "\n",
        "$$ E_n = \\frac{f^{(n+1)}(\\xi)}{(n+1)!}(x-c)^{(n+1)} = \\frac{(-1)^{n}(n)!(1+ξ)^{-(n+1)}}{(n+1)!}x^{(n+1)} = \\frac{(-1)^{n}(1+ξ)^{-(n+1)}}{(n+1)}x^{(n+1)} \\le \\frac{(-1)^{n}}{(n+1)}x^{(n+1)} $$\n",
        "\n",
        "If $x < 0$ then for any $x \\le \\xi < 0$\n",
        "\n",
        "$$ E_n = \\frac{f^{(n+1)}(\\xi)}{(n+1)!}(x-c)^{(n+1)} = \\frac{(-1)^{n}(n)!(1+ξ)^{-(n+1)}}{(n+1)!}x^{(n+1)} = \\frac{(-1)^{n}(1+ξ)^{-(n+1)}}{(n+1)}x^{(n+1)} \\le \\frac{(-1)^{n}(1+x)^{-(n+1)}}{(n+1)}x^{(n+1)} $$"
      ]
    },
    {
      "cell_type": "markdown",
      "metadata": {
        "id": "tXqCK33N-cm1"
      },
      "source": [
        "What is the minimun $n$ for which the error using the Lagrange's formula of the Residual $E_n$ of the Taylos series for $ln(1+x)$ about $0$ (Maclaurin  series), is less than  $\\epsilon$.\n",
        "\n",
        "$$\\min_{n \\in \\mathbb{N}}\\left\\{ \\frac{(-1)^{n}}{(n+1)}x^{(n+1)} \\right\\} < \\epsilon \\text{ if }  x \\ge 0$$\n",
        "\n",
        "and\n",
        "\n",
        "$$\\min_{n \\in \\mathbb{N}}\\left\\{ \\frac{(-1)^{n}(1+x)^{-(n+1)}}{(n+1)}x^{(n+1)} \\right\\} < \\epsilon \\text{ if }  x < 0$$"
      ]
    },
    {
      "cell_type": "code",
      "metadata": {
        "colab": {
          "base_uri": "https://localhost:8080/"
        },
        "id": "RB_x8qiA-3MV",
        "outputId": "3f9dc941-1d1e-4fa2-e878-3f8301b30491"
      },
      "source": [
        "import math\n",
        "\n",
        "x = 1/4\n",
        "epsilon = 10**(-3)\n",
        "result = 0\n",
        "i = 0\n",
        "error = (-1)**(i) * ( x ** (i+1) ) / ( i+1 )\n",
        "print(\"n\".rjust(10),\" \",\"∑_{i=1}^n  x^i/i!\".center(21),\" \",\"error=e^x x^(n+1)/(n+1)!\".center(20),\" \",\"epsilon\".center(20))\n",
        "print(format(i, '10'),\"  \", format(result, '.17f'),\"  \",format(error, '.17f'),\"  \",format(epsilon, '.17f'))\n",
        "while  epsilon <= abs(error):\n",
        "  result +=  (-1)**(i) * ( x ** (i+1) ) / ( i+1 )\n",
        "  if ( x >= 0 ):\n",
        "     error = x**(i+1) / ( (i+1) )\n",
        "  else:\n",
        "    error =  (1+x)**(-(i+1)) * x**(i+1) / ( (i+1) )\n",
        "  print(format(i, '10'),\"  \", format(result, '.17f'),\"  \",format(error, '.17f'),\"  \",format(epsilon, '.17f')) \n",
        "  i = i+1\n",
        "print(\"n = \",i-1) \n",
        "print('x = ',x)\n",
        "print('result ≈ ∑_{i=1}^'+str(i-1),'(-1)^i * x^(i+1) / (i+1) =',result)    \n",
        "print('math.log(x+1) = ',math.log(x+1))"
      ],
      "execution_count": null,
      "outputs": [
        {
          "output_type": "stream",
          "name": "stdout",
          "text": [
            "         n     ∑_{i=1}^n  x^i/i!     error=e^x x^(n+1)/(n+1)!         epsilon       \n",
            "         0    0.00000000000000000    0.25000000000000000    0.00100000000000000\n",
            "         0    0.25000000000000000    0.25000000000000000    0.00100000000000000\n",
            "         1    0.21875000000000000    0.03125000000000000    0.00100000000000000\n",
            "         2    0.22395833333333334    0.00520833333333333    0.00100000000000000\n",
            "         3    0.22298177083333334    0.00097656250000000    0.00100000000000000\n",
            "n =  3\n",
            "x =  0.25\n",
            "result ≈ ∑_{i=1}^3 (-1)^i * x^(i+1) / (i+1) = 0.22298177083333334\n",
            "math.log(x+1) =  0.22314355131420976\n"
          ]
        }
      ]
    },
    {
      "cell_type": "code",
      "metadata": {
        "colab": {
          "base_uri": "https://localhost:8080/"
        },
        "id": "XlFeUNNsAbU1",
        "outputId": "05677a43-d78a-47a1-bf1b-b47923bfb974"
      },
      "source": [
        "import math\n",
        "\n",
        "x = -1/4\n",
        "epsilon = 10**(-3)\n",
        "result = 0\n",
        "i = 0\n",
        "error = (-1)**(i) * ( x ** (i+1) ) / ( i+1 )\n",
        "print(\"n\".rjust(10),\" \",\"∑_{i=1}^n  x^i/i!\".center(21),\" \",\"error=e^x x^(n+1)/(n+1)!\".center(20),\" \",\"epsilon\".center(20))\n",
        "print(format(i, '10'),\"  \", format(result, '.17f'),\"  \",format(error, '.17f'),\"  \",format(epsilon, '.17f'))\n",
        "while  epsilon <= abs(error):\n",
        "  result +=  (-1)**(i) * ( x ** (i+1) ) / ( i+1 )\n",
        "  if ( x >= 0 ):\n",
        "     error = x**(i+1) / ( (i+1) )\n",
        "  else:\n",
        "    error =  (1+x)**(-(i+1)) * x**(i+1) / ( (i+1) )\n",
        "  print(format(i, '10'),\"  \", format(result, '.17f'),\"  \",format(error, '.17f'),\"  \",format(epsilon, '.17f')) \n",
        "  i = i+1\n",
        "print(\"n = \",i-1) \n",
        "print('x = ',x)\n",
        "print('result ≈ ∑_{i=1}^'+str(i-1),'(-1)^i * x^(i+1) / (i+1) =',result)    \n",
        "print('math.log(x+1) = ',math.log(x+1))"
      ],
      "execution_count": null,
      "outputs": [
        {
          "output_type": "stream",
          "name": "stdout",
          "text": [
            "         n     ∑_{i=1}^n  x^i/i!     error=e^x x^(n+1)/(n+1)!         epsilon       \n",
            "         0    0.00000000000000000    -0.25000000000000000    0.00100000000000000\n",
            "         0    -0.25000000000000000    -0.33333333333333331    0.00100000000000000\n",
            "         1    -0.28125000000000000    0.05555555555555555    0.00100000000000000\n",
            "         2    -0.28645833333333331    -0.01234567901234568    0.00100000000000000\n",
            "         3    -0.28743489583333331    0.00308641975308642    0.00100000000000000\n",
            "         4    -0.28763020833333330    -0.00082304526748971    0.00100000000000000\n",
            "n =  4\n",
            "x =  -0.25\n",
            "result ≈ ∑_{i=1}^4 (-1)^i * x^(i+1) / (i+1) = -0.2876302083333333\n",
            "math.log(x+1) =  -0.2876820724517809\n"
          ]
        }
      ]
    },
    {
      "cell_type": "markdown",
      "source": [
        "## Taylor series of $sin(x)$\n",
        "\n",
        "$$ ln(x+1) = \\sum_{n=0}^{\\infty} (-1)^{n} \\frac{x^{1+2i}}{(1+2i)!} $$"
      ],
      "metadata": {
        "id": "wRLsCn0d4OQ5"
      }
    },
    {
      "cell_type": "markdown",
      "source": [
        "What is value of the partial Taylor series of $sin(x)$ up to the  $n$-th term of $sin(x)$ about $0$ (Maclaurin  series) for $x=1/3$"
      ],
      "metadata": {
        "id": "a1nrrO2u4c0b"
      }
    },
    {
      "cell_type": "code",
      "source": [
        "# ∑_{i=1}^n  (-1)^(i) * x^(1+2*i) / (1+2*i)!\n",
        "import math\n",
        "\n",
        "n = 10\n",
        "x = 1/3\n",
        "sin_x = 0\n",
        "for i in range(n+1):\n",
        "    sin_x += (-1)**(i) * ( x ** (1+2*i) ) / math.factorial( 1+2*i ) \n",
        "    print('ln(x+1) ≈ ∑_{i=0}^'+str(i)+' (-1)^(i) * x^(1+2*i) / (1+2*i)!',' = ',sin_x )  \n",
        "print(\"sin_x = \",sin_x)\n",
        "print('math.sin(x) = ',math.sin(x))"
      ],
      "metadata": {
        "colab": {
          "base_uri": "https://localhost:8080/"
        },
        "id": "7NVrp-QF4hwD",
        "outputId": "995ddda3-f7fc-445c-a0f4-faba8e8adaee"
      },
      "execution_count": null,
      "outputs": [
        {
          "output_type": "stream",
          "name": "stdout",
          "text": [
            "ln(x+1) ≈ ∑_{i=0}^0 (-1)^(i) * x^(1+2*i) / (1+2*i)!  =  0.3333333333333333\n",
            "ln(x+1) ≈ ∑_{i=0}^1 (-1)^(i) * x^(1+2*i) / (1+2*i)!  =  0.3271604938271605\n",
            "ln(x+1) ≈ ∑_{i=0}^2 (-1)^(i) * x^(1+2*i) / (1+2*i)!  =  0.3271947873799726\n",
            "ln(x+1) ≈ ∑_{i=0}^3 (-1)^(i) * x^(1+2*i) / (1+2*i)!  =  0.3271946966562879\n",
            "ln(x+1) ≈ ∑_{i=0}^4 (-1)^(i) * x^(1+2*i) / (1+2*i)!  =  0.3271946967962936\n",
            "ln(x+1) ≈ ∑_{i=0}^5 (-1)^(i) * x^(1+2*i) / (1+2*i)!  =  0.32719469679615215\n",
            "ln(x+1) ≈ ∑_{i=0}^6 (-1)^(i) * x^(1+2*i) / (1+2*i)!  =  0.32719469679615226\n",
            "ln(x+1) ≈ ∑_{i=0}^7 (-1)^(i) * x^(1+2*i) / (1+2*i)!  =  0.32719469679615226\n",
            "ln(x+1) ≈ ∑_{i=0}^8 (-1)^(i) * x^(1+2*i) / (1+2*i)!  =  0.32719469679615226\n",
            "ln(x+1) ≈ ∑_{i=0}^9 (-1)^(i) * x^(1+2*i) / (1+2*i)!  =  0.32719469679615226\n",
            "ln(x+1) ≈ ∑_{i=0}^10 (-1)^(i) * x^(1+2*i) / (1+2*i)!  =  0.32719469679615226\n",
            "sin_x =  0.32719469679615226\n",
            "math.sin(x) =  0.3271946967961522\n"
          ]
        }
      ]
    },
    {
      "cell_type": "markdown",
      "metadata": {
        "id": "oSilg9e-L1sD"
      },
      "source": [
        "What is the minimun $n$ for which the $n+1$-th term of the Taylor series for $sin(x)$ about $0$ (Maclaurin  series) for $x$, is in absolute value less than  $\\epsilon$.\n",
        "\n",
        "$$\\min_{n \\in \\mathbb{N}}\\left| (-1)^{n} \\frac{x^{1+2i}}{(1+2i)!} \\right| < \\epsilon$$"
      ]
    },
    {
      "cell_type": "code",
      "metadata": {
        "colab": {
          "base_uri": "https://localhost:8080/"
        },
        "id": "c3CNlDMpL-0D",
        "outputId": "95f37934-d594-4858-b9db-486257ce014a"
      },
      "source": [
        "# Retunrs Min n, |(-1)^(i) * x^(1+2*i) / (1+2*i)!| < epsilon and ∑_{i=1}^{n+1}  (-1)^(i) * x^(1+2*i) / (1+2*i)!\n",
        "import math\n",
        "\n",
        "x = 1\n",
        "epsilon = 10**(-12)\n",
        "delta = 1\n",
        "sin_x = 0\n",
        "i = 0\n",
        "print(\"n\".rjust(10),\" \",\"∑_{i=1}^n  x^i/i!\".center(21),\" \",\"|x^n/n!|\".center(20),\" \",\"epsilon\".center(20))\n",
        "while  epsilon <= abs(delta):\n",
        "  delta = (-1)**(i) * ( x ** (1+2*i) ) / math.factorial( 1+2*i )\n",
        "  sin_x += delta\n",
        "  print(format(i, '10'),\"  \", format(sin_x, '.17f'),\"  \",format( abs(delta), '.17f'),\"  \",format(epsilon, '.17f')) \n",
        "  i = i+1\n",
        "print(\"n = \",i-1) \n",
        "print('x = ',x)\n",
        "print('sin_x ≈ ∑_{i=1}^'+str(i-1),'(-1)^(i) * x^(1+2*i) / (1+2*i)! =',sin_x)    \n",
        "print('math.sin(x) = ',math.sin(x))"
      ],
      "execution_count": null,
      "outputs": [
        {
          "output_type": "stream",
          "name": "stdout",
          "text": [
            "         n     ∑_{i=1}^n  x^i/i!           |x^n/n!|               epsilon       \n",
            "         0    1.00000000000000000    1.00000000000000000    0.00000000000100000\n",
            "         1    0.83333333333333337    0.16666666666666666    0.00000000000100000\n",
            "         2    0.84166666666666667    0.00833333333333333    0.00000000000100000\n",
            "         3    0.84146825396825398    0.00019841269841270    0.00000000000100000\n",
            "         4    0.84147100970017641    0.00000275573192240    0.00000000000100000\n",
            "         5    0.84147098464806802    0.00000002505210839    0.00000000000100000\n",
            "         6    0.84147098480865845    0.00000000016059044    0.00000000000100000\n",
            "         7    0.84147098480789373    0.00000000000076472    0.00000000000100000\n",
            "n =  7\n",
            "x =  1\n",
            "sin_x ≈ ∑_{i=1}^7 (-1)^(i) * x^(1+2*i) / (1+2*i)! = 0.8414709848078937\n",
            "math.sin(x) =  0.8414709848078965\n"
          ]
        }
      ]
    },
    {
      "cell_type": "markdown",
      "metadata": {
        "id": "hV79WSH1MfRs"
      },
      "source": [
        "# Error using the Lagrange's formula of the Residual $E_n$\n",
        "\n",
        "* From: Numerical Analysis Mathematics of Scientific Computing David Kincaid and Ward Cheney\n",
        "\n",
        "For the Taylor series for $f(x) = sin(x)$ about $c=0$ (Maclaurin) $\n",
        "\n",
        "$$ E_n = \\frac{f^{(n+1)}(\\xi)}{(n+1)!}(x-c)^{(n+1)} = \\frac{\\pm sin(\\xi)}{(n+1)!} \\text{ or } \\frac{\\pm cos(\\xi)}{(n+1)!} \\le \\frac{1}{(n+1)!} $$"
      ]
    },
    {
      "cell_type": "markdown",
      "metadata": {
        "id": "acyf6HzWNuIM"
      },
      "source": [
        "What is the minimun $n$ for which the error using the Lagrange's formula of the Residual $E_n$ of the Taylos series for $sin(x)$ about $0$ (Maclaurin  series), is less than  $\\epsilon$.\n",
        "\n",
        "$$\\min_{n \\in \\mathbb{N}}\\left\\{ \\frac{1}{(n+1)!} \\right\\} < \\epsilon $$"
      ]
    },
    {
      "cell_type": "code",
      "metadata": {
        "colab": {
          "base_uri": "https://localhost:8080/"
        },
        "id": "YhIBUoKdOHrM",
        "outputId": "0e97df79-180b-4abd-9076-e5040fed486a"
      },
      "source": [
        "import math\n",
        "\n",
        "x = 1/2\n",
        "epsilon = 10**(-12)\n",
        "sin_x = 0\n",
        "i = 0\n",
        "error = (-1)**(i) * ( x ** (1+2*i) ) / math.factorial( 1+2*i )\n",
        "print(\"n\".rjust(10),\" \",\"∑_{i=1}^n  x^i/i!\".center(21),\" \",\"error=e^x x^(n+1)/(n+1)!\".center(20),\" \",\"epsilon\".center(20))\n",
        "print(format(i, '10'),\"  \", format(sin_x, '.17f'),\"  \",format(error, '.17f'),\"  \",format(epsilon, '.17f'))\n",
        "while  epsilon <= abs(error):\n",
        "  sin_x += (-1)**(i) * ( x ** (1+2*i) ) / math.factorial( 1+2*i )\n",
        "  error = 1 / math.factorial( i+1 )\n",
        "  print(format(i, '10'),\"  \", format(sin_x, '.17f'),\"  \",format(error, '.17f'),\"  \",format(epsilon, '.17f')) \n",
        "  i = i+1\n",
        "print(\"n = \",i-1) \n",
        "print('x = ',x)\n",
        "print('sin_x ≈ ∑_{i=1}^'+str(i-1),'(-1)^i * x^(i+1) / (i+1) =',sin_x)    \n",
        "print('math.sin(x) = ',math.sin(x))"
      ],
      "execution_count": null,
      "outputs": [
        {
          "output_type": "stream",
          "name": "stdout",
          "text": [
            "         n     ∑_{i=1}^n  x^i/i!     error=e^x x^(n+1)/(n+1)!         epsilon       \n",
            "         0    0.00000000000000000    0.50000000000000000    0.00000000000100000\n",
            "         0    0.50000000000000000    1.00000000000000000    0.00000000000100000\n",
            "         1    0.47916666666666669    0.50000000000000000    0.00000000000100000\n",
            "         2    0.47942708333333334    0.16666666666666666    0.00000000000100000\n",
            "         3    0.47942553323412701    0.04166666666666666    0.00000000000100000\n",
            "         4    0.47942553861641590    0.00833333333333333    0.00000000000100000\n",
            "         5    0.47942553860418341    0.00138888888888889    0.00000000000100000\n",
            "         6    0.47942553860420301    0.00019841269841270    0.00000000000100000\n",
            "         7    0.47942553860420301    0.00002480158730159    0.00000000000100000\n",
            "         8    0.47942553860420301    0.00000275573192240    0.00000000000100000\n",
            "         9    0.47942553860420301    0.00000027557319224    0.00000000000100000\n",
            "        10    0.47942553860420301    0.00000002505210839    0.00000000000100000\n",
            "        11    0.47942553860420301    0.00000000208767570    0.00000000000100000\n",
            "        12    0.47942553860420301    0.00000000016059044    0.00000000000100000\n",
            "        13    0.47942553860420301    0.00000000001147075    0.00000000000100000\n",
            "        14    0.47942553860420301    0.00000000000076472    0.00000000000100000\n",
            "n =  14\n",
            "x =  0.5\n",
            "sin_x ≈ ∑_{i=1}^14 (-1)^i * x^(i+1) / (i+1) = 0.479425538604203\n",
            "math.sin(x) =  0.479425538604203\n"
          ]
        }
      ]
    },
    {
      "cell_type": "code",
      "metadata": {
        "colab": {
          "base_uri": "https://localhost:8080/"
        },
        "id": "ysZ1HsKWOu-M",
        "outputId": "519097a6-c94c-4643-fbb6-b636283d1849"
      },
      "source": [
        "import math\n",
        "\n",
        "x = -1/2\n",
        "epsilon = 10**(-12)\n",
        "sin_x = 0\n",
        "i = 0\n",
        "error = (-1)**(i) * ( x ** (1+2*i) ) / math.factorial( 1+2*i )\n",
        "print(\"n\".rjust(10),\" \",\"∑_{i=1}^n  x^i/i!\".center(21),\" \",\"error=e^x x^(n+1)/(n+1)!\".center(20),\" \",\"epsilon\".center(20))\n",
        "print(format(i, '10'),\"  \", format(sin_x, '.17f'),\"  \",format(error, '.17f'),\"  \",format(epsilon, '.17f'))\n",
        "while  epsilon <= abs(error):\n",
        "  sin_x += (-1)**(i) * ( x ** (1+2*i) ) / math.factorial( 1+2*i )\n",
        "  error = 1 / math.factorial( i+1 )\n",
        "  print(format(i, '10'),\"  \", format(sin_x, '.17f'),\"  \",format(error, '.17f'),\"  \",format(epsilon, '.17f')) \n",
        "  i = i+1\n",
        "print(\"n = \",i-1) \n",
        "print('x = ',x)\n",
        "print('sin_x ≈ ∑_{i=1}^'+str(i-1),'(-1)^i * x^(i+1) / (i+1) =',sin_x)    \n",
        "print('math.sin(x) = ',math.sin(x))"
      ],
      "execution_count": null,
      "outputs": [
        {
          "output_type": "stream",
          "name": "stdout",
          "text": [
            "         n     ∑_{i=1}^n  x^i/i!     error=e^x x^(n+1)/(n+1)!         epsilon       \n",
            "         0    0.00000000000000000    -0.50000000000000000    0.00000000000100000\n",
            "         0    -0.50000000000000000    1.00000000000000000    0.00000000000100000\n",
            "         1    -0.47916666666666669    0.50000000000000000    0.00000000000100000\n",
            "         2    -0.47942708333333334    0.16666666666666666    0.00000000000100000\n",
            "         3    -0.47942553323412701    0.04166666666666666    0.00000000000100000\n",
            "         4    -0.47942553861641590    0.00833333333333333    0.00000000000100000\n",
            "         5    -0.47942553860418341    0.00138888888888889    0.00000000000100000\n",
            "         6    -0.47942553860420301    0.00019841269841270    0.00000000000100000\n",
            "         7    -0.47942553860420301    0.00002480158730159    0.00000000000100000\n",
            "         8    -0.47942553860420301    0.00000275573192240    0.00000000000100000\n",
            "         9    -0.47942553860420301    0.00000027557319224    0.00000000000100000\n",
            "        10    -0.47942553860420301    0.00000002505210839    0.00000000000100000\n",
            "        11    -0.47942553860420301    0.00000000208767570    0.00000000000100000\n",
            "        12    -0.47942553860420301    0.00000000016059044    0.00000000000100000\n",
            "        13    -0.47942553860420301    0.00000000001147075    0.00000000000100000\n",
            "        14    -0.47942553860420301    0.00000000000076472    0.00000000000100000\n",
            "n =  14\n",
            "x =  -0.5\n",
            "sin_x ≈ ∑_{i=1}^14 (-1)^i * x^(i+1) / (i+1) = -0.479425538604203\n",
            "math.sin(x) =  -0.479425538604203\n"
          ]
        }
      ]
    },
    {
      "cell_type": "markdown",
      "source": [
        "#PUNTO 3"
      ],
      "metadata": {
        "id": "t327a7VA62QC"
      }
    },
    {
      "cell_type": "markdown",
      "metadata": {
        "id": "L7h6aPeNOc_p"
      },
      "source": [
        "Taylor Series Expansion with Python from Data Science Fabric \n",
        "\n",
        "https://dsfabric.org/taylor-series-expansion-with-python"
      ]
    },
    {
      "cell_type": "code",
      "metadata": {
        "id": "bvdPNIdZOYeH"
      },
      "source": [
        "from sympy import series, Symbol, pi, E, sin\n",
        "from sympy.functions import  cos, exp\n",
        "from sympy.plotting import plot\n",
        "import matplotlib.pyplot as plt"
      ],
      "execution_count": null,
      "outputs": []
    },
    {
      "cell_type": "code",
      "metadata": {
        "id": "o7S1pvB8OfzJ"
      },
      "source": [
        "# Define symbol\n",
        "x = Symbol('x')"
      ],
      "execution_count": null,
      "outputs": []
    },
    {
      "cell_type": "code",
      "metadata": {
        "id": "WbzChBNdOhsJ"
      },
      "source": [
        "# Function for Taylor Series Expansion\n",
        "\n",
        "def taylor(function, x0, n):\n",
        "    \"\"\"\n",
        "    Parameter \"function\" is our function which we want to approximate\n",
        "    \"x0\" is the point where to approximate\n",
        "    \"n\" is the order of approximation\n",
        "    \"\"\"\n",
        "    return function.series(x,x0,n)"
      ],
      "execution_count": null,
      "outputs": []
    },
    {
      "cell_type": "code",
      "metadata": {
        "colab": {
          "base_uri": "https://localhost:8080/"
        },
        "id": "PkSgrGYeOkzg",
        "outputId": "7be15abc-7100-45b5-b4f4-fdde0650cfa6"
      },
      "source": [
        "print('cos(x) ≅', taylor(cos(x), 0, 10))\n",
        "\n",
        "print('e(x) ≅', taylor(exp(x), 0, 8))"
      ],
      "execution_count": null,
      "outputs": [
        {
          "output_type": "stream",
          "name": "stdout",
          "text": [
            "cos(x) ≅ 1 - x**2/2 + x**4/24 - x**6/720 + x**8/40320 + O(x**10)\n",
            "e(x) ≅ 1 + x + x**2/2 + x**3/6 + x**4/24 + x**5/120 + x**6/720 + x**7/5040 + O(x**8)\n"
          ]
        }
      ]
    },
    {
      "cell_type": "code",
      "metadata": {
        "colab": {
          "base_uri": "https://localhost:8080/"
        },
        "id": "Mfg7kzgUdfY7",
        "outputId": "bc0ba3f7-96dd-46b9-dc12-2f5dcdf6021d"
      },
      "source": [
        "print('cos(x) ≅', taylor(cos(x), pi/4, 10))\n",
        "\n",
        "print('e(x) ≅', taylor(exp(x), E, 8))"
      ],
      "execution_count": null,
      "outputs": [
        {
          "output_type": "stream",
          "name": "stdout",
          "text": [
            "cos(x) ≅ sqrt(2)/2 - sqrt(2)*(x - pi/4)/2 - sqrt(2)*(x - pi/4)**2/4 + sqrt(2)*(x - pi/4)**3/12 + sqrt(2)*(x - pi/4)**4/48 - sqrt(2)*(x - pi/4)**5/240 - sqrt(2)*(x - pi/4)**6/1440 + sqrt(2)*(x - pi/4)**7/10080 + sqrt(2)*(x - pi/4)**8/80640 - sqrt(2)*(x - pi/4)**9/725760 + O((x - pi/4)**10, (x, pi/4))\n",
            "e(x) ≅ exp(E) + (x - E)*exp(E) + (x - E)**2*exp(E)/2 + (x - E)**3*exp(E)/6 + (x - E)**4*exp(E)/24 + (x - E)**5*exp(E)/120 + (x - E)**6*exp(E)/720 + (x - E)**7*exp(E)/5040 + O((x - E)**8, (x, E))\n"
          ]
        }
      ]
    },
    {
      "cell_type": "code",
      "metadata": {
        "id": "vH1e_kjw16CT",
        "colab": {
          "base_uri": "https://localhost:8080/"
        },
        "outputId": "06bdc749-8eb0-4e8c-ab69-d8894e33789e"
      },
      "source": [
        "print('cos(1) =', taylor(cos(x), 0, 4).subs(x,1))\n",
        "\n",
        "print('e(1) =', taylor(exp(x), 0, 4).subs(x,1))"
      ],
      "execution_count": null,
      "outputs": [
        {
          "output_type": "stream",
          "name": "stdout",
          "text": [
            "cos(1) = O(1)\n",
            "e(1) = O(1)\n"
          ]
        }
      ]
    },
    {
      "cell_type": "code",
      "metadata": {
        "id": "UTzLSXhx1YZj"
      },
      "source": [
        "# Function for Taylor Series Expansion\n",
        "\n",
        "def taylor(function, x0, n):\n",
        "    \"\"\"\n",
        "    Parameter \"function\" is our function which we want to approximate\n",
        "    \"x0\" is the point where to approximate\n",
        "    \"n\" is the order of approximation\n",
        "    \"\"\"\n",
        "    return function.series(x,x0,n).removeO()"
      ],
      "execution_count": null,
      "outputs": []
    },
    {
      "cell_type": "code",
      "metadata": {
        "colab": {
          "base_uri": "https://localhost:8080/"
        },
        "id": "augWbRv-ez5b",
        "outputId": "425ab05c-6be2-4475-f33b-c570a56d22ad"
      },
      "source": [
        "print('cos(x) ≅', taylor(cos(x), 0, 10))\n",
        "\n",
        "print('e(x) ≅', taylor(exp(x), 0, 8))"
      ],
      "execution_count": null,
      "outputs": [
        {
          "output_type": "stream",
          "name": "stdout",
          "text": [
            "cos(x) ≅ x**8/40320 - x**6/720 + x**4/24 - x**2/2 + 1\n",
            "e(x) ≅ x**7/5040 + x**6/720 + x**5/120 + x**4/24 + x**3/6 + x**2/2 + x + 1\n"
          ]
        }
      ]
    },
    {
      "cell_type": "code",
      "metadata": {
        "colab": {
          "base_uri": "https://localhost:8080/"
        },
        "id": "_Y8FSrb9OpXo",
        "outputId": "171bb522-9361-4ea5-ac8e-3e64d5fed03d"
      },
      "source": [
        "print('cos(1) =', taylor(cos(x), 0, 4).subs(x,1))\n",
        "\n",
        "print('e(1) =', taylor(exp(x), 0, 4).subs(x,1))"
      ],
      "execution_count": null,
      "outputs": [
        {
          "output_type": "stream",
          "name": "stdout",
          "text": [
            "cos(1) = 1/2\n",
            "e(1) = 8/3\n"
          ]
        }
      ]
    },
    {
      "cell_type": "code",
      "metadata": {
        "colab": {
          "base_uri": "https://localhost:8080/"
        },
        "id": "w6CJwHF9OwK5",
        "outputId": "1a8b8a5e-90ca-4f56-8058-c3d569df8014"
      },
      "source": [
        "print('Taylor 0 exp(x) ≅', taylor(exp(x), 0, 0))\n",
        "print('Taylor 1 exp(x) ≅', taylor(exp(x), 0, 1))\n",
        "print('Taylor 2 exp(x) ≅', taylor(exp(x), 0, 2))\n",
        "print('Taylor 3 exp(x) ≅', taylor(exp(x), 0, 3))\n",
        "print('Taylor 4 exp(x) ≅', taylor(exp(x), 0, 4))\n",
        "print('Taylor 5 exp(x) ≅', taylor(exp(x), 0, 5))\n",
        "print('Taylor 6 exp(x) ≅', taylor(exp(x), 0, 6))\n",
        "print('Taylor 7 exp(x) ≅', taylor(exp(x), 0, 7))\n",
        "print('Taylor 8 exp(x) ≅', taylor(exp(x), 0, 8))"
      ],
      "execution_count": null,
      "outputs": [
        {
          "output_type": "stream",
          "name": "stdout",
          "text": [
            "Taylor 0 exp(x) ≅ 0\n",
            "Taylor 1 exp(x) ≅ 1\n",
            "Taylor 2 exp(x) ≅ x + 1\n",
            "Taylor 3 exp(x) ≅ x**2/2 + x + 1\n",
            "Taylor 4 exp(x) ≅ x**3/6 + x**2/2 + x + 1\n",
            "Taylor 5 exp(x) ≅ x**4/24 + x**3/6 + x**2/2 + x + 1\n",
            "Taylor 6 exp(x) ≅ x**5/120 + x**4/24 + x**3/6 + x**2/2 + x + 1\n",
            "Taylor 7 exp(x) ≅ x**6/720 + x**5/120 + x**4/24 + x**3/6 + x**2/2 + x + 1\n",
            "Taylor 8 exp(x) ≅ x**7/5040 + x**6/720 + x**5/120 + x**4/24 + x**3/6 + x**2/2 + x + 1\n"
          ]
        }
      ]
    },
    {
      "cell_type": "code",
      "metadata": {
        "colab": {
          "base_uri": "https://localhost:8080/"
        },
        "id": "oWh7ygDdOzGA",
        "outputId": "c25cce32-7ca2-4b2c-ec5b-3913f4968fbf"
      },
      "source": [
        "print('Taylor 0 exp(x) ≅', taylor(sin(x), 0, 0).subs(x,2),' = ',taylor(sin(x), 0, 0).subs(x,2).evalf())\n",
        "print('Taylor 1 exp(x) ≅', taylor(cos(x), 0, 1).subs(x,2),' = ',taylor(exp(x), 0, 1).subs(x,2).evalf())\n",
        "print('Taylor 2 exp(x) ≅', taylor(exp(x), 0, 2).subs(x,2),' = ',taylor(exp(x), 0, 2).subs(x,2).evalf())\n",
        "print('Taylor 3 exp(x) ≅', taylor(exp(x), 0, 3).subs(x,2),' = ',taylor(exp(x), 0, 3).subs(x,2).evalf())\n",
        "print('Taylor 4 exp(x) ≅', taylor(exp(x), 0, 4).subs(x,2),' = ',taylor(exp(x), 0, 4).subs(x,2).evalf())\n",
        "print('Taylor 5 exp(x) ≅', taylor(exp(x), 0, 5).subs(x,2),' = ',taylor(exp(x), 0, 5).subs(x,2).evalf())\n",
        "print('Taylor 6 exp(x) ≅', taylor(exp(x), 0, 6).subs(x,2),' = ',taylor(exp(x), 0, 6).subs(x,2).evalf())\n",
        "print('Taylor 7 exp(x) ≅', taylor(exp(x), 0, 8).subs(x,2),' = ',taylor(exp(x), 0, 7).subs(x,2).evalf())"
      ],
      "execution_count": null,
      "outputs": [
        {
          "output_type": "stream",
          "name": "stdout",
          "text": [
            "Taylor 0 exp(x) ≅ 0  =  0\n",
            "Taylor 1 exp(x) ≅ 1  =  1.00000000000000\n",
            "Taylor 2 exp(x) ≅ 3  =  3.00000000000000\n",
            "Taylor 3 exp(x) ≅ 5  =  5.00000000000000\n",
            "Taylor 4 exp(x) ≅ 19/3  =  6.33333333333333\n",
            "Taylor 5 exp(x) ≅ 7  =  7.00000000000000\n",
            "Taylor 6 exp(x) ≅ 109/15  =  7.26666666666667\n",
            "Taylor 7 exp(x) ≅ 155/21  =  7.35555555555556\n"
          ]
        }
      ]
    },
    {
      "cell_type": "code",
      "metadata": {
        "colab": {
          "base_uri": "https://localhost:8080/"
        },
        "id": "PPTGrYsQO13I",
        "outputId": "89972afd-df32-4ffe-b659-e316f84078d6"
      },
      "source": [
        "import math\n",
        "print('sympy exp(x)subs(x,2) =', exp(x).subs(x,2))\n",
        "print('sympy exp(x).subs(x,2).evalf() =', exp(x).subs(x,2).evalf())\n",
        "print('math.exp(2) =', math.exp(2))"
      ],
      "execution_count": null,
      "outputs": [
        {
          "output_type": "stream",
          "name": "stdout",
          "text": [
            "sympy exp(x)subs(x,2) = exp(2)\n",
            "sympy exp(x).subs(x,2).evalf() = 7.38905609893065\n",
            "math.exp(2) = 7.38905609893065\n"
          ]
        }
      ]
    },
    {
      "cell_type": "code",
      "metadata": {
        "colab": {
          "base_uri": "https://localhost:8080/",
          "height": 265
        },
        "id": "wdsZS37TO4VR",
        "outputId": "b06dd90b-a468-4ff0-f15d-eab7583e9fe0"
      },
      "source": [
        "import math\n",
        "import numpy as np\n",
        "import matplotlib.pyplot as plt\n",
        "# if using a Jupyter notebook, include:\n",
        "%matplotlib inline\n",
        "\n",
        "values = np.arange(-5,5,0.1)\n",
        "p_exp = np.exp(values)\n",
        "t_exp1 = [taylor(exp(x), 0, 1).subs(x,v) for v in values]\n",
        "legends = ['exp() ','Taylor 0 (constant)']\n",
        "\n",
        "fig, ax = plt.subplots()\n",
        "ax.plot(values,p_exp, color ='red')\n",
        "ax.plot(values,t_exp1)\n",
        "\n",
        "ax.set_ylim([-5,5])\n",
        "ax.axhline(y=0.0, xmin=-5.0, xmax=5.0, color='black')\n",
        "ax.axvline(x=0.0, ymin=-10.0, ymax=10.0, color='black')\n",
        "ax.legend(legends)\n",
        "\n",
        "plt.show()"
      ],
      "execution_count": null,
      "outputs": [
        {
          "output_type": "display_data",
          "data": {
            "image/png": "[encoded data removed]",
            "text/plain": [
              "<Figure size 432x288 with 1 Axes>"
            ]
          },
          "metadata": {
            "needs_background": "light"
          }
        }
      ]
    },
    {
      "cell_type": "code",
      "metadata": {
        "colab": {
          "base_uri": "https://localhost:8080/",
          "height": 265
        },
        "id": "XvqxBhg8O7Oi",
        "outputId": "a8efd27c-d436-4a50-ac94-3754c523a745"
      },
      "source": [
        "import math\n",
        "import numpy as np\n",
        "import matplotlib.pyplot as plt\n",
        "# if using a Jupyter notebook, include:\n",
        "%matplotlib inline\n",
        "\n",
        "values = np.arange(-5,5,0.1)\n",
        "p_exp = np.exp(values)\n",
        "t_exp2 = [taylor(exp(x), 0, 2).subs(x,v) for v in values]\n",
        "legends = ['exp() ','Taylor 1 (linear)']\n",
        "\n",
        "fig, ax = plt.subplots()\n",
        "ax.plot(values,p_exp, color ='red')\n",
        "ax.plot(values,t_exp2)\n",
        "\n",
        "ax.set_ylim([-5,5])\n",
        "ax.axhline(y=0.0, xmin=-5.0, xmax=5.0, color='black')\n",
        "ax.axvline(x=0.0, ymin=-10.0, ymax=10.0, color='black')\n",
        "ax.legend(legends)\n",
        "\n",
        "plt.show()"
      ],
      "execution_count": null,
      "outputs": [
        {
          "output_type": "display_data",
          "data": {
            "image/png": "[encoded data removed]",
            "text/plain": [
              "<Figure size 432x288 with 1 Axes>"
            ]
          },
          "metadata": {
            "needs_background": "light"
          }
        }
      ]
    },
    {
      "cell_type": "code",
      "metadata": {
        "colab": {
          "base_uri": "https://localhost:8080/",
          "height": 265
        },
        "id": "PLR1O9HUPFwg",
        "outputId": "ce67f832-a85d-477f-e160-9d7c878cbee4"
      },
      "source": [
        "import math\n",
        "import numpy as np\n",
        "import matplotlib.pyplot as plt\n",
        "# if using a Jupyter notebook, include:\n",
        "%matplotlib inline\n",
        "\n",
        "values = np.arange(-5,5,0.1)\n",
        "p_exp = np.exp(values)\n",
        "t_exp3 = [taylor(exp(x), 0, 3).subs(x,v) for v in values]\n",
        "legends = ['exp() ','Taylor 2 (quadratic)']\n",
        "\n",
        "fig, ax = plt.subplots()\n",
        "ax.plot(values,p_exp, color ='red')\n",
        "ax.plot(values,t_exp3)\n",
        "\n",
        "ax.set_ylim([-5,5])\n",
        "ax.axhline(y=0.0, xmin=-5.0, xmax=5.0, color='black')\n",
        "ax.axvline(x=0.0, ymin=-10.0, ymax=10.0, color='black')\n",
        "ax.legend(legends)\n",
        "\n",
        "plt.show()"
      ],
      "execution_count": null,
      "outputs": [
        {
          "output_type": "display_data",
          "data": {
            "image/png": "[encoded data removed]",
            "text/plain": [
              "<Figure size 432x288 with 1 Axes>"
            ]
          },
          "metadata": {
            "needs_background": "light"
          }
        }
      ]
    },
    {
      "cell_type": "code",
      "metadata": {
        "colab": {
          "base_uri": "https://localhost:8080/",
          "height": 265
        },
        "id": "Z9AEeR_BPJCA",
        "outputId": "612e9886-d5a4-4014-e8c3-f222729e7633"
      },
      "source": [
        "import math\n",
        "import numpy as np\n",
        "import matplotlib.pyplot as plt\n",
        "# if using a Jupyter notebook, include:\n",
        "%matplotlib inline\n",
        "\n",
        "values = np.arange(-5,5,0.1)\n",
        "p_exp = np.exp(values)\n",
        "t_exp4 = [taylor(exp(x), 0, 4).subs(x,v) for v in values]\n",
        "legends = ['exp() ','Taylor 3 (cubic)']\n",
        "\n",
        "fig, ax = plt.subplots()\n",
        "ax.plot(values,p_exp, color ='red')\n",
        "ax.plot(values,t_exp4)\n",
        "\n",
        "ax.set_ylim([-5,5])\n",
        "ax.axhline(y=0.0, xmin=-5.0, xmax=5.0, color='black')\n",
        "ax.axvline(x=0.0, ymin=-10.0, ymax=10.0, color='black')\n",
        "ax.legend(legends)\n",
        "\n",
        "plt.show()"
      ],
      "execution_count": null,
      "outputs": [
        {
          "output_type": "display_data",
          "data": {
            "image/png": "[encoded data removed]",
            "text/plain": [
              "<Figure size 432x288 with 1 Axes>"
            ]
          },
          "metadata": {
            "needs_background": "light"
          }
        }
      ]
    },
    {
      "cell_type": "code",
      "metadata": {
        "id": "vLO9icMdPMmg",
        "colab": {
          "base_uri": "https://localhost:8080/",
          "height": 265
        },
        "outputId": "f86cbfe6-ba69-4682-a807-4e1fd2509df5"
      },
      "source": [
        "import math\n",
        "import numpy as np\n",
        "import matplotlib.pyplot as plt\n",
        "# if using a Jupyter notebook, include:\n",
        "%matplotlib inline\n",
        "\n",
        "values = np.arange(-5,5,0.1)\n",
        "p_exp = np.exp(values)\n",
        "t_exp1 = [taylor(exp(x), 0, 1).subs(x,v) for v in values]\n",
        "t_exp2 = [taylor(exp(x), 0, 2).subs(x,v) for v in values]\n",
        "t_exp3 = [taylor(exp(x), 0, 3).subs(x,v) for v in values]\n",
        "t_exp4 = [taylor(exp(x), 0, 4).subs(x,v) for v in values]\n",
        "legends = ['exp() ','Taylor 0 (constant)','Taylor 1 (linear)','Taylor 2 (quadratic)','Taylor 3 (cubic)']\n",
        "\n",
        "fig, ax = plt.subplots()\n",
        "ax.plot(values,p_exp)\n",
        "ax.plot(values,t_exp1)\n",
        "ax.plot(values,t_exp2)\n",
        "ax.plot(values,t_exp3)\n",
        "ax.plot(values,t_exp4)\n",
        "\n",
        "ax.set_ylim([-5,5])\n",
        "ax.axhline(y=0.0, xmin=-5.0, xmax=5.0, color='black')\n",
        "ax.axvline(x=0.0, ymin=-10.0, ymax=10.0, color='black')\n",
        "ax.legend(legends)\n",
        "\n",
        "plt.show()"
      ],
      "execution_count": null,
      "outputs": [
        {
          "output_type": "display_data",
          "data": {
            "image/png": "[encoded data removed]",
            "text/plain": [
              "<Figure size 432x288 with 1 Axes>"
            ]
          },
          "metadata": {
            "needs_background": "light"
          }
        }
      ]
    },
    {
      "cell_type": "markdown",
      "source": [
        "# Desarrollo propio Grupo 9: "
      ],
      "metadata": {
        "id": "_i1BvMGw7P2h"
      }
    },
    {
      "cell_type": "code",
      "metadata": {
        "id": "moxR5nzTCF0c"
      },
      "source": [
        "from sympy import series, Symbol, pi, E\n",
        "from sympy.functions import log\n",
        "from sympy.plotting import plot\n",
        "import matplotlib.pyplot as plt"
      ],
      "execution_count": null,
      "outputs": []
    },
    {
      "cell_type": "code",
      "metadata": {
        "id": "GccdicHvCGR5"
      },
      "source": [
        "# Define symbol\n",
        "x = Symbol('x')"
      ],
      "execution_count": null,
      "outputs": []
    },
    {
      "cell_type": "code",
      "metadata": {
        "id": "oBdp7-adCHhk"
      },
      "source": [
        "# Function for Taylor Series Expansion\n",
        "\n",
        "def taylor(function, x0, n):\n",
        "    \"\"\"\n",
        "    Parameter \"function\" is our function which we want to approximate\n",
        "    \"x0\" is the point where to approximate\n",
        "    \"n\" is the order of approximation\n",
        "    \"\"\"\n",
        "    return function.series(x,x0,n)"
      ],
      "execution_count": null,
      "outputs": []
    },
    {
      "cell_type": "code",
      "metadata": {
        "colab": {
          "base_uri": "https://localhost:8080/"
        },
        "id": "mlq8OfvrCJUj",
        "outputId": "0ad3818f-c0cc-47d8-a68f-53f886ad953a"
      },
      "source": [
        "print('log(1+x) ≅', taylor(log(1+x), 0, 10))"
      ],
      "execution_count": null,
      "outputs": [
        {
          "output_type": "stream",
          "name": "stdout",
          "text": [
            "log(1+x) ≅ x - x**2/2 + x**3/3 - x**4/4 + x**5/5 - x**6/6 + x**7/7 - x**8/8 + x**9/9 + O(x**10)\n"
          ]
        }
      ]
    },
    {
      "cell_type": "code",
      "metadata": {
        "colab": {
          "base_uri": "https://localhost:8080/"
        },
        "id": "-reVcevbCxXN",
        "outputId": "2a4eee73-4551-47d0-94c6-0d884089a147"
      },
      "source": [
        "print('log(1+x) ≅', taylor(log(1+x), E, 8))"
      ],
      "execution_count": null,
      "outputs": [
        {
          "output_type": "stream",
          "name": "stdout",
          "text": [
            "log(1+x) ≅ log(1 + E) + (x - E)/(1 + E) - (x - E)**2/(2*(1 + E)**2) + (x - E)**3/(3*(1 + E)**3) - (x - E)**4/(4*(1 + E)**4) + (x - E)**5/(5*(1 + E)**5) - (x - E)**6/(6*(1 + E)**6) + (x - E)**7/(7*(1 + E)**7) + O((x - E)**8, (x, E))\n"
          ]
        }
      ]
    },
    {
      "cell_type": "code",
      "metadata": {
        "colab": {
          "base_uri": "https://localhost:8080/"
        },
        "id": "uVfhuSfrCySE",
        "outputId": "fab764e9-0059-464b-9022-3c12c27db6ac"
      },
      "source": [
        "print('log(1+x) =', taylor(log(1+x), 0, 4).subs(x,1))"
      ],
      "execution_count": null,
      "outputs": [
        {
          "output_type": "stream",
          "name": "stdout",
          "text": [
            "log(1+x) = O(1)\n"
          ]
        }
      ]
    },
    {
      "cell_type": "code",
      "metadata": {
        "id": "dLP73lhRDDHk"
      },
      "source": [
        "# Function for Taylor Series Expansion\n",
        "\n",
        "def taylor(function, x0, n):\n",
        "    \"\"\"\n",
        "    Parameter \"function\" is our function which we want to approximate\n",
        "    \"x0\" is the point where to approximate\n",
        "    \"n\" is the order of approximation\n",
        "    \"\"\"\n",
        "    return function.series(x,x0,n).removeO()"
      ],
      "execution_count": null,
      "outputs": []
    },
    {
      "cell_type": "code",
      "metadata": {
        "colab": {
          "base_uri": "https://localhost:8080/"
        },
        "id": "l1SuLlN9DEHz",
        "outputId": "98f15028-f1ef-41b6-8750-703ca736b3b7"
      },
      "source": [
        "print('log(1+x) ≅', taylor(log(1+x), 0, 10))"
      ],
      "execution_count": null,
      "outputs": [
        {
          "output_type": "stream",
          "name": "stdout",
          "text": [
            "log(1+x) ≅ x**9/9 - x**8/8 + x**7/7 - x**6/6 + x**5/5 - x**4/4 + x**3/3 - x**2/2 + x\n"
          ]
        }
      ]
    },
    {
      "cell_type": "code",
      "metadata": {
        "colab": {
          "base_uri": "https://localhost:8080/"
        },
        "id": "-UU5RYRbDH2M",
        "outputId": "664fd0da-8858-4633-8ce8-a432b763b498"
      },
      "source": [
        "print('log(1+x) ≅', taylor(log(1+x), E, 10))"
      ],
      "execution_count": null,
      "outputs": [
        {
          "output_type": "stream",
          "name": "stdout",
          "text": [
            "log(1+x) ≅ (x - E)**9/(9*(1 + E)**9) - (x - E)**8/(8*(1 + E)**8) + (x - E)**7/(7*(1 + E)**7) - (x - E)**6/(6*(1 + E)**6) + (x - E)**5/(5*(1 + E)**5) - (x - E)**4/(4*(1 + E)**4) + (x - E)**3/(3*(1 + E)**3) - (x - E)**2/(2*(1 + E)**2) + (x - E)/(1 + E) + log(1 + E)\n"
          ]
        }
      ]
    },
    {
      "cell_type": "code",
      "metadata": {
        "colab": {
          "base_uri": "https://localhost:8080/"
        },
        "id": "Dk-3njvxDRH8",
        "outputId": "f4259161-2ed2-477a-bb77-51df3a5a23fc"
      },
      "source": [
        "print('log(1+1/2) =', taylor(log(1+x), 0, 10).subs(x,1/2))"
      ],
      "execution_count": null,
      "outputs": [
        {
          "output_type": "stream",
          "name": "stdout",
          "text": [
            "log(1+1/2) = 0.405532304067460\n"
          ]
        }
      ]
    },
    {
      "cell_type": "code",
      "metadata": {
        "colab": {
          "base_uri": "https://localhost:8080/"
        },
        "id": "jUAnr5ROD4ws",
        "outputId": "04c20841-de7c-41a6-dac1-4793d55a06b9"
      },
      "source": [
        "print('Taylor 0 ln(1+x) ≅', taylor(log(1+x), 0, 0))\n",
        "print('Taylor 1 ln(1+x) ≅', taylor(log(1+x), 0, 1))\n",
        "print('Taylor 2 ln(1+x) ≅', taylor(log(1+x), 0, 2))\n",
        "print('Taylor 3 ln(1+x) ≅', taylor(log(1+x), 0, 3))\n",
        "print('Taylor 4 ln(1+x) ≅', taylor(log(1+x), 0, 4))\n",
        "print('Taylor 5 ln(1+x) ≅', taylor(log(1+x), 0, 5))\n",
        "print('Taylor 6 ln(1+x) ≅', taylor(log(1+x), 0, 6))\n",
        "print('Taylor 7 ln(1+x) ≅', taylor(log(1+x), 0, 7))\n",
        "print('Taylor 8 ln(1+x) ≅', taylor(log(1+x), 0, 8))"
      ],
      "execution_count": null,
      "outputs": [
        {
          "output_type": "stream",
          "name": "stdout",
          "text": [
            "Taylor 0 ln(1+x) ≅ 0\n",
            "Taylor 1 ln(1+x) ≅ 0\n",
            "Taylor 2 ln(1+x) ≅ x\n",
            "Taylor 3 ln(1+x) ≅ -x**2/2 + x\n",
            "Taylor 4 ln(1+x) ≅ x**3/3 - x**2/2 + x\n",
            "Taylor 5 ln(1+x) ≅ -x**4/4 + x**3/3 - x**2/2 + x\n",
            "Taylor 6 ln(1+x) ≅ x**5/5 - x**4/4 + x**3/3 - x**2/2 + x\n",
            "Taylor 7 ln(1+x) ≅ -x**6/6 + x**5/5 - x**4/4 + x**3/3 - x**2/2 + x\n",
            "Taylor 8 ln(1+x) ≅ x**7/7 - x**6/6 + x**5/5 - x**4/4 + x**3/3 - x**2/2 + x\n"
          ]
        }
      ]
    },
    {
      "cell_type": "code",
      "metadata": {
        "colab": {
          "base_uri": "https://localhost:8080/"
        },
        "id": "kfuzeuLUELgM",
        "outputId": "b4428f2f-dac0-43ef-9a8f-f0b00f8aff47"
      },
      "source": [
        "print('Taylor 0 ln(1+x) ≅', taylor(log(1+x), 0, 0).subs(x,1/2))\n",
        "print('Taylor 1 ln(1+x) ≅', taylor(log(1+x), 0, 1).subs(x,1/2))\n",
        "print('Taylor 2 ln(1+x) ≅', taylor(log(1+x), 0, 2).subs(x,1/2))\n",
        "print('Taylor 3 ln(1+x) ≅', taylor(log(1+x), 0, 3).subs(x,1/2))\n",
        "print('Taylor 4 ln(1+x) ≅', taylor(log(1+x), 0, 4).subs(x,1/2))\n",
        "print('Taylor 5 ln(1+x) ≅', taylor(log(1+x), 0, 5).subs(x,1/2))\n",
        "print('Taylor 6 ln(1+x) ≅', taylor(log(1+x), 0, 6).subs(x,1/2))\n",
        "print('Taylor 7 ln(1+x) ≅', taylor(log(1+x), 0, 7).subs(x,1/2))\n",
        "print('Taylor 8 ln(1+x) ≅', taylor(log(1+x), 0, 8).subs(x,1/2))"
      ],
      "execution_count": null,
      "outputs": [
        {
          "output_type": "stream",
          "name": "stdout",
          "text": [
            "Taylor 0 ln(1+x) ≅ 0\n",
            "Taylor 1 ln(1+x) ≅ 0\n",
            "Taylor 2 ln(1+x) ≅ 0.500000000000000\n",
            "Taylor 3 ln(1+x) ≅ 0.375000000000000\n",
            "Taylor 4 ln(1+x) ≅ 0.416666666666667\n",
            "Taylor 5 ln(1+x) ≅ 0.401041666666667\n",
            "Taylor 6 ln(1+x) ≅ 0.407291666666667\n",
            "Taylor 7 ln(1+x) ≅ 0.404687500000000\n",
            "Taylor 8 ln(1+x) ≅ 0.405803571428571\n"
          ]
        }
      ]
    },
    {
      "cell_type": "code",
      "metadata": {
        "colab": {
          "base_uri": "https://localhost:8080/"
        },
        "id": "cB7Mos8nFACT",
        "outputId": "87bdccf1-3d09-4cb2-a419-9ecde7677362"
      },
      "source": [
        "import math\n",
        "print('sympy log(1+x)subs(x,1/2) =', log(1+x).subs(x,1/2))\n",
        "print('sympy log(1+x).subs(x,1/2).evalf() =', log(1+x).subs(x,1/2).evalf())\n",
        "print('math.log(1+1/2) =', math.log(1+1/2))"
      ],
      "execution_count": null,
      "outputs": [
        {
          "output_type": "stream",
          "name": "stdout",
          "text": [
            "sympy log(1+x)subs(x,1/2) = 0.405465108108164\n",
            "sympy log(1+x).subs(x,1/2).evalf() = 0.405465108108164\n",
            "math.log(1+1/2) = 0.4054651081081644\n"
          ]
        }
      ]
    },
    {
      "cell_type": "code",
      "metadata": {
        "colab": {
          "base_uri": "https://localhost:8080/",
          "height": 299
        },
        "id": "IVdcD5Q0FZW0",
        "outputId": "6325c526-4247-445a-956c-8b573e98b85f"
      },
      "source": [
        "import math\n",
        "import numpy as np\n",
        "import matplotlib.pyplot as plt\n",
        "# if using a Jupyter notebook, include:\n",
        "%matplotlib inline\n",
        "\n",
        "values = np.arange(-1,1,0.01)\n",
        "p_exp = np.log(values+1)\n",
        "t_exp1 = [taylor(log(1+x), 0, 1).subs(x,v) for v in values]\n",
        "legends = ['log(1+x) ','Taylor 0 (constant)']\n",
        "\n",
        "fig, ax = plt.subplots()\n",
        "ax.plot(values,p_exp, color ='red')\n",
        "ax.plot(values,t_exp1)\n",
        "\n",
        "ax.set_ylim([-5,5])\n",
        "ax.axhline(y=0.0, xmin=-5.0, xmax=5.0, color='black')\n",
        "ax.axvline(x=0.0, ymin=-10.0, ymax=10.0, color='black')\n",
        "ax.legend(legends)\n",
        "\n",
        "plt.show()"
      ],
      "execution_count": null,
      "outputs": [
        {
          "output_type": "stream",
          "name": "stderr",
          "text": [
            "/usr/local/lib/python3.7/dist-packages/ipykernel_launcher.py:8: RuntimeWarning: divide by zero encountered in log\n",
            "  \n"
          ]
        },
        {
          "output_type": "display_data",
          "data": {
            "image/png": "[encoded data removed]",
            "text/plain": [
              "<Figure size 432x288 with 1 Axes>"
            ]
          },
          "metadata": {
            "needs_background": "light"
          }
        }
      ]
    },
    {
      "cell_type": "code",
      "metadata": {
        "colab": {
          "base_uri": "https://localhost:8080/",
          "height": 299
        },
        "id": "QMfvMf_WF-WL",
        "outputId": "21652891-9099-41b6-af19-454671cf5150"
      },
      "source": [
        "import math\n",
        "import numpy as np\n",
        "import matplotlib.pyplot as plt\n",
        "# if using a Jupyter notebook, include:\n",
        "%matplotlib inline\n",
        "\n",
        "values = np.arange(-1,1,0.01)\n",
        "p_exp = np.log(values+1)\n",
        "t_exp2 = [taylor(log(1+x), 0, 2).subs(x,v) for v in values]\n",
        "legends = ['log(1+x) ','Taylor 1 (linear)']\n",
        "\n",
        "fig, ax = plt.subplots()\n",
        "ax.plot(values,p_exp, color ='red')\n",
        "ax.plot(values,t_exp2)\n",
        "\n",
        "ax.set_ylim([-5,5])\n",
        "ax.axhline(y=0.0, xmin=-5.0, xmax=5.0, color='black')\n",
        "ax.axvline(x=0.0, ymin=-10.0, ymax=10.0, color='black')\n",
        "ax.legend(legends)\n",
        "\n",
        "plt.show()"
      ],
      "execution_count": null,
      "outputs": [
        {
          "output_type": "stream",
          "name": "stderr",
          "text": [
            "/usr/local/lib/python3.7/dist-packages/ipykernel_launcher.py:8: RuntimeWarning: divide by zero encountered in log\n",
            "  \n"
          ]
        },
        {
          "output_type": "display_data",
          "data": {
            "image/png": "[encoded data removed]",
            "text/plain": [
              "<Figure size 432x288 with 1 Axes>"
            ]
          },
          "metadata": {
            "needs_background": "light"
          }
        }
      ]
    },
    {
      "cell_type": "code",
      "metadata": {
        "colab": {
          "base_uri": "https://localhost:8080/",
          "height": 299
        },
        "id": "MQ4QcQOEGFRz",
        "outputId": "022d8c6f-8500-4e7b-f45e-9229c66ce22e"
      },
      "source": [
        "import math\n",
        "import numpy as np\n",
        "import matplotlib.pyplot as plt\n",
        "# if using a Jupyter notebook, include:\n",
        "%matplotlib inline\n",
        "\n",
        "values = np.arange(-1,1,0.01)\n",
        "p_exp = np.log(values+1)\n",
        "t_exp3 = [taylor(log(1+x), 0, 3).subs(x,v) for v in values]\n",
        "legends = ['log(1+x) ','Taylor 2 (quadratic)']\n",
        "\n",
        "fig, ax = plt.subplots()\n",
        "ax.plot(values,p_exp, color ='red')\n",
        "ax.plot(values,t_exp3)\n",
        "\n",
        "ax.set_ylim([-5,5])\n",
        "ax.axhline(y=0.0, xmin=-5.0, xmax=5.0, color='black')\n",
        "ax.axvline(x=0.0, ymin=-10.0, ymax=10.0, color='black')\n",
        "ax.legend(legends)\n",
        "\n",
        "plt.show()"
      ],
      "execution_count": null,
      "outputs": [
        {
          "output_type": "stream",
          "name": "stderr",
          "text": [
            "/usr/local/lib/python3.7/dist-packages/ipykernel_launcher.py:8: RuntimeWarning: divide by zero encountered in log\n",
            "  \n"
          ]
        },
        {
          "output_type": "display_data",
          "data": {
            "image/png": "[encoded data removed]",
            "text/plain": [
              "<Figure size 432x288 with 1 Axes>"
            ]
          },
          "metadata": {
            "needs_background": "light"
          }
        }
      ]
    },
    {
      "cell_type": "code",
      "metadata": {
        "colab": {
          "base_uri": "https://localhost:8080/",
          "height": 299
        },
        "id": "niylDldpGHm1",
        "outputId": "dc263984-e35a-4b9d-af90-9622a804ae78"
      },
      "source": [
        "import math\n",
        "import numpy as np\n",
        "import matplotlib.pyplot as plt\n",
        "# if using a Jupyter notebook, include:\n",
        "%matplotlib inline\n",
        "\n",
        "values = np.arange(-1,1,0.01)\n",
        "p_exp = np.log(values+1)\n",
        "t_exp4 = [taylor(log(1+x), 0, 4).subs(x,v) for v in values]\n",
        "legends = ['log(1+x) ','Taylor 3 (cubic)']\n",
        "\n",
        "fig, ax = plt.subplots()\n",
        "ax.plot(values,p_exp, color ='red')\n",
        "ax.plot(values,t_exp4)\n",
        "\n",
        "ax.set_ylim([-5,5])\n",
        "ax.axhline(y=0.0, xmin=-5.0, xmax=5.0, color='black')\n",
        "ax.axvline(x=0.0, ymin=-10.0, ymax=10.0, color='black')\n",
        "ax.legend(legends)\n",
        "\n",
        "plt.show()"
      ],
      "execution_count": null,
      "outputs": [
        {
          "output_type": "stream",
          "name": "stderr",
          "text": [
            "/usr/local/lib/python3.7/dist-packages/ipykernel_launcher.py:8: RuntimeWarning: divide by zero encountered in log\n",
            "  \n"
          ]
        },
        {
          "output_type": "display_data",
          "data": {
            "image/png": "[encoded data removed]",
            "text/plain": [
              "<Figure size 432x288 with 1 Axes>"
            ]
          },
          "metadata": {
            "needs_background": "light"
          }
        }
      ]
    },
    {
      "cell_type": "code",
      "metadata": {
        "colab": {
          "base_uri": "https://localhost:8080/",
          "height": 299
        },
        "id": "x4LN0WrDGYb9",
        "outputId": "2da144d3-ed7d-4baa-b4d7-52ba42615414"
      },
      "source": [
        "import math\n",
        "import numpy as np\n",
        "import matplotlib.pyplot as plt\n",
        "# if using a Jupyter notebook, include:\n",
        "%matplotlib inline\n",
        "\n",
        "values = np.arange(-1,1,0.01)\n",
        "p_exp = np.log(values+1)\n",
        "t_exp1 = [taylor(log(1+x), 0, 1).subs(x,v) for v in values]\n",
        "t_exp2 = [taylor(log(1+x), 0, 2).subs(x,v) for v in values]\n",
        "t_exp3 = [taylor(log(1+x), 0, 3).subs(x,v) for v in values]\n",
        "t_exp4 = [taylor(log(1+x), 0, 4).subs(x,v) for v in values]\n",
        "\n",
        "legends = ['log(1+x) ','Taylor 0 (constant)','Taylor 1 (linear)','Taylor 2 (quadratic)','Taylor 3 (cubic)']\n",
        "\n",
        "\n",
        "fig, ax = plt.subplots()\n",
        "ax.plot(values,p_exp)\n",
        "ax.plot(values,t_exp1)\n",
        "ax.plot(values,t_exp2)\n",
        "ax.plot(values,t_exp3)\n",
        "ax.plot(values,t_exp4)\n",
        "\n",
        "ax.set_ylim([-5,5])\n",
        "ax.axhline(y=0.0, xmin=-5.0, xmax=5.0, color='black')\n",
        "ax.axvline(x=0.0, ymin=-10.0, ymax=10.0, color='black')\n",
        "ax.legend(legends)\n",
        "\n",
        "plt.show()"
      ],
      "execution_count": null,
      "outputs": [
        {
          "output_type": "stream",
          "name": "stderr",
          "text": [
            "/usr/local/lib/python3.7/dist-packages/ipykernel_launcher.py:8: RuntimeWarning: divide by zero encountered in log\n",
            "  \n"
          ]
        },
        {
          "output_type": "display_data",
          "data": {
            "image/png": "[encoded data removed]",
            "text/plain": [
              "<Figure size 432x288 with 1 Axes>"
            ]
          },
          "metadata": {
            "needs_background": "light"
          }
        }
      ]
    },
    {
      "cell_type": "markdown",
      "source": [
        "# $$ f(x) = sin(x) $$\n",
        "\n"
      ],
      "metadata": {
        "id": "j3JNJmD2798M"
      }
    },
    {
      "cell_type": "code",
      "metadata": {
        "id": "CwrYATHHO_Or"
      },
      "source": [
        "from sympy import series, Symbol, pi, E\n",
        "from sympy.functions import sin\n",
        "from sympy.plotting import plot\n",
        "import matplotlib.pyplot as plt"
      ],
      "execution_count": null,
      "outputs": []
    },
    {
      "cell_type": "code",
      "metadata": {
        "id": "zzxbhrS_PAKr"
      },
      "source": [
        "# Define symbol\n",
        "x = Symbol('x')"
      ],
      "execution_count": null,
      "outputs": []
    },
    {
      "cell_type": "code",
      "metadata": {
        "id": "RnNX2rbAPDED"
      },
      "source": [
        "# Function for Taylor Series Expansion\n",
        "\n",
        "def taylor(function, x0, n):\n",
        "    \"\"\"\n",
        "    Parameter \"function\" is our function which we want to approximate\n",
        "    \"x0\" is the point where to approximate\n",
        "    \"n\" is the order of approximation\n",
        "    \"\"\"\n",
        "    return function.series(x,x0,n)"
      ],
      "execution_count": null,
      "outputs": []
    },
    {
      "cell_type": "code",
      "metadata": {
        "colab": {
          "base_uri": "https://localhost:8080/"
        },
        "id": "RWd2OIqDPHfD",
        "outputId": "7619e83a-fcbd-4f6d-98e3-fccd27173db2"
      },
      "source": [
        "print('sin(x) ≅', taylor(sin(x), 0, 10))"
      ],
      "execution_count": null,
      "outputs": [
        {
          "output_type": "stream",
          "name": "stdout",
          "text": [
            "sin(x) ≅ x**9/362880 - x**7/5040 + x**5/120 - x**3/6 + x\n"
          ]
        }
      ]
    },
    {
      "cell_type": "code",
      "metadata": {
        "colab": {
          "base_uri": "https://localhost:8080/"
        },
        "id": "j30ZMCbSPRrc",
        "outputId": "e434889a-0b02-478e-bda8-6cc386c2b2e6"
      },
      "source": [
        "print('sin(x) ≅', taylor(sin(x), E, 8))"
      ],
      "execution_count": null,
      "outputs": [
        {
          "output_type": "stream",
          "name": "stdout",
          "text": [
            "sin(x) ≅ -(x - E)**7*cos(E)/5040 - (x - E)**6*sin(E)/720 + (x - E)**5*cos(E)/120 + (x - E)**4*sin(E)/24 - (x - E)**3*cos(E)/6 - (x - E)**2*sin(E)/2 + (x - E)*cos(E) + sin(E)\n"
          ]
        }
      ]
    },
    {
      "cell_type": "code",
      "metadata": {
        "colab": {
          "base_uri": "https://localhost:8080/"
        },
        "id": "ZIyp6vsYPVJ_",
        "outputId": "daef6055-aec1-46be-a900-4d1ca30e4d9e"
      },
      "source": [
        "print('sin(x) =', taylor(sin(x), 0, 4).subs(x,1))"
      ],
      "execution_count": null,
      "outputs": [
        {
          "output_type": "stream",
          "name": "stdout",
          "text": [
            "sin(x) = 5/6\n"
          ]
        }
      ]
    },
    {
      "cell_type": "code",
      "metadata": {
        "id": "Xfc4sfs8PbCb"
      },
      "source": [
        "# Function for Taylor Series Expansion\n",
        "\n",
        "def taylor(function, x0, n):\n",
        "    \"\"\"\n",
        "    Parameter \"function\" is our function which we want to approximate\n",
        "    \"x0\" is the point where to approximate\n",
        "    \"n\" is the order of approximation\n",
        "    \"\"\"\n",
        "    return function.series(x,x0,n).removeO()"
      ],
      "execution_count": null,
      "outputs": []
    },
    {
      "cell_type": "code",
      "metadata": {
        "colab": {
          "base_uri": "https://localhost:8080/"
        },
        "id": "eRNmwmLaPiVV",
        "outputId": "d1b08120-f5d4-4620-93dc-af857619a8da"
      },
      "source": [
        "print('sin(x) ≅', taylor(sin(x), 0, 10))"
      ],
      "execution_count": null,
      "outputs": [
        {
          "output_type": "stream",
          "name": "stdout",
          "text": [
            "sin(x) ≅ x**9/362880 - x**7/5040 + x**5/120 - x**3/6 + x\n"
          ]
        }
      ]
    },
    {
      "cell_type": "code",
      "metadata": {
        "colab": {
          "base_uri": "https://localhost:8080/"
        },
        "id": "0hEKG-LHPiVW",
        "outputId": "bdc2e888-868d-467b-99f0-9d357578b384"
      },
      "source": [
        "print('sin(x) ≅', taylor(sin(x), E, 8))"
      ],
      "execution_count": null,
      "outputs": [
        {
          "output_type": "stream",
          "name": "stdout",
          "text": [
            "sin(x) ≅ -(x - E)**7*cos(E)/5040 - (x - E)**6*sin(E)/720 + (x - E)**5*cos(E)/120 + (x - E)**4*sin(E)/24 - (x - E)**3*cos(E)/6 - (x - E)**2*sin(E)/2 + (x - E)*cos(E) + sin(E)\n"
          ]
        }
      ]
    },
    {
      "cell_type": "code",
      "metadata": {
        "colab": {
          "base_uri": "https://localhost:8080/"
        },
        "id": "NFFQ_cxuPiVY",
        "outputId": "0c8ac7c6-7032-411f-f29b-50ceab11d69a"
      },
      "source": [
        "print('sin(1) =', taylor(sin(x), 0, 4).subs(x,1))"
      ],
      "execution_count": null,
      "outputs": [
        {
          "output_type": "stream",
          "name": "stdout",
          "text": [
            "sin(1) = 5/6\n"
          ]
        }
      ]
    },
    {
      "cell_type": "code",
      "metadata": {
        "colab": {
          "base_uri": "https://localhost:8080/"
        },
        "id": "srg75g5VPwiD",
        "outputId": "3b47909c-b078-4cfd-ec4a-84a969bab471"
      },
      "source": [
        "print('Taylor 0 sin(x) ≅', taylor(sin(x), 0, 0))\n",
        "print('Taylor 1 sin(x) ≅', taylor(sin(x), 0, 1))\n",
        "print('Taylor 2 sin(x) ≅', taylor(sin(x), 0, 2))\n",
        "print('Taylor 3 sin(x) ≅', taylor(sin(x), 0, 3))\n",
        "print('Taylor 4 sin(x) ≅', taylor(sin(x), 0, 4))\n",
        "print('Taylor 5 sin(x) ≅', taylor(sin(x), 0, 5))\n",
        "print('Taylor 6 sin(x) ≅', taylor(sin(x), 0, 6))\n",
        "print('Taylor 7 sin(x) ≅', taylor(sin(x), 0, 7))\n",
        "print('Taylor 8 sin(x) ≅', taylor(sin(x), 0, 8))"
      ],
      "execution_count": null,
      "outputs": [
        {
          "output_type": "stream",
          "name": "stdout",
          "text": [
            "Taylor 0 sin(x) ≅ 0\n",
            "Taylor 1 sin(x) ≅ 0\n",
            "Taylor 2 sin(x) ≅ x\n",
            "Taylor 3 sin(x) ≅ x\n",
            "Taylor 4 sin(x) ≅ -x**3/6 + x\n",
            "Taylor 5 sin(x) ≅ -x**3/6 + x\n",
            "Taylor 6 sin(x) ≅ x**5/120 - x**3/6 + x\n",
            "Taylor 7 sin(x) ≅ x**5/120 - x**3/6 + x\n",
            "Taylor 8 sin(x) ≅ -x**7/5040 + x**5/120 - x**3/6 + x\n"
          ]
        }
      ]
    },
    {
      "cell_type": "code",
      "metadata": {
        "colab": {
          "base_uri": "https://localhost:8080/"
        },
        "id": "YmS6UNVzP8qN",
        "outputId": "b257cf82-19b0-4b02-de95-ee815dfd837d"
      },
      "source": [
        "print('Taylor 0 sin(x) ≅', taylor(sin(x), 0, 0).subs(x,1))\n",
        "print('Taylor 1 sin(x) ≅', taylor(sin(x), 0, 1).subs(x,1))\n",
        "print('Taylor 2 sin(x) ≅', taylor(sin(x), 0, 2).subs(x,1))\n",
        "print('Taylor 3 sin(x) ≅', taylor(sin(x), 0, 3).subs(x,1))\n",
        "print('Taylor 4 sin(x) ≅', taylor(sin(x), 0, 4).subs(x,1))\n",
        "print('Taylor 5 sin(x) ≅', taylor(sin(x), 0, 5).subs(x,1))\n",
        "print('Taylor 6 sin(x) ≅', taylor(sin(x), 0, 6).subs(x,1))\n",
        "print('Taylor 7 sin(x) ≅', taylor(sin(x), 0, 7).subs(x,1))\n",
        "print('Taylor 8 sin(x) ≅', taylor(sin(x), 0, 8).subs(x,1))"
      ],
      "execution_count": null,
      "outputs": [
        {
          "output_type": "stream",
          "name": "stdout",
          "text": [
            "Taylor 0 sin(x) ≅ 0\n",
            "Taylor 1 sin(x) ≅ 0\n",
            "Taylor 2 sin(x) ≅ 1\n",
            "Taylor 3 sin(x) ≅ 1\n",
            "Taylor 4 sin(x) ≅ 5/6\n",
            "Taylor 5 sin(x) ≅ 5/6\n",
            "Taylor 6 sin(x) ≅ 101/120\n",
            "Taylor 7 sin(x) ≅ 101/120\n",
            "Taylor 8 sin(x) ≅ 4241/5040\n"
          ]
        }
      ]
    },
    {
      "cell_type": "code",
      "metadata": {
        "colab": {
          "base_uri": "https://localhost:8080/"
        },
        "id": "E5C_U5ewQKYj",
        "outputId": "c73c4ca2-989d-4662-f3be-3e5995a4b23b"
      },
      "source": [
        "print('Taylor 0 sin(x) ≅', taylor(sin(x), 0, 0).subs(x,1).evalf())\n",
        "print('Taylor 1 sin(x) ≅', taylor(sin(x), 0, 1).subs(x,1).evalf())\n",
        "print('Taylor 2 sin(x) ≅', taylor(sin(x), 0, 2).subs(x,1).evalf())\n",
        "print('Taylor 3 sin(x) ≅', taylor(sin(x), 0, 3).subs(x,1).evalf())\n",
        "print('Taylor 4 sin(x) ≅', taylor(sin(x), 0, 4).subs(x,1).evalf())\n",
        "print('Taylor 5 sin(x) ≅', taylor(sin(x), 0, 5).subs(x,1).evalf())\n",
        "print('Taylor 6 sin(x) ≅', taylor(sin(x), 0, 6).subs(x,1).evalf())\n",
        "print('Taylor 7 sin(x) ≅', taylor(sin(x), 0, 7).subs(x,1).evalf())\n",
        "print('Taylor 8 sin(x) ≅', taylor(sin(x), 0, 8).subs(x,1).evalf())"
      ],
      "execution_count": null,
      "outputs": [
        {
          "output_type": "stream",
          "name": "stdout",
          "text": [
            "Taylor 0 sin(x) ≅ 0\n",
            "Taylor 1 sin(x) ≅ 0\n",
            "Taylor 2 sin(x) ≅ 1.00000000000000\n",
            "Taylor 3 sin(x) ≅ 1.00000000000000\n",
            "Taylor 4 sin(x) ≅ 0.833333333333333\n",
            "Taylor 5 sin(x) ≅ 0.833333333333333\n",
            "Taylor 6 sin(x) ≅ 0.841666666666667\n",
            "Taylor 7 sin(x) ≅ 0.841666666666667\n",
            "Taylor 8 sin(x) ≅ 0.841468253968254\n"
          ]
        }
      ]
    },
    {
      "cell_type": "code",
      "metadata": {
        "colab": {
          "base_uri": "https://localhost:8080/"
        },
        "id": "GleQA52wQVKV",
        "outputId": "86537a4c-bdda-45f4-e97a-ae4bf0b7f796"
      },
      "source": [
        "import math\n",
        "print('sympy sin(1)subs(x,1) =', sin(1).subs(x,1))\n",
        "print('sympy sin(1).subs(x,1).evalf() =', sin(1).subs(x,1).evalf())\n",
        "print('math.sin(1) =', math.sin(1))"
      ],
      "execution_count": null,
      "outputs": [
        {
          "output_type": "stream",
          "name": "stdout",
          "text": [
            "sympy sin(1)subs(x,1) = sin(1)\n",
            "sympy sin(1).subs(x,1).evalf() = 0.841470984807897\n",
            "math.sin(1) = 0.8414709848078965\n"
          ]
        }
      ]
    },
    {
      "cell_type": "code",
      "metadata": {
        "colab": {
          "base_uri": "https://localhost:8080/",
          "height": 265
        },
        "id": "lDtCT2CmQhOt",
        "outputId": "28a6ce70-3f6c-41f3-a94f-d6e705e1a756"
      },
      "source": [
        "import math\n",
        "import numpy as np\n",
        "import matplotlib.pyplot as plt\n",
        "# if using a Jupyter notebook, include:\n",
        "%matplotlib inline\n",
        "\n",
        "values = np.arange(-5,5,0.1)\n",
        "p_exp = np.sin(values)\n",
        "t_exp1 = [taylor(sin(x), 0, 1).subs(x,v) for v in values]\n",
        "legends = ['sin(x) ','Taylor 0 (constant)']\n",
        "\n",
        "fig, ax = plt.subplots()\n",
        "ax.plot(values,p_exp, color ='red')\n",
        "ax.plot(values,t_exp1)\n",
        "\n",
        "ax.set_ylim([-5,5])\n",
        "ax.axhline(y=0.0, xmin=-5.0, xmax=5.0, color='black')\n",
        "ax.axvline(x=0.0, ymin=-10.0, ymax=10.0, color='black')\n",
        "ax.legend(legends)\n",
        "\n",
        "plt.show()"
      ],
      "execution_count": null,
      "outputs": [
        {
          "output_type": "display_data",
          "data": {
            "image/png": "[encoded data removed]",
            "text/plain": [
              "<Figure size 432x288 with 1 Axes>"
            ]
          },
          "metadata": {
            "needs_background": "light"
          }
        }
      ]
    },
    {
      "cell_type": "code",
      "metadata": {
        "colab": {
          "base_uri": "https://localhost:8080/",
          "height": 265
        },
        "id": "J8dbRIp9Qutc",
        "outputId": "fb30f4b0-eedd-4ab6-cc65-2a7d3469113f"
      },
      "source": [
        "import math\n",
        "import numpy as np\n",
        "import matplotlib.pyplot as plt\n",
        "# if using a Jupyter notebook, include:\n",
        "%matplotlib inline\n",
        "\n",
        "values = np.arange(-5,5,0.1)\n",
        "p_exp = np.sin(values)\n",
        "t_exp2 = [taylor(sin(x), 0, 2).subs(x,v) for v in values]\n",
        "legends = ['sin(x) ','Taylor 1 (linear)']\n",
        "\n",
        "fig, ax = plt.subplots()\n",
        "ax.plot(values,p_exp, color ='red')\n",
        "ax.plot(values,t_exp2)\n",
        "\n",
        "ax.set_ylim([-5,5])\n",
        "ax.axhline(y=0.0, xmin=-5.0, xmax=5.0, color='black')\n",
        "ax.axvline(x=0.0, ymin=-10.0, ymax=10.0, color='black')\n",
        "ax.legend(legends)\n",
        "\n",
        "plt.show()"
      ],
      "execution_count": null,
      "outputs": [
        {
          "output_type": "display_data",
          "data": {
            "image/png": "[encoded data removed]",
            "text/plain": [
              "<Figure size 432x288 with 1 Axes>"
            ]
          },
          "metadata": {
            "needs_background": "light"
          }
        }
      ]
    },
    {
      "cell_type": "code",
      "metadata": {
        "colab": {
          "base_uri": "https://localhost:8080/",
          "height": 265
        },
        "id": "r1alT41QRMKK",
        "outputId": "7351ab5d-56b5-48bf-b123-0c43cfd09a42"
      },
      "source": [
        "import math\n",
        "import numpy as np\n",
        "import matplotlib.pyplot as plt\n",
        "# if using a Jupyter notebook, include:\n",
        "%matplotlib inline\n",
        "\n",
        "values = np.arange(-5,5,0.1)\n",
        "p_exp = np.sin(values)\n",
        "t_exp3 = [taylor(sin(x), 0, 3).subs(x,v) for v in values]\n",
        "legends = ['sin(x) ','Taylor 2 (quadratic)']\n",
        "\n",
        "fig, ax = plt.subplots()\n",
        "ax.plot(values,p_exp, color ='red')\n",
        "ax.plot(values,t_exp3)\n",
        "\n",
        "ax.set_ylim([-5,5])\n",
        "ax.axhline(y=0.0, xmin=-5.0, xmax=5.0, color='black')\n",
        "ax.axvline(x=0.0, ymin=-10.0, ymax=10.0, color='black')\n",
        "ax.legend(legends)\n",
        "\n",
        "plt.show()"
      ],
      "execution_count": null,
      "outputs": [
        {
          "output_type": "display_data",
          "data": {
            "image/png": "[encoded data removed]",
            "text/plain": [
              "<Figure size 432x288 with 1 Axes>"
            ]
          },
          "metadata": {
            "needs_background": "light"
          }
        }
      ]
    },
    {
      "cell_type": "code",
      "metadata": {
        "colab": {
          "base_uri": "https://localhost:8080/",
          "height": 265
        },
        "id": "IOutI-2_RB8L",
        "outputId": "9a24862b-7fd5-4d8d-cf54-d6b76911bc79"
      },
      "source": [
        "import math\n",
        "import numpy as np\n",
        "import matplotlib.pyplot as plt\n",
        "# if using a Jupyter notebook, include:\n",
        "%matplotlib inline\n",
        "\n",
        "values = np.arange(-5,5,0.1)\n",
        "p_exp = np.sin(values)\n",
        "t_exp4 = [taylor(sin(x), 0, 4).subs(x,v) for v in values]\n",
        "legends = ['sin(x) ','Taylor 3 (cubic)']\n",
        "\n",
        "fig, ax = plt.subplots()\n",
        "ax.plot(values,p_exp, color ='red')\n",
        "ax.plot(values,t_exp4)\n",
        "\n",
        "ax.set_ylim([-5,5])\n",
        "ax.axhline(y=0.0, xmin=-5.0, xmax=5.0, color='black')\n",
        "ax.axvline(x=0.0, ymin=-10.0, ymax=10.0, color='black')\n",
        "ax.legend(legends)\n",
        "\n",
        "plt.show()"
      ],
      "execution_count": null,
      "outputs": [
        {
          "output_type": "display_data",
          "data": {
            "image/png": "[encoded data removed]",
            "text/plain": [
              "<Figure size 432x288 with 1 Axes>"
            ]
          },
          "metadata": {
            "needs_background": "light"
          }
        }
      ]
    },
    {
      "cell_type": "code",
      "metadata": {
        "colab": {
          "base_uri": "https://localhost:8080/"
        },
        "id": "pwTxBZHGRq2T",
        "outputId": "a76a6c5c-660f-43f6-9336-f7f4a2cb7168"
      },
      "source": [
        "import math\n",
        "import numpy as np\n",
        "import matplotlib.pyplot as plt\n",
        "# if using a Jupyter notebook, include:\n",
        "%matplotlib inline\n",
        "\n",
        "values = np.arange(-5,5,0.1)\n",
        "p_exp = np.sin(values)\n",
        "t_exp1 = [taylor(sin(x), 0, 1).subs(x,v) for v in values]\n",
        "t_exp2 = [taylor(sin(x), 0, 2).subs(x,v) for v in values]\n",
        "t_exp3 = [taylor(sin(x), 0, 3).subs(x,v) for v in values]\n",
        "t_exp4 = [taylor(sin(x), 0, 4).subs(x,v) for v in values]\n",
        "\n",
        "legends = ['sin(x) ','Taylor 0 (constant)','Taylor 1 (linear)','Taylor 2 (quadratic)','Taylor 3 (cubic)']\n",
        "\n",
        "\n",
        "fig, ax = plt.subplots()\n",
        "ax.plot(values,p_exp)\n",
        "ax.plot(values,t_exp1)\n",
        "ax.plot(values,t_exp2)\n",
        "ax.plot(values,t_exp3)\n",
        "ax.plot(values,t_exp4)\n",
        "\n",
        "ax.set_ylim([-5,5])\n",
        "ax.axhline(y=0.0, xmin=-5.0, xmax=5.0, color='black')\n",
        "ax.axvline(x=0.0, ymin=-10.0, ymax=10.0, color='black')\n",
        "ax.legend(legends)\n",
        "\n",
        "plt.show()"
      ],
      "execution_count": null,
      "outputs": [
        {
          "output_type": "display_data",
          "data": {
            "image/png": "[encoded data removed]",
            "text/plain": [
              "<Figure size 432x288 with 1 Axes>"
            ]
          },
          "metadata": {
            "needs_background": "light"
          }
        }
      ]
    }
  ]
}