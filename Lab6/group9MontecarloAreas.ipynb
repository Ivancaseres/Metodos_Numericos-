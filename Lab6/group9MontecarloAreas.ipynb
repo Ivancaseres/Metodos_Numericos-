{
  "nbformat": 4,
  "nbformat_minor": 0,
  "metadata": {
    "colab": {
      "name": "group9MontecarloAreas.ipynb",
      "provenance": [],
      "collapsed_sections": [],
      "include_colab_link": true
    },
    "kernelspec": {
      "name": "python3",
      "display_name": "Python 3"
    }
  },
  "cells": [
    {
      "cell_type": "markdown",
      "metadata": {
        "id": "view-in-github",
        "colab_type": "text"
      },
      "source": [
        "<a href=\"https://colab.research.google.com/github/icaseres/MetNumUN2021II/blob/main/Lab6/group9MontecarloAreas.ipynb\" target=\"_parent\"><img src=\"https://colab.research.google.com/assets/colab-badge.svg\" alt=\"Open In Colab\"/></a>"
      ]
    },
    {
      "cell_type": "markdown",
      "metadata": {
        "id": "RpSig_iWq7mF"
      },
      "source": [
        "# Monte Carlo Integration"
      ]
    },
    {
      "cell_type": "markdown",
      "metadata": {
        "id": "jr3pjzRb_FBW"
      },
      "source": [
        "**Integrating with Monte Carlo** \n",
        "[risk-engineering.org](https://risk-engineering.org/notebook/monte-carlo-LHS.html) \n",
        "\n",
        "Let’s start with a simple integration problem in 1D,\n",
        "\n",
        "$$\\int_0^\\pi sen^2x \\ dx$$\n",
        " \n",
        "This is easy to solve analytically, and we can use the SymPy library in case you’ve forgotten how to resolve simple integrals."
      ]
    },
    {
      "cell_type": "markdown",
      "metadata": {
        "id": "WptMQysjIMAF"
      },
      "source": [
        "**integrate(sin^2(x))**\n",
        "\n",
        "<img src=\"https://raw.githubusercontent.com/icaseres/MetNumUN2021II/main/Lab6/integral%201.PNG\" />"
      ]
    },
    {
      "cell_type": "markdown",
      "metadata": {
        "id": "ireFfliTJRNc"
      },
      "source": [
        "**integrate_{1}^{8}(sin^2(x))dx**\n",
        "\n",
        "\n",
        "<img src=\"https://raw.githubusercontent.com/icaseres/MetNumUN2021II/main/Lab6/LA%20Integral%202.PNG\" />\n",
        "\n"
      ]
    },
    {
      "cell_type": "markdown",
      "metadata": {
        "id": "LMyYehL-GehI"
      },
      "source": [
        "## Sympy symbolic integration\n",
        "* integrate https://docs.sympy.org/latest/modules/integrals/integrals.html \n",
        "* Symbol https://docs.sympy.org/latest/modules/core.html#symbol\n",
        "* cos https://docs.sympy.org/latest/modules/functions/elementary.html#cos \n",
        "* sin https://docs.sympy.org/latest/modules/functions/elementary.html#cos \n",
        "* pi https://docs.sympy.org/latest/modules/core.html#pi \n",
        "* Rational https://docs.sympy.org/latest/modules/core.html#rational \n",
        "* evaluate https://docs.sympy.org/latest/modules/evalf.html\n",
        "* basic operations https://docs.sympy.org/latest/tutorial/basic_operations.html"
      ]
    },
    {
      "cell_type": "code",
      "metadata": {
        "colab": {
          "base_uri": "https://localhost:8080/"
        },
        "id": "0sidLDww_II0",
        "outputId": "5da8bdd1-f870-4c65-a02e-cabf379e0f17"
      },
      "source": [
        "import sympy\n",
        "from sympy import sin, pi\n",
        "# we’ll save results using different methods in this data structure, called a dictionary\n",
        "result = {}  \n",
        "x = sympy.Symbol(\"x\")\n",
        "i = sympy.integrate(sin(x)**2)\n",
        "print(i)\n",
        "result[\"analytical\"] = float(i.subs(x, 8) - i.subs(x, 1))\n",
        "print(\"Analytical result: {}\".format(result[\"analytical\"]))"
      ],
      "execution_count": 1,
      "outputs": [
        {
          "output_type": "stream",
          "name": "stdout",
          "text": [
            "x/2 - sin(x)*cos(x)/2\n",
            "Analytical result: 3.7993001858726867\n"
          ]
        }
      ]
    },
    {
      "cell_type": "markdown",
      "metadata": {
        "id": "3y3QeaH4-tPk"
      },
      "source": [
        "\n",
        "We can estimate this integral using a standard Monte Carlo method, where we use the fact that the expectation of a random variable is related to its integral\n",
        "\n",
        "$$  \\int_I f(x) dx = \\mathbb{E}_I(f(x)) \\times volume(I)$$\n",
        "\n",
        "We will sample a large number N of points in I and calculate their average, and multiply by the range over which we are integrating.\n",
        "\n",
        "\n",
        "<img src=\"https://raw.githubusercontent.com/icaseres/MetNumUN2021II/main/Lab6/Grafica%20integral%202.jpg\" />\n",
        "\n",
        "Generate  $r_1,r_2,\\cdots, r_N$ random uniform random points in $[1,8]$ and evaluate the fucntion $f(x)=sin^2(x)$ in ecah random point $f_i = sin^2(r_i)$, calculate the  experimental average of the value fo the fucnction\n",
        "$$\n",
        "\\overline{f} = \\frac{1}{N} \\sum_{i=1}^{N} f_i = 544/10000 = 0.544\\cdots\n",
        "$$  \n",
        "The estimation of $\\mathbb{E}_I(f(x))$ is $\\overline{f} =0.544\\cdots$ and $volume(I)=(8-1)$ therefore the estimation integral is \n",
        "\n",
        "$$\n",
        "\\int_1^8 sin^2(x) \\ dx \\approx volume(I) \\times \\overline{f} = (8-1) \\times 0.544\\cdots = 3,808\\cdots\n",
        "$$ \n",
        "\n",
        "<img src=\"https://raw.githubusercontent.com/icaseres/MetNumUN2021II/main/Lab6/Grafica%20montecarlo%20integral%202.jpg\" />\n"
      ]
    },
    {
      "cell_type": "code",
      "metadata": {
        "colab": {
          "base_uri": "https://localhost:8080/"
        },
        "id": "53ek1IA5BBgm",
        "outputId": "0e7df12e-1765-4c17-9b7c-a440e10822e4"
      },
      "source": [
        "import numpy\n",
        "from sympy import sin, pi\n",
        "N = 1_000\n",
        "accum = 0\n",
        "for i in range(N):\n",
        "    x = numpy.random.uniform(1, 8)\n",
        "    accum += sin(x)**2\n",
        "print(accum)\n",
        "volume = 8 - 1\n",
        "result[\"MC\"] = volume * accum / float(N)\n",
        "print(\"Standard Monte Carlo result: {}\".format(result[\"MC\"]))"
      ],
      "execution_count": 2,
      "outputs": [
        {
          "output_type": "stream",
          "name": "stdout",
          "text": [
            "523.860064838313\n",
            "Standard Monte Carlo result: 3.66702045386819\n"
          ]
        }
      ]
    },
    {
      "cell_type": "markdown",
      "metadata": {
        "id": "422hM2DFf5X5"
      },
      "source": [
        "\n",
        "\n",
        "*   **integrate_{0}^{10} sin^2(x^3)x dx**\n",
        "\n",
        "\n",
        "![imagen.png](data:image/png;base64,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)"
      ]
    },
    {
      "cell_type": "code",
      "metadata": {
        "colab": {
          "base_uri": "https://localhost:8080/"
        },
        "id": "lBkLtmDUgJ98",
        "outputId": "57c9e506-ff7b-4343-c785-a5e224e47391"
      },
      "source": [
        "import sympy\n",
        "x = sympy.Symbol(\"x\")\n",
        "i = sympy.integrate(sympy.sin(x**3)**2 * x)\n",
        "print(i)\n",
        "print(float(i.subs(x, 10) - i.subs(x, 0)))"
      ],
      "execution_count": 3,
      "outputs": [
        {
          "output_type": "stream",
          "name": "stdout",
          "text": [
            "x**2*gamma(-4/3)*hyper((1/3,), (1/2, 4/3), -x**6)/(3*gamma(-1/3)) - x**2*gamma(-4/3)/(3*gamma(-1/3))\n",
            "24.92116242396744\n"
          ]
        }
      ]
    },
    {
      "cell_type": "code",
      "metadata": {
        "colab": {
          "base_uri": "https://localhost:8080/"
        },
        "id": "gO935ln9hP-5",
        "outputId": "bb66ec03-572f-4847-ea6a-d43b8dccb3cf"
      },
      "source": [
        "import numpy\n",
        "N = 100_000\n",
        "accum = 0\n",
        "l =[]\n",
        "for i in range(N):\n",
        "    x = numpy.random.uniform(0, 10)\n",
        "    accum += numpy.sin(x**3)**2 * x \n",
        "volume = 10 - 0\n",
        "result[\"MC\"] = volume * accum / float(N)\n",
        "print(\"Standard Monte Carlo result: {}\".format(result[\"MC\"]))"
      ],
      "execution_count": 4,
      "outputs": [
        {
          "output_type": "stream",
          "name": "stdout",
          "text": [
            "Standard Monte Carlo result: 25.098787746869792\n"
          ]
        }
      ]
    },
    {
      "cell_type": "markdown",
      "metadata": {
        "id": "Uhvph4WwDO59"
      },
      "source": [
        "# Monte Carlo Area Approximation"
      ]
    },
    {
      "cell_type": "markdown",
      "metadata": {
        "id": "YOtL54B6UGt1"
      },
      "source": [
        "\n",
        "\n",
        "![MontecarloAreas.png](https://raw.githubusercontent.com/gjhernandezp/algorithms/master/Montercarlo/MontecarloAreas.png)"
      ]
    },
    {
      "cell_type": "markdown",
      "metadata": {
        "id": "wrXAfjYGctWv"
      },
      "source": [
        "## Polar Curves - Brilliant\n",
        "\n",
        "* https://brilliant.org/wiki/polar-curves/\n",
        "\n",
        "![PolarCurvesBrilliant.png](https://raw.githubusercontent.com/gjhernandezp/algorithms/master/Montercarlo/PolarCurvesBrilliant.png)"
      ]
    },
    {
      "cell_type": "markdown",
      "metadata": {
        "id": "A3mMa58I9_K3"
      },
      "source": [
        "### Area inside of polar curve - UT Calculus\n",
        "\n",
        "* https://web.ma.utexas.edu/users/m408s/m408d/CurrentWeb/LM10-4-2.php\n",
        "\n",
        "![IntPolarCurvesUTCalculus.png](https://raw.githubusercontent.com/gjhernandezp/algorithms/master/Montercarlo/IntPolarCurvesUTCalculus.png)\n"
      ]
    },
    {
      "cell_type": "code",
      "metadata": {
        "id": "rDEG8d8kx2Ph"
      },
      "source": [
        "#icaseres"
      ],
      "execution_count": 5,
      "outputs": []
    },
    {
      "cell_type": "markdown",
      "metadata": {
        "id": "y3Y2Yd_fxjWo"
      },
      "source": [
        "# Plotting and Calculating the Area with Wolfram Alpha \n",
        "\n",
        "## polar r=1*cos4θ, θ in[0,2pi]\n",
        "![dd.png](https://github.com/icaseres/MetNumUN2021II/blob/main/Varios/dd.png?raw=true)\n",
        "#1/2 int_0^{2pi} (1*cos4θ)^2 dθ\n",
        "![ff.png](https://github.com/icaseres/MetNumUN2021II/blob/main/Varios/ff.png?raw=true)\n",
        "#area under 1/2 (1*cos4t)^ 2 for 0<t<2pi\n",
        "![gg.png](https://github.com/icaseres/MetNumUN2021II/blob/main/Varios/gg.png?raw=true)\n",
        "#1/2 integral(1*cosθ)^2 dθ\n",
        "![sdsd.png](https://github.com/icaseres/MetNumUN2021II/blob/main/Varios/sdsd.png?raw=true)"
      ]
    },
    {
      "cell_type": "markdown",
      "metadata": {
        "id": "nf1s2Cx7AERF"
      },
      "source": [
        "**Now the area inside the polar curve** $r= 5- \\tan(\\theta) \\cot(7\\theta)$"
      ]
    },
    {
      "cell_type": "code",
      "metadata": {
        "id": "IDPHc1k3BYZI"
      },
      "source": [
        "from sympy import integrate, Symbol, cos, sin,tan, cot, pi,  Rational\n",
        "\n",
        "theta = Symbol('theta')\n",
        "integrate((5- tan(theta)* cot(3*theta))**2)"
      ],
      "execution_count": null,
      "outputs": []
    },
    {
      "cell_type": "code",
      "metadata": {
        "id": "GrPW31bRDXGx"
      },
      "source": [
        "Rational(1,2) * integrate((1- cos(theta)* sin(3*theta))**2)"
      ],
      "execution_count": null,
      "outputs": []
    },
    {
      "cell_type": "code",
      "metadata": {
        "id": "bt5bnTfqCZPo"
      },
      "source": [
        "(Rational(1,2) * integrate((1- cos(theta)* sin(3*theta))**2)).subs(theta,2*pi)-(Rational(1,2) * integrate((1- cos(theta)* sin(3*theta))**2)).subs(theta,0)"
      ],
      "execution_count": null,
      "outputs": []
    },
    {
      "cell_type": "markdown",
      "metadata": {
        "id": "BpXs7O9tKWca"
      },
      "source": [
        "# Scipy numeric integration\n",
        "\n",
        "* intregrate.quad https://docs.scipy.org/doc/scipy/reference/tutorial/integrate.html"
      ]
    },
    {
      "cell_type": "code",
      "metadata": {
        "id": "e5KL47yDESsR"
      },
      "source": [
        "import scipy.integrate as integrate\n",
        "import math\n",
        "result = integrate.quad(lambda theta: ((1/2)*(1- (math.cos(theta)* math.sin(3*theta)))**2), 0, 2*math.pi)\n",
        "result"
      ],
      "execution_count": null,
      "outputs": []
    },
    {
      "cell_type": "markdown",
      "metadata": {
        "id": "mhzuydCorRnh"
      },
      "source": [
        "# Monte Carlo area approximation\n",
        "\n"
      ]
    },
    {
      "cell_type": "code",
      "metadata": {
        "id": "XEpaMt-HpV5i"
      },
      "source": [
        "import random \n",
        "import matplotlib.pyplot as plt\n",
        "import math\n",
        "\n",
        "n=10000\n",
        "count = 0\n",
        "xlist=[]\n",
        "ylist=[]\n",
        "clist=[]\n",
        "for i in range(n):\n",
        "  x=-2.0 + (4.0* random.random())\n",
        "  y=-2.0 + (4.0* random.random())\n",
        "  r = math.sqrt(x**2+y**2)\n",
        "  theta = math.atan(y/x)\n",
        "  c=1\n",
        "  if (r <  (math.cos(8*theta))):\n",
        "    count = count +1\n",
        "    c=0\n",
        "  xlist.append(x)\n",
        "  ylist.append(y)\n",
        "  clist.append(c)\n",
        "# Matplotlib Scatter: Exercise-3 with Solution https://www.w3resource.com/graphics/matplotlib/scatter/matplotlib-scatter-exercise-3.php\n",
        "# How can I set the aspect ratio in matplotlib?: https://stackoverflow.com/questions/7965743/how-can-i-set-the-aspect-ratio-in-matplotlib\n",
        "plt.figure()\n",
        "plt.scatter( xlist, ylist,  c=clist,  s=2.5)\n",
        "plt.axis([-2.0, 2.0, -2.0,2.0 ])\n",
        "plt.xlabel(\"x\")\n",
        "plt.ylabel(\"y\")\n",
        "plt.axes().set_aspect('equal')\n",
        "plt.show()\n",
        "print(\"Area approx:\",(count/float(n))*16)"
      ],
      "execution_count": null,
      "outputs": []
    },
    {
      "cell_type": "code",
      "metadata": {
        "id": "HWklN9aKzapw"
      },
      "source": [
        "import random \n",
        "import matplotlib.pyplot as plt\n",
        "import math\n",
        "\n",
        "n=1000000\n",
        "count = 0\n",
        "for i in range(n):\n",
        "  x=-2.0 + (4.0* random.random())\n",
        "  y=-2.0 + (4.0* random.random())\n",
        "  r = math.sqrt(x**2+y**2)\n",
        "  theta = math.atan(y/x)\n",
        "  if (r <  (math.cos(4*theta))):\n",
        "    count = count +1\n",
        "print(\"Area approx:\",(count/float(n))*16)"
      ],
      "execution_count": null,
      "outputs": []
    },
    {
      "cell_type": "markdown",
      "metadata": {
        "id": "rJgcH6so0V_1"
      },
      "source": [
        "Quasi-Monte Carlo\n",
        "\n",
        "Quasi-Monte Carlo has a rate of convergence close to O(1/N), whereas the rate for the Monte Carlo method is O(N^{−0.5}) - [wikipedia](https://en.wikipedia.org/wiki/Quasi-Monte_Carlo_method)\n",
        "\n",
        "Halton’s low discrepency sequences -Monte Carlo sampling methods - [risk-engineering.org](https://risk-engineering.org/notebook/monte-carlo-LHS.html)"
      ]
    },
    {
      "cell_type": "code",
      "metadata": {
        "id": "YlcjVOQ-0S6S"
      },
      "source": [
        "import matplotlib.pyplot as plt\n",
        "import numpy \n",
        "import math\n",
        "\n",
        "# adapted from https://mail.scipy.org/pipermail/scipy-user/2013-June/034744.html\n",
        "def halton(dim: int, nbpts: int):\n",
        "    h = numpy.full(nbpts * dim, numpy.nan)\n",
        "    p = numpy.full(nbpts, numpy.nan)\n",
        "    P = [2, 3, 5, 7, 11, 13, 17, 19, 23, 29, 31]\n",
        "    lognbpts = math.log(nbpts + 1)\n",
        "    for i in range(dim):\n",
        "        b = P[i]\n",
        "        n = int(math.ceil(lognbpts / math.log(b)))\n",
        "        for t in range(n):\n",
        "            p[t] = pow(b, -(t + 1))\n",
        "\n",
        "        for j in range(nbpts):\n",
        "            d = j + 1\n",
        "            sum_ = math.fmod(d, b) * p[0]\n",
        "            for t in range(1, n):\n",
        "                d = math.floor(d / b)\n",
        "                sum_ += math.fmod(d, b) * p[t]\n",
        "\n",
        "            h[j*dim + i] = sum_\n",
        "    return h.reshape(nbpts, dim)"
      ],
      "execution_count": null,
      "outputs": []
    },
    {
      "cell_type": "code",
      "metadata": {
        "id": "dFxqmCMD0oid"
      },
      "source": [
        "N = 100\n",
        "seq = halton(2, N)\n",
        "plt.title(\"2D Halton sequence\")\n",
        "# Note: we use \"alpha=0.5\" in the scatterplot so that the plotted points are semi-transparent\n",
        "# (alpha-transparency of 0.5 out of 1), so that we can see when any points are superimposed.\n",
        "plt.axes().set_aspect('equal')\n",
        "plt.scatter(seq[:,0], seq[:,1], marker=\".\", alpha=0.5);\n"
      ],
      "execution_count": null,
      "outputs": []
    },
    {
      "cell_type": "code",
      "metadata": {
        "id": "usI9Vm6y1L_m"
      },
      "source": [
        "N = 9000\n",
        "seq = halton(2, N)\n",
        "count = 0\n",
        "c=[]\n",
        "xlist=[]\n",
        "ylist=[]\n",
        "clist=[]\n",
        "for p in seq:\n",
        "  x=-2.0 + (4.0* p[0])\n",
        "  y=-2.0 + (4.0* p[1])\n",
        "  r = math.sqrt(x**2+y**2)\n",
        "  theta = math.atan(y/x)\n",
        "  c=1\n",
        "  if (r <  (math.cos(8*theta))):\n",
        "    count = count +1\n",
        "    c=0\n",
        "  xlist.append(x)\n",
        "  ylist.append(y)\n",
        "  clist.append(c)\n",
        "print(\"Area approx:\",(count/float(N))*16)\n",
        "plt.figure()\n",
        "plt.scatter( xlist, ylist,  c=clist,  s=2.5)\n",
        "plt.axis([-2.0, 2.0, -2.0, 2.0])\n",
        "plt.xlabel(\"x\")\n",
        "plt.ylabel(\"y\")\n",
        "plt.axes().set_aspect('equal')\n",
        "plt.show()\n",
        "print(\"Area approx:\",(count/float(N))*16)\n"
      ],
      "execution_count": null,
      "outputs": []
    },
    {
      "cell_type": "code",
      "metadata": {
        "id": "QD379ev54GnV"
      },
      "source": [
        "N = 1000000\n",
        "seq = halton(2, N)\n",
        "count = 0\n",
        "for p in seq:\n",
        "  x=-2.0 + (4.0* p[0])\n",
        "  y=-2.0 + (4.0* p[1])\n",
        "  r = math.sqrt(x**2+y**2)\n",
        "  theta = math.atan(y/x)\n",
        "  if (r <  (math.cos(8*theta))):\n",
        "    count = count +1\n",
        "print(\"Area approx:\",(count/float(N))*16)"
      ],
      "execution_count": null,
      "outputs": []
    },
    {
      "cell_type": "markdown",
      "metadata": {
        "id": "Y2lRsUmHDf7t"
      },
      "source": [
        "**A higher dimensional integral** [risk-engineering.org](https://risk-engineering.org/notebook/monte-carlo-LHS.html) \n",
        "\n",
        "\n",
        "Let us now analyze an integration problem in dimension 4, the Ishigami function. This is a well-known function in numerical optimization and stochastic analysis, because it is very highly non-linear."
      ]
    },
    {
      "cell_type": "code",
      "metadata": {
        "id": "pEkK5fq09f43"
      },
      "source": [
        "import sympy\n",
        "\n",
        "x1 = sympy.Symbol(\"x1\")\n",
        "x2 = sympy.Symbol(\"x2\")\n",
        "x3 = sympy.Symbol(\"x3\")\n",
        "expr = sympy.cos(x1) + 6*sympy.sin(x2)**2 + 0.2 * x3**3 * sympy.cos(x1)\n",
        "res = sympy.integrate(expr,\n",
        "                      (x1, -sympy.pi, sympy.pi),\n",
        "                      (x2, -sympy.pi, sympy.pi),\n",
        "                      (x3, -sympy.pi, sympy.pi))\n",
        "# Note: we use float(res) to convert res from symbolic form to floating point form\n",
        "result = {} \n",
        "result[\"analytical\"] = float(res)\n",
        "print(\"Analytical result: {}\".format(result[\"analytical\"]))"
      ],
      "execution_count": null,
      "outputs": []
    },
    {
      "cell_type": "code",
      "metadata": {
        "id": "YZq9nH0QDmn1"
      },
      "source": [
        "N = 10_000\n",
        "accum = 0\n",
        "for i in range(N):\n",
        "    xx1 = numpy.random.uniform(-numpy.pi, numpy.pi)\n",
        "    xx2 = numpy.random.uniform(-numpy.pi, numpy.pi)\n",
        "    xx3 = numpy.random.uniform(-numpy.pi, numpy.pi)\n",
        "    accum += numpy.cos(xx1) + 6*numpy.sin(xx2)**2 + 0.2 * x3**3 * numpy.cos(xx1)\n",
        "volume = (2 * numpy.pi)**3\n",
        "result = {} \n",
        "result[\"MC\"] = volume * accum / float(N)\n",
        "print(\"Standard Monte Carlo result: {}\".format(result[\"MC\"]))"
      ],
      "execution_count": null,
      "outputs": []
    }
  ]
}